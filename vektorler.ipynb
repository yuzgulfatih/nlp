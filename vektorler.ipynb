{
 "cells": [
  {
   "attachments": {},
   "cell_type": "markdown",
   "id": "7a176bb9-34a2-4fc5-a5b3-8a890b52c525",
   "metadata": {},
   "source": [
    "# BAG OF WORD"
   ]
  },
  {
   "cell_type": "code",
   "execution_count": 1,
   "id": "f394ce7c-4bb2-4d3a-b6ba-ede2e9daec07",
   "metadata": {},
   "outputs": [],
   "source": [
    "from sklearn.feature_extraction.text import CountVectorizer\n",
    "from sklearn.feature_extraction.text import TfidfVectorizer"
   ]
  },
  {
   "cell_type": "code",
   "execution_count": 2,
   "id": "588dd9f7",
   "metadata": {},
   "outputs": [],
   "source": [
    "import pandas as pd"
   ]
  },
  {
   "cell_type": "code",
   "execution_count": 3,
   "id": "94b92c81",
   "metadata": {},
   "outputs": [
    {
     "data": {
      "text/html": [
       "<div>\n",
       "<style scoped>\n",
       "    .dataframe tbody tr th:only-of-type {\n",
       "        vertical-align: middle;\n",
       "    }\n",
       "\n",
       "    .dataframe tbody tr th {\n",
       "        vertical-align: top;\n",
       "    }\n",
       "\n",
       "    .dataframe thead th {\n",
       "        text-align: right;\n",
       "    }\n",
       "</style>\n",
       "<table border=\"1\" class=\"dataframe\">\n",
       "  <thead>\n",
       "    <tr style=\"text-align: right;\">\n",
       "      <th></th>\n",
       "      <th>Text</th>\n",
       "    </tr>\n",
       "  </thead>\n",
       "  <tbody>\n",
       "    <tr>\n",
       "      <th>0</th>\n",
       "      <td>Yapay Zeka Nedir, Ne İşe Yarar?\\n\\nYapay zeka ...</td>\n",
       "    </tr>\n",
       "    <tr>\n",
       "      <th>1</th>\n",
       "      <td>🔎 Verilerinizi analiz edin: \\nChatGPT'yi kulla...</td>\n",
       "    </tr>\n",
       "    <tr>\n",
       "      <th>2</th>\n",
       "      <td>Öncelikle yapay zekanın ne olduğunu, #dijitala...</td>\n",
       "    </tr>\n",
       "    <tr>\n",
       "      <th>3</th>\n",
       "      <td>9. Baidu Research: Çin'in önde gelen arama mot...</td>\n",
       "    </tr>\n",
       "    <tr>\n",
       "      <th>4</th>\n",
       "      <td>4. Microsoft AI: Microsoft'un yapay zeka tekno...</td>\n",
       "    </tr>\n",
       "  </tbody>\n",
       "</table>\n",
       "</div>"
      ],
      "text/plain": [
       "                                                Text\n",
       "0  Yapay Zeka Nedir, Ne İşe Yarar?\\n\\nYapay zeka ...\n",
       "1  🔎 Verilerinizi analiz edin: \\nChatGPT'yi kulla...\n",
       "2  Öncelikle yapay zekanın ne olduğunu, #dijitala...\n",
       "3  9. Baidu Research: Çin'in önde gelen arama mot...\n",
       "4  4. Microsoft AI: Microsoft'un yapay zeka tekno..."
      ]
     },
     "execution_count": 3,
     "metadata": {},
     "output_type": "execute_result"
    }
   ],
   "source": [
    "df = pd.read_csv(\"data/nlp.csv\" , index_col=0)\n",
    "df.head()"
   ]
  },
  {
   "cell_type": "code",
   "execution_count": 4,
   "id": "83b6d912",
   "metadata": {},
   "outputs": [],
   "source": [
    "import on_islem"
   ]
  },
  {
   "cell_type": "code",
   "execution_count": 5,
   "id": "2071b640",
   "metadata": {},
   "outputs": [
    {
     "data": {
      "text/html": [
       "<div>\n",
       "<style scoped>\n",
       "    .dataframe tbody tr th:only-of-type {\n",
       "        vertical-align: middle;\n",
       "    }\n",
       "\n",
       "    .dataframe tbody tr th {\n",
       "        vertical-align: top;\n",
       "    }\n",
       "\n",
       "    .dataframe thead th {\n",
       "        text-align: right;\n",
       "    }\n",
       "</style>\n",
       "<table border=\"1\" class=\"dataframe\">\n",
       "  <thead>\n",
       "    <tr style=\"text-align: right;\">\n",
       "      <th></th>\n",
       "      <th>Text</th>\n",
       "      <th>Text_2</th>\n",
       "    </tr>\n",
       "  </thead>\n",
       "  <tbody>\n",
       "    <tr>\n",
       "      <th>0</th>\n",
       "      <td>Yapay Zeka Nedir, Ne İşe Yarar?\\n\\nYapay zeka ...</td>\n",
       "      <td>[yapay, zeka, nedir, işe, yarar, yapay, zeka, ...</td>\n",
       "    </tr>\n",
       "    <tr>\n",
       "      <th>1</th>\n",
       "      <td>🔎 Verilerinizi analiz edin: \\nChatGPT'yi kulla...</td>\n",
       "      <td>[veri, analiz, edin, chatgptyi, kullanarak, do...</td>\n",
       "    </tr>\n",
       "    <tr>\n",
       "      <th>2</th>\n",
       "      <td>Öncelikle yapay zekanın ne olduğunu, #dijitala...</td>\n",
       "      <td>[öncelik, yapay, zeka, olduğunu, iç, önemli, o...</td>\n",
       "    </tr>\n",
       "    <tr>\n",
       "      <th>3</th>\n",
       "      <td>9. Baidu Research: Çin'in önde gelen arama mot...</td>\n",
       "      <td>[baidu, research, çin, ön, gele, ara, motor, b...</td>\n",
       "    </tr>\n",
       "    <tr>\n",
       "      <th>4</th>\n",
       "      <td>4. Microsoft AI: Microsoft'un yapay zeka tekno...</td>\n",
       "      <td>[microsoft, ai, microsoft, yapay, zeka, teknol...</td>\n",
       "    </tr>\n",
       "  </tbody>\n",
       "</table>\n",
       "</div>"
      ],
      "text/plain": [
       "                                                Text   \n",
       "0  Yapay Zeka Nedir, Ne İşe Yarar?\\n\\nYapay zeka ...  \\\n",
       "1  🔎 Verilerinizi analiz edin: \\nChatGPT'yi kulla...   \n",
       "2  Öncelikle yapay zekanın ne olduğunu, #dijitala...   \n",
       "3  9. Baidu Research: Çin'in önde gelen arama mot...   \n",
       "4  4. Microsoft AI: Microsoft'un yapay zeka tekno...   \n",
       "\n",
       "                                              Text_2  \n",
       "0  [yapay, zeka, nedir, işe, yarar, yapay, zeka, ...  \n",
       "1  [veri, analiz, edin, chatgptyi, kullanarak, do...  \n",
       "2  [öncelik, yapay, zeka, olduğunu, iç, önemli, o...  \n",
       "3  [baidu, research, çin, ön, gele, ara, motor, b...  \n",
       "4  [microsoft, ai, microsoft, yapay, zeka, teknol...  "
      ]
     },
     "execution_count": 5,
     "metadata": {},
     "output_type": "execute_result"
    }
   ],
   "source": [
    "df[\"Text_2\"] = df[\"Text\"].apply(on_islem.pre_processing)\n",
    "df[\"Text_2\"] = df[\"Text_2\"].apply(on_islem.remove_space)\n",
    "df.head()"
   ]
  },
  {
   "cell_type": "code",
   "execution_count": 6,
   "id": "5ae6701a",
   "metadata": {},
   "outputs": [
    {
     "data": {
      "text/html": [
       "<div>\n",
       "<style scoped>\n",
       "    .dataframe tbody tr th:only-of-type {\n",
       "        vertical-align: middle;\n",
       "    }\n",
       "\n",
       "    .dataframe tbody tr th {\n",
       "        vertical-align: top;\n",
       "    }\n",
       "\n",
       "    .dataframe thead th {\n",
       "        text-align: right;\n",
       "    }\n",
       "</style>\n",
       "<table border=\"1\" class=\"dataframe\">\n",
       "  <thead>\n",
       "    <tr style=\"text-align: right;\">\n",
       "      <th></th>\n",
       "      <th>Text</th>\n",
       "      <th>Text_2</th>\n",
       "    </tr>\n",
       "  </thead>\n",
       "  <tbody>\n",
       "    <tr>\n",
       "      <th>194</th>\n",
       "      <td>#hesaplamalısosyalbilimler #computationalsocia...</td>\n",
       "      <td>[]</td>\n",
       "    </tr>\n",
       "    <tr>\n",
       "      <th>464</th>\n",
       "      <td>#investment #software #technology #tech #innov...</td>\n",
       "      <td>[]</td>\n",
       "    </tr>\n",
       "    <tr>\n",
       "      <th>544</th>\n",
       "      <td>@barolar #ImageRecognition #SınırlıHafıza #Lim...</td>\n",
       "      <td>[]</td>\n",
       "    </tr>\n",
       "  </tbody>\n",
       "</table>\n",
       "</div>"
      ],
      "text/plain": [
       "                                                  Text Text_2\n",
       "194  #hesaplamalısosyalbilimler #computationalsocia...     []\n",
       "464  #investment #software #technology #tech #innov...     []\n",
       "544  @barolar #ImageRecognition #SınırlıHafıza #Lim...     []"
      ]
     },
     "execution_count": 6,
     "metadata": {},
     "output_type": "execute_result"
    }
   ],
   "source": [
    "#boş liste kontrolü\n",
    "df[df[\"Text_2\"].str[0].isnull()]"
   ]
  },
  {
   "cell_type": "code",
   "execution_count": 7,
   "id": "fe5ca938",
   "metadata": {},
   "outputs": [
    {
     "data": {
      "text/html": [
       "<div>\n",
       "<style scoped>\n",
       "    .dataframe tbody tr th:only-of-type {\n",
       "        vertical-align: middle;\n",
       "    }\n",
       "\n",
       "    .dataframe tbody tr th {\n",
       "        vertical-align: top;\n",
       "    }\n",
       "\n",
       "    .dataframe thead th {\n",
       "        text-align: right;\n",
       "    }\n",
       "</style>\n",
       "<table border=\"1\" class=\"dataframe\">\n",
       "  <thead>\n",
       "    <tr style=\"text-align: right;\">\n",
       "      <th></th>\n",
       "      <th>Text</th>\n",
       "      <th>Text_2</th>\n",
       "    </tr>\n",
       "  </thead>\n",
       "  <tbody>\n",
       "  </tbody>\n",
       "</table>\n",
       "</div>"
      ],
      "text/plain": [
       "Empty DataFrame\n",
       "Columns: [Text, Text_2]\n",
       "Index: []"
      ]
     },
     "execution_count": 7,
     "metadata": {},
     "output_type": "execute_result"
    }
   ],
   "source": [
    "df_index = df[df[\"Text_2\"].str[0].isnull()].index\n",
    "df = df.drop(df_index)\n",
    "df = df.reset_index()\n",
    "del df[\"index\"]\n",
    "df[df[\"Text_2\"].str[0].isnull()]\n"
   ]
  },
  {
   "cell_type": "code",
   "execution_count": 9,
   "id": "0bd06edc",
   "metadata": {},
   "outputs": [
    {
     "data": {
      "text/plain": [
       "0      [yapay, zeka, nedir, işe, yarar, yapay, zeka, ...\n",
       "1      [veri, analiz, edin, chatgptyi, kullanarak, do...\n",
       "2      [öncelik, yapay, zeka, olduğunu, iç, önemli, o...\n",
       "3      [baidu, research, çin, ön, gele, ara, motor, b...\n",
       "4      [microsoft, ai, microsoft, yapay, zeka, teknol...\n",
       "                             ...                        \n",
       "850    [doğal, dil, işle, alan, yük, lisansdoktor, ya...\n",
       "851                                   [dogal, dil, isle]\n",
       "852    [bir, ver, madencilik, doğal, dil, işle, uygul...\n",
       "853    [doğal, dil, işleme, il, ilgil, deney, ola, ya...\n",
       "854    [hafta, öğrencilik, hayat, kaldık, yer, deva, ...\n",
       "Name: Text_2, Length: 855, dtype: object"
      ]
     },
     "execution_count": 9,
     "metadata": {},
     "output_type": "execute_result"
    }
   ],
   "source": [
    "df[\"Text_2\"]"
   ]
  },
  {
   "cell_type": "code",
   "execution_count": 8,
   "id": "5125220c",
   "metadata": {},
   "outputs": [
    {
     "data": {
      "text/html": [
       "<div>\n",
       "<style scoped>\n",
       "    .dataframe tbody tr th:only-of-type {\n",
       "        vertical-align: middle;\n",
       "    }\n",
       "\n",
       "    .dataframe tbody tr th {\n",
       "        vertical-align: top;\n",
       "    }\n",
       "\n",
       "    .dataframe thead th {\n",
       "        text-align: right;\n",
       "    }\n",
       "</style>\n",
       "<table border=\"1\" class=\"dataframe\">\n",
       "  <thead>\n",
       "    <tr style=\"text-align: right;\">\n",
       "      <th></th>\n",
       "      <th>Text</th>\n",
       "      <th>Text_2</th>\n",
       "      <th>Text_3</th>\n",
       "    </tr>\n",
       "  </thead>\n",
       "  <tbody>\n",
       "    <tr>\n",
       "      <th>0</th>\n",
       "      <td>Yapay Zeka Nedir, Ne İşe Yarar?\\n\\nYapay zeka ...</td>\n",
       "      <td>[yapay, zeka, nedir, işe, yarar, yapay, zeka, ...</td>\n",
       "      <td>yapay zeka nedir işe yarar yapay zeka yz bilgi...</td>\n",
       "    </tr>\n",
       "    <tr>\n",
       "      <th>1</th>\n",
       "      <td>🔎 Verilerinizi analiz edin: \\nChatGPT'yi kulla...</td>\n",
       "      <td>[veri, analiz, edin, chatgptyi, kullanarak, do...</td>\n",
       "      <td>veri analiz edin chatgptyi kullanarak doğal di...</td>\n",
       "    </tr>\n",
       "    <tr>\n",
       "      <th>2</th>\n",
       "      <td>Öncelikle yapay zekanın ne olduğunu, #dijitala...</td>\n",
       "      <td>[öncelik, yapay, zeka, olduğunu, iç, önemli, o...</td>\n",
       "      <td>öncelik yapay zeka olduğunu iç önemli olduk kı...</td>\n",
       "    </tr>\n",
       "    <tr>\n",
       "      <th>3</th>\n",
       "      <td>9. Baidu Research: Çin'in önde gelen arama mot...</td>\n",
       "      <td>[baidu, research, çin, ön, gele, ara, motor, b...</td>\n",
       "      <td>baidu research çin ön gele ara motor baidun ar...</td>\n",
       "    </tr>\n",
       "    <tr>\n",
       "      <th>4</th>\n",
       "      <td>4. Microsoft AI: Microsoft'un yapay zeka tekno...</td>\n",
       "      <td>[microsoft, ai, microsoft, yapay, zeka, teknol...</td>\n",
       "      <td>microsoft ai microsoft yapay zeka teknoloji od...</td>\n",
       "    </tr>\n",
       "    <tr>\n",
       "      <th>...</th>\n",
       "      <td>...</td>\n",
       "      <td>...</td>\n",
       "      <td>...</td>\n",
       "    </tr>\n",
       "    <tr>\n",
       "      <th>850</th>\n",
       "      <td>doğal dil işleme alanında yüksek lisans-doktor...</td>\n",
       "      <td>[doğal, dil, işle, alan, yük, lisansdoktor, ya...</td>\n",
       "      <td>doğal dil işle alan yük lisansdoktor yapa danı...</td>\n",
       "    </tr>\n",
       "    <tr>\n",
       "      <th>851</th>\n",
       "      <td>dogal dil isleme şeyleri</td>\n",
       "      <td>[dogal, dil, isle]</td>\n",
       "      <td>dogal dil isle</td>\n",
       "    </tr>\n",
       "    <tr>\n",
       "      <th>852</th>\n",
       "      <td>Bir veri madenciliği ve doğal dil işleme uygul...</td>\n",
       "      <td>[ver, madencilik, doğal, dil, işle, uygulamas]</td>\n",
       "      <td>ver madencilik doğal dil işle uygulamas</td>\n",
       "    </tr>\n",
       "    <tr>\n",
       "      <th>853</th>\n",
       "      <td>\"Doğal dil işleme\" ile ilgili deneyimi olan ya...</td>\n",
       "      <td>[doğal, dil, işleme, il, ilgil, deney, ola, ya...</td>\n",
       "      <td>doğal dil işleme il ilgil deney ola yazılımcı ...</td>\n",
       "    </tr>\n",
       "    <tr>\n",
       "      <th>854</th>\n",
       "      <td>Haftaya öğrencilik hayatıma kaldığım yerden de...</td>\n",
       "      <td>[hafta, öğrencilik, hayat, kaldık, yer, deva, ...</td>\n",
       "      <td>hafta öğrencilik hayat kaldık yer deva ediyoru...</td>\n",
       "    </tr>\n",
       "  </tbody>\n",
       "</table>\n",
       "<p>855 rows × 3 columns</p>\n",
       "</div>"
      ],
      "text/plain": [
       "                                                  Text   \n",
       "0    Yapay Zeka Nedir, Ne İşe Yarar?\\n\\nYapay zeka ...  \\\n",
       "1    🔎 Verilerinizi analiz edin: \\nChatGPT'yi kulla...   \n",
       "2    Öncelikle yapay zekanın ne olduğunu, #dijitala...   \n",
       "3    9. Baidu Research: Çin'in önde gelen arama mot...   \n",
       "4    4. Microsoft AI: Microsoft'un yapay zeka tekno...   \n",
       "..                                                 ...   \n",
       "850  doğal dil işleme alanında yüksek lisans-doktor...   \n",
       "851                           dogal dil isleme şeyleri   \n",
       "852  Bir veri madenciliği ve doğal dil işleme uygul...   \n",
       "853  \"Doğal dil işleme\" ile ilgili deneyimi olan ya...   \n",
       "854  Haftaya öğrencilik hayatıma kaldığım yerden de...   \n",
       "\n",
       "                                                Text_2   \n",
       "0    [yapay, zeka, nedir, işe, yarar, yapay, zeka, ...  \\\n",
       "1    [veri, analiz, edin, chatgptyi, kullanarak, do...   \n",
       "2    [öncelik, yapay, zeka, olduğunu, iç, önemli, o...   \n",
       "3    [baidu, research, çin, ön, gele, ara, motor, b...   \n",
       "4    [microsoft, ai, microsoft, yapay, zeka, teknol...   \n",
       "..                                                 ...   \n",
       "850  [doğal, dil, işle, alan, yük, lisansdoktor, ya...   \n",
       "851                                 [dogal, dil, isle]   \n",
       "852     [ver, madencilik, doğal, dil, işle, uygulamas]   \n",
       "853  [doğal, dil, işleme, il, ilgil, deney, ola, ya...   \n",
       "854  [hafta, öğrencilik, hayat, kaldık, yer, deva, ...   \n",
       "\n",
       "                                                Text_3  \n",
       "0    yapay zeka nedir işe yarar yapay zeka yz bilgi...  \n",
       "1    veri analiz edin chatgptyi kullanarak doğal di...  \n",
       "2    öncelik yapay zeka olduğunu iç önemli olduk kı...  \n",
       "3    baidu research çin ön gele ara motor baidun ar...  \n",
       "4    microsoft ai microsoft yapay zeka teknoloji od...  \n",
       "..                                                 ...  \n",
       "850  doğal dil işle alan yük lisansdoktor yapa danı...  \n",
       "851                                     dogal dil isle  \n",
       "852            ver madencilik doğal dil işle uygulamas  \n",
       "853  doğal dil işleme il ilgil deney ola yazılımcı ...  \n",
       "854  hafta öğrencilik hayat kaldık yer deva ediyoru...  \n",
       "\n",
       "[855 rows x 3 columns]"
      ]
     },
     "execution_count": 8,
     "metadata": {},
     "output_type": "execute_result"
    }
   ],
   "source": [
    "df[\"Text_3\"] = [' '.join(w for w in item) for item in df[\"Text_2\"]]\n",
    "df"
   ]
  },
  {
   "cell_type": "code",
   "execution_count": 12,
   "id": "db07cae0",
   "metadata": {},
   "outputs": [
    {
     "data": {
      "text/plain": [
       "<855x4788 sparse matrix of type '<class 'numpy.int64'>'\n",
       "\twith 17456 stored elements in Compressed Sparse Row format>"
      ]
     },
     "execution_count": 12,
     "metadata": {},
     "output_type": "execute_result"
    }
   ],
   "source": [
    "vectorizer = CountVectorizer()\n",
    "X = vectorizer.fit_transform(df[\"Text_3\"].to_list())\n",
    "X"
   ]
  },
  {
   "cell_type": "code",
   "execution_count": 13,
   "id": "691494a4",
   "metadata": {},
   "outputs": [
    {
     "data": {
      "text/html": [
       "<div>\n",
       "<style scoped>\n",
       "    .dataframe tbody tr th:only-of-type {\n",
       "        vertical-align: middle;\n",
       "    }\n",
       "\n",
       "    .dataframe tbody tr th {\n",
       "        vertical-align: top;\n",
       "    }\n",
       "\n",
       "    .dataframe thead th {\n",
       "        text-align: right;\n",
       "    }\n",
       "</style>\n",
       "<table border=\"1\" class=\"dataframe\">\n",
       "  <thead>\n",
       "    <tr style=\"text-align: right;\">\n",
       "      <th></th>\n",
       "      <th>Text</th>\n",
       "      <th>Text_2</th>\n",
       "      <th>Text_3</th>\n",
       "      <th>Text_4</th>\n",
       "    </tr>\n",
       "  </thead>\n",
       "  <tbody>\n",
       "    <tr>\n",
       "      <th>0</th>\n",
       "      <td>Yapay Zeka Nedir, Ne İşe Yarar?\\n\\nYapay zeka ...</td>\n",
       "      <td>[yapay, zeka, nedir, işe, yarar, yapay, zeka, ...</td>\n",
       "      <td>yapay zeka nedir işe yarar yapay zeka yz bilgi...</td>\n",
       "      <td>[0, 0, 0, 0, 0, 0, 0, 0, 0, 0, 0, 0, 0, 0, 0, ...</td>\n",
       "    </tr>\n",
       "    <tr>\n",
       "      <th>1</th>\n",
       "      <td>🔎 Verilerinizi analiz edin: \\nChatGPT'yi kulla...</td>\n",
       "      <td>[veri, analiz, edin, chatgptyi, kullanarak, do...</td>\n",
       "      <td>veri analiz edin chatgptyi kullanarak doğal di...</td>\n",
       "      <td>[0, 0, 0, 0, 0, 0, 0, 0, 0, 0, 0, 0, 0, 0, 0, ...</td>\n",
       "    </tr>\n",
       "    <tr>\n",
       "      <th>2</th>\n",
       "      <td>Öncelikle yapay zekanın ne olduğunu, #dijitala...</td>\n",
       "      <td>[öncelik, yapay, zeka, olduğunu, iç, önemli, o...</td>\n",
       "      <td>öncelik yapay zeka olduğunu iç önemli olduk kı...</td>\n",
       "      <td>[0, 0, 0, 0, 0, 0, 0, 0, 0, 0, 0, 0, 0, 0, 0, ...</td>\n",
       "    </tr>\n",
       "    <tr>\n",
       "      <th>3</th>\n",
       "      <td>9. Baidu Research: Çin'in önde gelen arama mot...</td>\n",
       "      <td>[baidu, research, çin, ön, gele, ara, motor, b...</td>\n",
       "      <td>baidu research çin ön gele ara motor baidun ar...</td>\n",
       "      <td>[0, 0, 0, 0, 0, 0, 0, 0, 0, 0, 0, 0, 0, 0, 0, ...</td>\n",
       "    </tr>\n",
       "    <tr>\n",
       "      <th>4</th>\n",
       "      <td>4. Microsoft AI: Microsoft'un yapay zeka tekno...</td>\n",
       "      <td>[microsoft, ai, microsoft, yapay, zeka, teknol...</td>\n",
       "      <td>microsoft ai microsoft yapay zeka teknoloji od...</td>\n",
       "      <td>[0, 0, 0, 0, 0, 0, 0, 0, 0, 0, 0, 0, 0, 0, 0, ...</td>\n",
       "    </tr>\n",
       "  </tbody>\n",
       "</table>\n",
       "</div>"
      ],
      "text/plain": [
       "                                                Text   \n",
       "0  Yapay Zeka Nedir, Ne İşe Yarar?\\n\\nYapay zeka ...  \\\n",
       "1  🔎 Verilerinizi analiz edin: \\nChatGPT'yi kulla...   \n",
       "2  Öncelikle yapay zekanın ne olduğunu, #dijitala...   \n",
       "3  9. Baidu Research: Çin'in önde gelen arama mot...   \n",
       "4  4. Microsoft AI: Microsoft'un yapay zeka tekno...   \n",
       "\n",
       "                                              Text_2   \n",
       "0  [yapay, zeka, nedir, işe, yarar, yapay, zeka, ...  \\\n",
       "1  [veri, analiz, edin, chatgptyi, kullanarak, do...   \n",
       "2  [öncelik, yapay, zeka, olduğunu, iç, önemli, o...   \n",
       "3  [baidu, research, çin, ön, gele, ara, motor, b...   \n",
       "4  [microsoft, ai, microsoft, yapay, zeka, teknol...   \n",
       "\n",
       "                                              Text_3   \n",
       "0  yapay zeka nedir işe yarar yapay zeka yz bilgi...  \\\n",
       "1  veri analiz edin chatgptyi kullanarak doğal di...   \n",
       "2  öncelik yapay zeka olduğunu iç önemli olduk kı...   \n",
       "3  baidu research çin ön gele ara motor baidun ar...   \n",
       "4  microsoft ai microsoft yapay zeka teknoloji od...   \n",
       "\n",
       "                                              Text_4  \n",
       "0  [0, 0, 0, 0, 0, 0, 0, 0, 0, 0, 0, 0, 0, 0, 0, ...  \n",
       "1  [0, 0, 0, 0, 0, 0, 0, 0, 0, 0, 0, 0, 0, 0, 0, ...  \n",
       "2  [0, 0, 0, 0, 0, 0, 0, 0, 0, 0, 0, 0, 0, 0, 0, ...  \n",
       "3  [0, 0, 0, 0, 0, 0, 0, 0, 0, 0, 0, 0, 0, 0, 0, ...  \n",
       "4  [0, 0, 0, 0, 0, 0, 0, 0, 0, 0, 0, 0, 0, 0, 0, ...  "
      ]
     },
     "execution_count": 13,
     "metadata": {},
     "output_type": "execute_result"
    }
   ],
   "source": [
    "df[\"Text_4\"] = X.toarray().tolist()\n",
    "df.head()"
   ]
  },
  {
   "cell_type": "code",
   "execution_count": 14,
   "id": "c3ae812d",
   "metadata": {},
   "outputs": [
    {
     "data": {
      "text/plain": [
       "{0, 1, 2, 3, 4}"
      ]
     },
     "execution_count": 14,
     "metadata": {},
     "output_type": "execute_result"
    }
   ],
   "source": [
    "set(X.toarray()[0].tolist())"
   ]
  },
  {
   "cell_type": "code",
   "execution_count": null,
   "id": "7f09afac",
   "metadata": {},
   "outputs": [],
   "source": [
    "vectorizer.vocabulary_.keys()"
   ]
  },
  {
   "attachments": {},
   "cell_type": "markdown",
   "id": "be44769c",
   "metadata": {},
   "source": [
    "# TF-IDF"
   ]
  },
  {
   "cell_type": "code",
   "execution_count": 18,
   "id": "26a889d4",
   "metadata": {},
   "outputs": [],
   "source": [
    "vectorizer = TfidfVectorizer()\n",
    "X = vectorizer.fit_transform(df[\"Text_3\"].to_list())"
   ]
  },
  {
   "cell_type": "code",
   "execution_count": 19,
   "id": "8e16fa71",
   "metadata": {},
   "outputs": [
    {
     "data": {
      "text/plain": [
       "{0.0,\n",
       " 0.03500759179702849,\n",
       " 0.03677283901536852,\n",
       " 0.06472696269814598,\n",
       " 0.12291200612432977,\n",
       " 0.12844811229883799,\n",
       " 0.12912384991877654,\n",
       " 0.1490582289900944,\n",
       " 0.15299782119091604,\n",
       " 0.15442134983491718,\n",
       " 0.1559081668129388,\n",
       " 0.1665597672615569,\n",
       " 0.17350486268642254,\n",
       " 0.17618212113137605,\n",
       " 0.18974406720201684,\n",
       " 0.19936642107183603,\n",
       " 0.20537925821834893,\n",
       " 0.21292836714247682,\n",
       " 0.221860437339642,\n",
       " 0.22255072101229598,\n",
       " 0.2361126670829368,\n",
       " 0.3155663579217176}"
      ]
     },
     "execution_count": 19,
     "metadata": {},
     "output_type": "execute_result"
    }
   ],
   "source": [
    "set(X.toarray()[0])"
   ]
  },
  {
   "cell_type": "code",
   "execution_count": 20,
   "id": "db191405",
   "metadata": {},
   "outputs": [
    {
     "data": {
      "text/html": [
       "<div>\n",
       "<style scoped>\n",
       "    .dataframe tbody tr th:only-of-type {\n",
       "        vertical-align: middle;\n",
       "    }\n",
       "\n",
       "    .dataframe tbody tr th {\n",
       "        vertical-align: top;\n",
       "    }\n",
       "\n",
       "    .dataframe thead th {\n",
       "        text-align: right;\n",
       "    }\n",
       "</style>\n",
       "<table border=\"1\" class=\"dataframe\">\n",
       "  <thead>\n",
       "    <tr style=\"text-align: right;\">\n",
       "      <th></th>\n",
       "      <th>Text</th>\n",
       "      <th>Text_2</th>\n",
       "      <th>Text_3</th>\n",
       "      <th>Text_4</th>\n",
       "      <th>Text_5</th>\n",
       "    </tr>\n",
       "  </thead>\n",
       "  <tbody>\n",
       "    <tr>\n",
       "      <th>0</th>\n",
       "      <td>Yapay Zeka Nedir, Ne İşe Yarar?\\n\\nYapay zeka ...</td>\n",
       "      <td>[yapay, zeka, nedir, işe, yarar, yapay, zeka, ...</td>\n",
       "      <td>yapay zeka nedir işe yarar yapay zeka yz bilgi...</td>\n",
       "      <td>[0, 0, 0, 0, 0, 0, 0, 0, 0, 0, 0, 0, 0, 0, 0, ...</td>\n",
       "      <td>[0.0, 0.0, 0.0, 0.0, 0.0, 0.0, 0.0, 0.0, 0.0, ...</td>\n",
       "    </tr>\n",
       "    <tr>\n",
       "      <th>1</th>\n",
       "      <td>🔎 Verilerinizi analiz edin: \\nChatGPT'yi kulla...</td>\n",
       "      <td>[veri, analiz, edin, chatgptyi, kullanarak, do...</td>\n",
       "      <td>veri analiz edin chatgptyi kullanarak doğal di...</td>\n",
       "      <td>[0, 0, 0, 0, 0, 0, 0, 0, 0, 0, 0, 0, 0, 0, 0, ...</td>\n",
       "      <td>[0.0, 0.0, 0.0, 0.0, 0.0, 0.0, 0.0, 0.0, 0.0, ...</td>\n",
       "    </tr>\n",
       "    <tr>\n",
       "      <th>2</th>\n",
       "      <td>Öncelikle yapay zekanın ne olduğunu, #dijitala...</td>\n",
       "      <td>[öncelik, yapay, zeka, olduğunu, iç, önemli, o...</td>\n",
       "      <td>öncelik yapay zeka olduğunu iç önemli olduk kı...</td>\n",
       "      <td>[0, 0, 0, 0, 0, 0, 0, 0, 0, 0, 0, 0, 0, 0, 0, ...</td>\n",
       "      <td>[0.0, 0.0, 0.0, 0.0, 0.0, 0.0, 0.0, 0.0, 0.0, ...</td>\n",
       "    </tr>\n",
       "    <tr>\n",
       "      <th>3</th>\n",
       "      <td>9. Baidu Research: Çin'in önde gelen arama mot...</td>\n",
       "      <td>[baidu, research, çin, ön, gele, ara, motor, b...</td>\n",
       "      <td>baidu research çin ön gele ara motor baidun ar...</td>\n",
       "      <td>[0, 0, 0, 0, 0, 0, 0, 0, 0, 0, 0, 0, 0, 0, 0, ...</td>\n",
       "      <td>[0.0, 0.0, 0.0, 0.0, 0.0, 0.0, 0.0, 0.0, 0.0, ...</td>\n",
       "    </tr>\n",
       "    <tr>\n",
       "      <th>4</th>\n",
       "      <td>4. Microsoft AI: Microsoft'un yapay zeka tekno...</td>\n",
       "      <td>[microsoft, ai, microsoft, yapay, zeka, teknol...</td>\n",
       "      <td>microsoft ai microsoft yapay zeka teknoloji od...</td>\n",
       "      <td>[0, 0, 0, 0, 0, 0, 0, 0, 0, 0, 0, 0, 0, 0, 0, ...</td>\n",
       "      <td>[0.0, 0.0, 0.0, 0.0, 0.0, 0.0, 0.0, 0.0, 0.0, ...</td>\n",
       "    </tr>\n",
       "    <tr>\n",
       "      <th>...</th>\n",
       "      <td>...</td>\n",
       "      <td>...</td>\n",
       "      <td>...</td>\n",
       "      <td>...</td>\n",
       "      <td>...</td>\n",
       "    </tr>\n",
       "    <tr>\n",
       "      <th>850</th>\n",
       "      <td>doğal dil işleme alanında yüksek lisans-doktor...</td>\n",
       "      <td>[doğal, dil, işle, alan, yük, lisansdoktor, ya...</td>\n",
       "      <td>doğal dil işle alan yük lisansdoktor yapa danı...</td>\n",
       "      <td>[0, 0, 0, 0, 0, 0, 0, 0, 0, 0, 0, 0, 0, 0, 0, ...</td>\n",
       "      <td>[0.0, 0.0, 0.0, 0.0, 0.0, 0.0, 0.0, 0.0, 0.0, ...</td>\n",
       "    </tr>\n",
       "    <tr>\n",
       "      <th>851</th>\n",
       "      <td>dogal dil isleme şeyleri</td>\n",
       "      <td>[dogal, dil, isle]</td>\n",
       "      <td>dogal dil isle</td>\n",
       "      <td>[0, 0, 0, 0, 0, 0, 0, 0, 0, 0, 0, 0, 0, 0, 0, ...</td>\n",
       "      <td>[0.0, 0.0, 0.0, 0.0, 0.0, 0.0, 0.0, 0.0, 0.0, ...</td>\n",
       "    </tr>\n",
       "    <tr>\n",
       "      <th>852</th>\n",
       "      <td>Bir veri madenciliği ve doğal dil işleme uygul...</td>\n",
       "      <td>[bir, ver, madencilik, doğal, dil, işle, uygul...</td>\n",
       "      <td>bir ver madencilik doğal dil işle uygulamas</td>\n",
       "      <td>[0, 0, 0, 0, 0, 0, 0, 0, 0, 0, 0, 0, 0, 0, 0, ...</td>\n",
       "      <td>[0.0, 0.0, 0.0, 0.0, 0.0, 0.0, 0.0, 0.0, 0.0, ...</td>\n",
       "    </tr>\n",
       "    <tr>\n",
       "      <th>853</th>\n",
       "      <td>\"Doğal dil işleme\" ile ilgili deneyimi olan ya...</td>\n",
       "      <td>[doğal, dil, işleme, il, ilgil, deney, ola, ya...</td>\n",
       "      <td>doğal dil işleme il ilgil deney ola yazılımcı ...</td>\n",
       "      <td>[0, 0, 0, 0, 0, 0, 0, 0, 0, 0, 0, 0, 0, 0, 0, ...</td>\n",
       "      <td>[0.0, 0.0, 0.0, 0.0, 0.0, 0.0, 0.0, 0.0, 0.0, ...</td>\n",
       "    </tr>\n",
       "    <tr>\n",
       "      <th>854</th>\n",
       "      <td>Haftaya öğrencilik hayatıma kaldığım yerden de...</td>\n",
       "      <td>[hafta, öğrencilik, hayat, kaldık, yer, deva, ...</td>\n",
       "      <td>hafta öğrencilik hayat kaldık yer deva ediyoru...</td>\n",
       "      <td>[0, 0, 0, 0, 0, 0, 0, 0, 0, 0, 0, 0, 0, 0, 0, ...</td>\n",
       "      <td>[0.0, 0.0, 0.0, 0.0, 0.0, 0.0, 0.0, 0.0, 0.0, ...</td>\n",
       "    </tr>\n",
       "  </tbody>\n",
       "</table>\n",
       "<p>855 rows × 5 columns</p>\n",
       "</div>"
      ],
      "text/plain": [
       "                                                  Text   \n",
       "0    Yapay Zeka Nedir, Ne İşe Yarar?\\n\\nYapay zeka ...  \\\n",
       "1    🔎 Verilerinizi analiz edin: \\nChatGPT'yi kulla...   \n",
       "2    Öncelikle yapay zekanın ne olduğunu, #dijitala...   \n",
       "3    9. Baidu Research: Çin'in önde gelen arama mot...   \n",
       "4    4. Microsoft AI: Microsoft'un yapay zeka tekno...   \n",
       "..                                                 ...   \n",
       "850  doğal dil işleme alanında yüksek lisans-doktor...   \n",
       "851                           dogal dil isleme şeyleri   \n",
       "852  Bir veri madenciliği ve doğal dil işleme uygul...   \n",
       "853  \"Doğal dil işleme\" ile ilgili deneyimi olan ya...   \n",
       "854  Haftaya öğrencilik hayatıma kaldığım yerden de...   \n",
       "\n",
       "                                                Text_2   \n",
       "0    [yapay, zeka, nedir, işe, yarar, yapay, zeka, ...  \\\n",
       "1    [veri, analiz, edin, chatgptyi, kullanarak, do...   \n",
       "2    [öncelik, yapay, zeka, olduğunu, iç, önemli, o...   \n",
       "3    [baidu, research, çin, ön, gele, ara, motor, b...   \n",
       "4    [microsoft, ai, microsoft, yapay, zeka, teknol...   \n",
       "..                                                 ...   \n",
       "850  [doğal, dil, işle, alan, yük, lisansdoktor, ya...   \n",
       "851                                 [dogal, dil, isle]   \n",
       "852  [bir, ver, madencilik, doğal, dil, işle, uygul...   \n",
       "853  [doğal, dil, işleme, il, ilgil, deney, ola, ya...   \n",
       "854  [hafta, öğrencilik, hayat, kaldık, yer, deva, ...   \n",
       "\n",
       "                                                Text_3   \n",
       "0    yapay zeka nedir işe yarar yapay zeka yz bilgi...  \\\n",
       "1    veri analiz edin chatgptyi kullanarak doğal di...   \n",
       "2    öncelik yapay zeka olduğunu iç önemli olduk kı...   \n",
       "3    baidu research çin ön gele ara motor baidun ar...   \n",
       "4    microsoft ai microsoft yapay zeka teknoloji od...   \n",
       "..                                                 ...   \n",
       "850  doğal dil işle alan yük lisansdoktor yapa danı...   \n",
       "851                                     dogal dil isle   \n",
       "852        bir ver madencilik doğal dil işle uygulamas   \n",
       "853  doğal dil işleme il ilgil deney ola yazılımcı ...   \n",
       "854  hafta öğrencilik hayat kaldık yer deva ediyoru...   \n",
       "\n",
       "                                                Text_4   \n",
       "0    [0, 0, 0, 0, 0, 0, 0, 0, 0, 0, 0, 0, 0, 0, 0, ...  \\\n",
       "1    [0, 0, 0, 0, 0, 0, 0, 0, 0, 0, 0, 0, 0, 0, 0, ...   \n",
       "2    [0, 0, 0, 0, 0, 0, 0, 0, 0, 0, 0, 0, 0, 0, 0, ...   \n",
       "3    [0, 0, 0, 0, 0, 0, 0, 0, 0, 0, 0, 0, 0, 0, 0, ...   \n",
       "4    [0, 0, 0, 0, 0, 0, 0, 0, 0, 0, 0, 0, 0, 0, 0, ...   \n",
       "..                                                 ...   \n",
       "850  [0, 0, 0, 0, 0, 0, 0, 0, 0, 0, 0, 0, 0, 0, 0, ...   \n",
       "851  [0, 0, 0, 0, 0, 0, 0, 0, 0, 0, 0, 0, 0, 0, 0, ...   \n",
       "852  [0, 0, 0, 0, 0, 0, 0, 0, 0, 0, 0, 0, 0, 0, 0, ...   \n",
       "853  [0, 0, 0, 0, 0, 0, 0, 0, 0, 0, 0, 0, 0, 0, 0, ...   \n",
       "854  [0, 0, 0, 0, 0, 0, 0, 0, 0, 0, 0, 0, 0, 0, 0, ...   \n",
       "\n",
       "                                                Text_5  \n",
       "0    [0.0, 0.0, 0.0, 0.0, 0.0, 0.0, 0.0, 0.0, 0.0, ...  \n",
       "1    [0.0, 0.0, 0.0, 0.0, 0.0, 0.0, 0.0, 0.0, 0.0, ...  \n",
       "2    [0.0, 0.0, 0.0, 0.0, 0.0, 0.0, 0.0, 0.0, 0.0, ...  \n",
       "3    [0.0, 0.0, 0.0, 0.0, 0.0, 0.0, 0.0, 0.0, 0.0, ...  \n",
       "4    [0.0, 0.0, 0.0, 0.0, 0.0, 0.0, 0.0, 0.0, 0.0, ...  \n",
       "..                                                 ...  \n",
       "850  [0.0, 0.0, 0.0, 0.0, 0.0, 0.0, 0.0, 0.0, 0.0, ...  \n",
       "851  [0.0, 0.0, 0.0, 0.0, 0.0, 0.0, 0.0, 0.0, 0.0, ...  \n",
       "852  [0.0, 0.0, 0.0, 0.0, 0.0, 0.0, 0.0, 0.0, 0.0, ...  \n",
       "853  [0.0, 0.0, 0.0, 0.0, 0.0, 0.0, 0.0, 0.0, 0.0, ...  \n",
       "854  [0.0, 0.0, 0.0, 0.0, 0.0, 0.0, 0.0, 0.0, 0.0, ...  \n",
       "\n",
       "[855 rows x 5 columns]"
      ]
     },
     "execution_count": 20,
     "metadata": {},
     "output_type": "execute_result"
    }
   ],
   "source": [
    "df[\"Text_5\"] = X.toarray().tolist()\n",
    "df"
   ]
  },
  {
   "cell_type": "code",
   "execution_count": 21,
   "id": "ef2757da",
   "metadata": {},
   "outputs": [
    {
     "data": {
      "text/plain": [
       "4788"
      ]
     },
     "execution_count": 21,
     "metadata": {},
     "output_type": "execute_result"
    }
   ],
   "source": [
    "len(X.toarray()[0])"
   ]
  },
  {
   "attachments": {},
   "cell_type": "markdown",
   "id": "cc4db994",
   "metadata": {},
   "source": [
    "# Word2vec"
   ]
  },
  {
   "cell_type": "code",
   "execution_count": 42,
   "id": "38808806",
   "metadata": {},
   "outputs": [],
   "source": [
    "from gensim.models import Word2Vec"
   ]
  },
  {
   "cell_type": "code",
   "execution_count": 27,
   "id": "5a362fd7",
   "metadata": {},
   "outputs": [],
   "source": [
    "model = Word2Vec(sentences = df[\"Text_2\"].tolist() ,vector_size=100 , window=5 , min_count=1 )\n",
    "model.save(\"data/word2vec.model\")"
   ]
  },
  {
   "cell_type": "code",
   "execution_count": 33,
   "id": "9736895f",
   "metadata": {},
   "outputs": [
    {
     "data": {
      "text/plain": [
       "['dil', 'doğal', 'işle', 'bir', 'yapay', 'zeka']"
      ]
     },
     "execution_count": 33,
     "metadata": {},
     "output_type": "execute_result"
    }
   ],
   "source": [
    "words = list(model.wv.index_to_key)\n",
    "words[0:6]"
   ]
  },
  {
   "cell_type": "code",
   "execution_count": 34,
   "id": "0dfa967e",
   "metadata": {},
   "outputs": [
    {
     "data": {
      "text/plain": [
       "4799"
      ]
     },
     "execution_count": 34,
     "metadata": {},
     "output_type": "execute_result"
    }
   ],
   "source": [
    "len(words)"
   ]
  },
  {
   "cell_type": "code",
   "execution_count": 35,
   "id": "453ced44",
   "metadata": {},
   "outputs": [
    {
     "data": {
      "text/plain": [
       "4"
      ]
     },
     "execution_count": 35,
     "metadata": {},
     "output_type": "execute_result"
    }
   ],
   "source": [
    "model.wv.key_to_index[\"yapay\"]"
   ]
  },
  {
   "cell_type": "code",
   "execution_count": 36,
   "id": "07e7329e",
   "metadata": {},
   "outputs": [
    {
     "data": {
      "text/plain": [
       "array([-0.12952276,  0.46164253,  0.1390303 ,  0.06332719,  0.24439922,\n",
       "       -0.48191124,  0.26933706,  0.74982095, -0.27113545, -0.29810485,\n",
       "       -0.07167508, -0.5943876 ,  0.13725384,  0.22037344,  0.12507287,\n",
       "       -0.3047977 ,  0.06469676, -0.28209132, -0.20301287, -0.75597507,\n",
       "        0.2834019 ,  0.09823687,  0.40036646, -0.07792699, -0.0870533 ,\n",
       "        0.09984589, -0.19642434, -0.2895272 , -0.22957128,  0.07817085,\n",
       "        0.31636184, -0.00233119,  0.08833299, -0.33777595, -0.11944614,\n",
       "        0.32253015,  0.1405054 , -0.25517085, -0.2304328 , -0.5581831 ,\n",
       "        0.08404001, -0.38006413, -0.0832678 , -0.0505329 ,  0.27487883,\n",
       "       -0.22388186, -0.4114797 , -0.1049313 ,  0.16536309,  0.28764305,\n",
       "        0.15233023, -0.28240868, -0.14313386, -0.21072613, -0.15857509,\n",
       "        0.06028452,  0.28362763,  0.08334537, -0.20500593, -0.07311446,\n",
       "        0.1531286 ,  0.0318618 ,  0.04850414,  0.15312335, -0.43159777,\n",
       "        0.40920994,  0.0347958 ,  0.27359504, -0.3836193 ,  0.4042236 ,\n",
       "       -0.12132525,  0.14839509,  0.35997707,  0.01587703,  0.36008543,\n",
       "        0.17774001,  0.11005333, -0.02925984, -0.4708346 ,  0.09148471,\n",
       "       -0.3191874 , -0.01296702, -0.32323492,  0.42985252, -0.08425119,\n",
       "       -0.13962843,  0.2021856 ,  0.33888873,  0.20802069, -0.0147496 ,\n",
       "        0.34773564,  0.16954991,  0.05946667,  0.02162983,  0.6018706 ,\n",
       "        0.328199  ,  0.0830043 , -0.23092568,  0.21083856,  0.06821008],\n",
       "      dtype=float32)"
      ]
     },
     "execution_count": 36,
     "metadata": {},
     "output_type": "execute_result"
    }
   ],
   "source": [
    "model.wv[3]"
   ]
  },
  {
   "cell_type": "code",
   "execution_count": 38,
   "id": "0cec235b",
   "metadata": {},
   "outputs": [
    {
     "data": {
      "text/plain": [
       "array([-0.10289895,  0.35351297,  0.10146295,  0.04810844,  0.19062452,\n",
       "       -0.36602685,  0.21168056,  0.5774109 , -0.22203295, -0.21829806,\n",
       "       -0.07161812, -0.4602332 ,  0.09373678,  0.17881991,  0.0833192 ,\n",
       "       -0.24194364,  0.03890233, -0.20901953, -0.14455405, -0.60017055,\n",
       "        0.21960501,  0.06900687,  0.3109272 , -0.0575238 , -0.06184209,\n",
       "        0.07785554, -0.15699951, -0.22143799, -0.18989003,  0.06177852,\n",
       "        0.25122488,  0.00442955,  0.07509117, -0.27205554, -0.08510188,\n",
       "        0.23748738,  0.0983001 , -0.1916014 , -0.17245583, -0.4398234 ,\n",
       "        0.0649181 , -0.306056  , -0.07994343, -0.02577441,  0.21689622,\n",
       "       -0.18660228, -0.31760347, -0.07981046,  0.1360823 ,  0.21769157,\n",
       "        0.12183183, -0.21309258, -0.09403107, -0.16205063, -0.11997396,\n",
       "        0.03788952,  0.20580566,  0.04637919, -0.16457228, -0.06127958,\n",
       "        0.12488705,  0.01212151,  0.03446973,  0.12202241, -0.34120587,\n",
       "        0.32075322,  0.03935614,  0.21746565, -0.30137905,  0.33236566,\n",
       "       -0.10544903,  0.12622644,  0.2771164 ,  0.00838633,  0.28585103,\n",
       "        0.15091987,  0.08833819, -0.01839106, -0.35262698,  0.06115101,\n",
       "       -0.2532431 , -0.02167353, -0.25035605,  0.3278323 , -0.07387785,\n",
       "       -0.1172498 ,  0.16049278,  0.26188156,  0.152569  , -0.00912542,\n",
       "        0.28086108,  0.12732798,  0.05439445,  0.01402747,  0.46191084,\n",
       "        0.24641442,  0.06805716, -0.16919442,  0.16463009,  0.06163247],\n",
       "      dtype=float32)"
      ]
     },
     "execution_count": 38,
     "metadata": {},
     "output_type": "execute_result"
    }
   ],
   "source": [
    "model.wv.get_vector(\"yapay\")"
   ]
  },
  {
   "cell_type": "code",
   "execution_count": 49,
   "id": "017b64c8",
   "metadata": {},
   "outputs": [],
   "source": [
    "def word2vec(value):\n",
    "    model = Word2Vec.load(\"data/word2vec.model\")\n",
    "    bfr_list = []\n",
    "    bfr_len = len(value)\n",
    "\n",
    "    for k in value:\n",
    "        bfr = model.wv.key_to_index[k]\n",
    "        bfr = model.wv[bfr]\n",
    "        bfr_list.append(bfr)\n",
    "    \n",
    "    bfr_list = sum(bfr_list)\n",
    "    bfr_list = bfr_list/bfr_len\n",
    "    return bfr_list.tolist()"
   ]
  },
  {
   "cell_type": "code",
   "execution_count": 50,
   "id": "8906ba20",
   "metadata": {},
   "outputs": [],
   "source": [
    "df[\"Text_6\"] = df[\"Text_2\"].apply(word2vec)"
   ]
  },
  {
   "cell_type": "code",
   "execution_count": 13,
   "id": "c0d1cf89",
   "metadata": {},
   "outputs": [
    {
     "ename": "TypeError",
     "evalue": "word2vec() missing 1 required positional argument: 'value'",
     "output_type": "error",
     "traceback": [
      "\u001b[1;31m---------------------------------------------------------------------------\u001b[0m",
      "\u001b[1;31mTypeError\u001b[0m                                 Traceback (most recent call last)",
      "Cell \u001b[1;32mIn[13], line 3\u001b[0m\n\u001b[0;32m      1\u001b[0m df[\u001b[39m\"\u001b[39m\u001b[39mbow\u001b[39m\u001b[39m\"\u001b[39m] \u001b[39m=\u001b[39m on_islem\u001b[39m.\u001b[39mbag_of_words(df[\u001b[39m\"\u001b[39m\u001b[39mText_3\u001b[39m\u001b[39m\"\u001b[39m])\n\u001b[0;32m      2\u001b[0m df[\u001b[39m\"\u001b[39m\u001b[39mtfidf\u001b[39m\u001b[39m\"\u001b[39m] \u001b[39m=\u001b[39m on_islem\u001b[39m.\u001b[39mtfidf(df[\u001b[39m\"\u001b[39m\u001b[39mText_3\u001b[39m\u001b[39m\"\u001b[39m])\n\u001b[1;32m----> 3\u001b[0m df[\u001b[39m\"\u001b[39m\u001b[39mword2vec\u001b[39m\u001b[39m\"\u001b[39m] \u001b[39m=\u001b[39m df[\u001b[39m\"\u001b[39m\u001b[39mText_2\u001b[39m\u001b[39m\"\u001b[39m]\u001b[39m.\u001b[39mapply(on_islem\u001b[39m.\u001b[39;49mword2vec())\n\u001b[0;32m      4\u001b[0m df\u001b[39m.\u001b[39mhead()\n",
      "\u001b[1;31mTypeError\u001b[0m: word2vec() missing 1 required positional argument: 'value'"
     ]
    }
   ],
   "source": [
    "df[\"bow\"] = on_islem.bag_of_words(df[\"Text_3\"])\n",
    "df[\"tfidf\"] = on_islem.tfidf(df[\"Text_3\"])\n",
    "df[\"word2vec\"] = df[\"Text_2\"].apply(on_islem.word2vec())\n",
    "df.head()"
   ]
  }
 ],
 "metadata": {
  "kernelspec": {
   "display_name": "Python 3 (ipykernel)",
   "language": "python",
   "name": "python3"
  },
  "language_info": {
   "codemirror_mode": {
    "name": "ipython",
    "version": 3
   },
   "file_extension": ".py",
   "mimetype": "text/x-python",
   "name": "python",
   "nbconvert_exporter": "python",
   "pygments_lexer": "ipython3",
   "version": "3.10.10"
  }
 },
 "nbformat": 4,
 "nbformat_minor": 5
}
