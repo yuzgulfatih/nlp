{
 "cells": [
  {
   "attachments": {},
   "cell_type": "markdown",
   "id": "7a176bb9-34a2-4fc5-a5b3-8a890b52c525",
   "metadata": {},
   "source": [
    "# BAG OF WORD"
   ]
  },
  {
   "cell_type": "code",
   "execution_count": 1,
   "id": "f394ce7c-4bb2-4d3a-b6ba-ede2e9daec07",
   "metadata": {},
   "outputs": [],
   "source": [
    "from sklearn.feature_extraction.text import CountVectorizer\n",
    "from sklearn.feature_extraction.text import TfidfVectorizer"
   ]
  },
  {
   "cell_type": "code",
   "execution_count": 2,
   "id": "588dd9f7",
   "metadata": {},
   "outputs": [],
   "source": [
    "import pandas as pd"
   ]
  },
  {
   "cell_type": "code",
   "execution_count": 3,
   "id": "94b92c81",
   "metadata": {},
   "outputs": [
    {
     "data": {
      "text/html": [
       "<div>\n",
       "<style scoped>\n",
       "    .dataframe tbody tr th:only-of-type {\n",
       "        vertical-align: middle;\n",
       "    }\n",
       "\n",
       "    .dataframe tbody tr th {\n",
       "        vertical-align: top;\n",
       "    }\n",
       "\n",
       "    .dataframe thead th {\n",
       "        text-align: right;\n",
       "    }\n",
       "</style>\n",
       "<table border=\"1\" class=\"dataframe\">\n",
       "  <thead>\n",
       "    <tr style=\"text-align: right;\">\n",
       "      <th></th>\n",
       "      <th>Text</th>\n",
       "    </tr>\n",
       "  </thead>\n",
       "  <tbody>\n",
       "    <tr>\n",
       "      <th>0</th>\n",
       "      <td>Yapay Zeka Nedir, Ne İşe Yarar?\\n\\nYapay zeka ...</td>\n",
       "    </tr>\n",
       "    <tr>\n",
       "      <th>1</th>\n",
       "      <td>🔎 Verilerinizi analiz edin: \\nChatGPT'yi kulla...</td>\n",
       "    </tr>\n",
       "    <tr>\n",
       "      <th>2</th>\n",
       "      <td>Öncelikle yapay zekanın ne olduğunu, #dijitala...</td>\n",
       "    </tr>\n",
       "    <tr>\n",
       "      <th>3</th>\n",
       "      <td>9. Baidu Research: Çin'in önde gelen arama mot...</td>\n",
       "    </tr>\n",
       "    <tr>\n",
       "      <th>4</th>\n",
       "      <td>4. Microsoft AI: Microsoft'un yapay zeka tekno...</td>\n",
       "    </tr>\n",
       "  </tbody>\n",
       "</table>\n",
       "</div>"
      ],
      "text/plain": [
       "                                                Text\n",
       "0  Yapay Zeka Nedir, Ne İşe Yarar?\\n\\nYapay zeka ...\n",
       "1  🔎 Verilerinizi analiz edin: \\nChatGPT'yi kulla...\n",
       "2  Öncelikle yapay zekanın ne olduğunu, #dijitala...\n",
       "3  9. Baidu Research: Çin'in önde gelen arama mot...\n",
       "4  4. Microsoft AI: Microsoft'un yapay zeka tekno..."
      ]
     },
     "execution_count": 3,
     "metadata": {},
     "output_type": "execute_result"
    }
   ],
   "source": [
    "df = pd.read_csv(\"data/nlp.csv\" , index_col=0)\n",
    "df.head()"
   ]
  },
  {
   "cell_type": "code",
   "execution_count": 4,
   "id": "83b6d912",
   "metadata": {},
   "outputs": [],
   "source": [
    "import on_islem"
   ]
  },
  {
   "cell_type": "code",
   "execution_count": 5,
   "id": "2071b640",
   "metadata": {},
   "outputs": [
    {
     "data": {
      "text/html": [
       "<div>\n",
       "<style scoped>\n",
       "    .dataframe tbody tr th:only-of-type {\n",
       "        vertical-align: middle;\n",
       "    }\n",
       "\n",
       "    .dataframe tbody tr th {\n",
       "        vertical-align: top;\n",
       "    }\n",
       "\n",
       "    .dataframe thead th {\n",
       "        text-align: right;\n",
       "    }\n",
       "</style>\n",
       "<table border=\"1\" class=\"dataframe\">\n",
       "  <thead>\n",
       "    <tr style=\"text-align: right;\">\n",
       "      <th></th>\n",
       "      <th>Text</th>\n",
       "      <th>Text_2</th>\n",
       "    </tr>\n",
       "  </thead>\n",
       "  <tbody>\n",
       "    <tr>\n",
       "      <th>0</th>\n",
       "      <td>Yapay Zeka Nedir, Ne İşe Yarar?\\n\\nYapay zeka ...</td>\n",
       "      <td>[yapay, zeka, nedir, işe, yarar, yapay, zeka, ...</td>\n",
       "    </tr>\n",
       "    <tr>\n",
       "      <th>1</th>\n",
       "      <td>🔎 Verilerinizi analiz edin: \\nChatGPT'yi kulla...</td>\n",
       "      <td>[veri, analiz, edin, chatgptyi, kullanarak, do...</td>\n",
       "    </tr>\n",
       "    <tr>\n",
       "      <th>2</th>\n",
       "      <td>Öncelikle yapay zekanın ne olduğunu, #dijitala...</td>\n",
       "      <td>[öncelik, yapay, zeka, olduğunu, iç, önemli, o...</td>\n",
       "    </tr>\n",
       "    <tr>\n",
       "      <th>3</th>\n",
       "      <td>9. Baidu Research: Çin'in önde gelen arama mot...</td>\n",
       "      <td>[baidu, research, çin, ön, gele, ara, motor, b...</td>\n",
       "    </tr>\n",
       "    <tr>\n",
       "      <th>4</th>\n",
       "      <td>4. Microsoft AI: Microsoft'un yapay zeka tekno...</td>\n",
       "      <td>[microsoft, ai, microsoft, yapay, zeka, teknol...</td>\n",
       "    </tr>\n",
       "  </tbody>\n",
       "</table>\n",
       "</div>"
      ],
      "text/plain": [
       "                                                Text   \n",
       "0  Yapay Zeka Nedir, Ne İşe Yarar?\\n\\nYapay zeka ...  \\\n",
       "1  🔎 Verilerinizi analiz edin: \\nChatGPT'yi kulla...   \n",
       "2  Öncelikle yapay zekanın ne olduğunu, #dijitala...   \n",
       "3  9. Baidu Research: Çin'in önde gelen arama mot...   \n",
       "4  4. Microsoft AI: Microsoft'un yapay zeka tekno...   \n",
       "\n",
       "                                              Text_2  \n",
       "0  [yapay, zeka, nedir, işe, yarar, yapay, zeka, ...  \n",
       "1  [veri, analiz, edin, chatgptyi, kullanarak, do...  \n",
       "2  [öncelik, yapay, zeka, olduğunu, iç, önemli, o...  \n",
       "3  [baidu, research, çin, ön, gele, ara, motor, b...  \n",
       "4  [microsoft, ai, microsoft, yapay, zeka, teknol...  "
      ]
     },
     "execution_count": 5,
     "metadata": {},
     "output_type": "execute_result"
    }
   ],
   "source": [
    "df[\"Text_2\"] = df[\"Text\"].apply(on_islem.pre_processing)\n",
    "df[\"Text_2\"] = df[\"Text_2\"].apply(on_islem.remove_space)\n",
    "df.head()"
   ]
  },
  {
   "cell_type": "code",
   "execution_count": 6,
   "id": "5ae6701a",
   "metadata": {},
   "outputs": [
    {
     "data": {
      "text/html": [
       "<div>\n",
       "<style scoped>\n",
       "    .dataframe tbody tr th:only-of-type {\n",
       "        vertical-align: middle;\n",
       "    }\n",
       "\n",
       "    .dataframe tbody tr th {\n",
       "        vertical-align: top;\n",
       "    }\n",
       "\n",
       "    .dataframe thead th {\n",
       "        text-align: right;\n",
       "    }\n",
       "</style>\n",
       "<table border=\"1\" class=\"dataframe\">\n",
       "  <thead>\n",
       "    <tr style=\"text-align: right;\">\n",
       "      <th></th>\n",
       "      <th>Text</th>\n",
       "      <th>Text_2</th>\n",
       "    </tr>\n",
       "  </thead>\n",
       "  <tbody>\n",
       "    <tr>\n",
       "      <th>194</th>\n",
       "      <td>#hesaplamalısosyalbilimler #computationalsocia...</td>\n",
       "      <td>[]</td>\n",
       "    </tr>\n",
       "    <tr>\n",
       "      <th>464</th>\n",
       "      <td>#investment #software #technology #tech #innov...</td>\n",
       "      <td>[]</td>\n",
       "    </tr>\n",
       "    <tr>\n",
       "      <th>544</th>\n",
       "      <td>@barolar #ImageRecognition #SınırlıHafıza #Lim...</td>\n",
       "      <td>[]</td>\n",
       "    </tr>\n",
       "  </tbody>\n",
       "</table>\n",
       "</div>"
      ],
      "text/plain": [
       "                                                  Text Text_2\n",
       "194  #hesaplamalısosyalbilimler #computationalsocia...     []\n",
       "464  #investment #software #technology #tech #innov...     []\n",
       "544  @barolar #ImageRecognition #SınırlıHafıza #Lim...     []"
      ]
     },
     "execution_count": 6,
     "metadata": {},
     "output_type": "execute_result"
    }
   ],
   "source": [
    "#boş liste kontrolü\n",
    "df[df[\"Text_2\"].str[0].isnull()]"
   ]
  },
  {
   "cell_type": "code",
   "execution_count": 7,
   "id": "fe5ca938",
   "metadata": {},
   "outputs": [
    {
     "data": {
      "text/html": [
       "<div>\n",
       "<style scoped>\n",
       "    .dataframe tbody tr th:only-of-type {\n",
       "        vertical-align: middle;\n",
       "    }\n",
       "\n",
       "    .dataframe tbody tr th {\n",
       "        vertical-align: top;\n",
       "    }\n",
       "\n",
       "    .dataframe thead th {\n",
       "        text-align: right;\n",
       "    }\n",
       "</style>\n",
       "<table border=\"1\" class=\"dataframe\">\n",
       "  <thead>\n",
       "    <tr style=\"text-align: right;\">\n",
       "      <th></th>\n",
       "      <th>Text</th>\n",
       "      <th>Text_2</th>\n",
       "    </tr>\n",
       "  </thead>\n",
       "  <tbody>\n",
       "  </tbody>\n",
       "</table>\n",
       "</div>"
      ],
      "text/plain": [
       "Empty DataFrame\n",
       "Columns: [Text, Text_2]\n",
       "Index: []"
      ]
     },
     "execution_count": 7,
     "metadata": {},
     "output_type": "execute_result"
    }
   ],
   "source": [
    "df_index = df[df[\"Text_2\"].str[0].isnull()].index\n",
    "df = df.drop(df_index)\n",
    "df = df.reset_index()\n",
    "del df[\"index\"]\n",
    "df[df[\"Text_2\"].str[0].isnull()]\n"
   ]
  },
  {
   "cell_type": "code",
   "execution_count": 8,
   "id": "0bd06edc",
   "metadata": {},
   "outputs": [
    {
     "data": {
      "text/plain": [
       "0      [yapay, zeka, nedir, işe, yarar, yapay, zeka, ...\n",
       "1      [veri, analiz, edin, chatgptyi, kullanarak, do...\n",
       "2      [öncelik, yapay, zeka, olduğunu, iç, önemli, o...\n",
       "3      [baidu, research, çin, ön, gele, ara, motor, b...\n",
       "4      [microsoft, ai, microsoft, yapay, zeka, teknol...\n",
       "                             ...                        \n",
       "850    [doğal, dil, işle, alan, yük, lisansdoktor, ya...\n",
       "851                                   [dogal, dil, isle]\n",
       "852       [ver, madencilik, doğal, dil, işle, uygulamas]\n",
       "853    [doğal, dil, işleme, il, ilgil, deney, ola, ya...\n",
       "854    [hafta, öğrencilik, hayat, kaldık, yer, deva, ...\n",
       "Name: Text_2, Length: 855, dtype: object"
      ]
     },
     "execution_count": 8,
     "metadata": {},
     "output_type": "execute_result"
    }
   ],
   "source": [
    "df[\"Text_2\"]"
   ]
  },
  {
   "cell_type": "code",
   "execution_count": 9,
   "id": "5125220c",
   "metadata": {},
   "outputs": [
    {
     "data": {
      "text/html": [
       "<div>\n",
       "<style scoped>\n",
       "    .dataframe tbody tr th:only-of-type {\n",
       "        vertical-align: middle;\n",
       "    }\n",
       "\n",
       "    .dataframe tbody tr th {\n",
       "        vertical-align: top;\n",
       "    }\n",
       "\n",
       "    .dataframe thead th {\n",
       "        text-align: right;\n",
       "    }\n",
       "</style>\n",
       "<table border=\"1\" class=\"dataframe\">\n",
       "  <thead>\n",
       "    <tr style=\"text-align: right;\">\n",
       "      <th></th>\n",
       "      <th>Text</th>\n",
       "      <th>Text_2</th>\n",
       "      <th>Text_3</th>\n",
       "    </tr>\n",
       "  </thead>\n",
       "  <tbody>\n",
       "    <tr>\n",
       "      <th>0</th>\n",
       "      <td>Yapay Zeka Nedir, Ne İşe Yarar?\\n\\nYapay zeka ...</td>\n",
       "      <td>[yapay, zeka, nedir, işe, yarar, yapay, zeka, ...</td>\n",
       "      <td>yapay zeka nedir işe yarar yapay zeka yz bilgi...</td>\n",
       "    </tr>\n",
       "    <tr>\n",
       "      <th>1</th>\n",
       "      <td>🔎 Verilerinizi analiz edin: \\nChatGPT'yi kulla...</td>\n",
       "      <td>[veri, analiz, edin, chatgptyi, kullanarak, do...</td>\n",
       "      <td>veri analiz edin chatgptyi kullanarak doğal di...</td>\n",
       "    </tr>\n",
       "    <tr>\n",
       "      <th>2</th>\n",
       "      <td>Öncelikle yapay zekanın ne olduğunu, #dijitala...</td>\n",
       "      <td>[öncelik, yapay, zeka, olduğunu, iç, önemli, o...</td>\n",
       "      <td>öncelik yapay zeka olduğunu iç önemli olduk kı...</td>\n",
       "    </tr>\n",
       "    <tr>\n",
       "      <th>3</th>\n",
       "      <td>9. Baidu Research: Çin'in önde gelen arama mot...</td>\n",
       "      <td>[baidu, research, çin, ön, gele, ara, motor, b...</td>\n",
       "      <td>baidu research çin ön gele ara motor baidun ar...</td>\n",
       "    </tr>\n",
       "    <tr>\n",
       "      <th>4</th>\n",
       "      <td>4. Microsoft AI: Microsoft'un yapay zeka tekno...</td>\n",
       "      <td>[microsoft, ai, microsoft, yapay, zeka, teknol...</td>\n",
       "      <td>microsoft ai microsoft yapay zeka teknoloji od...</td>\n",
       "    </tr>\n",
       "    <tr>\n",
       "      <th>...</th>\n",
       "      <td>...</td>\n",
       "      <td>...</td>\n",
       "      <td>...</td>\n",
       "    </tr>\n",
       "    <tr>\n",
       "      <th>850</th>\n",
       "      <td>doğal dil işleme alanında yüksek lisans-doktor...</td>\n",
       "      <td>[doğal, dil, işle, alan, yük, lisansdoktor, ya...</td>\n",
       "      <td>doğal dil işle alan yük lisansdoktor yapa danı...</td>\n",
       "    </tr>\n",
       "    <tr>\n",
       "      <th>851</th>\n",
       "      <td>dogal dil isleme şeyleri</td>\n",
       "      <td>[dogal, dil, isle]</td>\n",
       "      <td>dogal dil isle</td>\n",
       "    </tr>\n",
       "    <tr>\n",
       "      <th>852</th>\n",
       "      <td>Bir veri madenciliği ve doğal dil işleme uygul...</td>\n",
       "      <td>[ver, madencilik, doğal, dil, işle, uygulamas]</td>\n",
       "      <td>ver madencilik doğal dil işle uygulamas</td>\n",
       "    </tr>\n",
       "    <tr>\n",
       "      <th>853</th>\n",
       "      <td>\"Doğal dil işleme\" ile ilgili deneyimi olan ya...</td>\n",
       "      <td>[doğal, dil, işleme, il, ilgil, deney, ola, ya...</td>\n",
       "      <td>doğal dil işleme il ilgil deney ola yazılımcı ...</td>\n",
       "    </tr>\n",
       "    <tr>\n",
       "      <th>854</th>\n",
       "      <td>Haftaya öğrencilik hayatıma kaldığım yerden de...</td>\n",
       "      <td>[hafta, öğrencilik, hayat, kaldık, yer, deva, ...</td>\n",
       "      <td>hafta öğrencilik hayat kaldık yer deva ediyoru...</td>\n",
       "    </tr>\n",
       "  </tbody>\n",
       "</table>\n",
       "<p>855 rows × 3 columns</p>\n",
       "</div>"
      ],
      "text/plain": [
       "                                                  Text   \n",
       "0    Yapay Zeka Nedir, Ne İşe Yarar?\\n\\nYapay zeka ...  \\\n",
       "1    🔎 Verilerinizi analiz edin: \\nChatGPT'yi kulla...   \n",
       "2    Öncelikle yapay zekanın ne olduğunu, #dijitala...   \n",
       "3    9. Baidu Research: Çin'in önde gelen arama mot...   \n",
       "4    4. Microsoft AI: Microsoft'un yapay zeka tekno...   \n",
       "..                                                 ...   \n",
       "850  doğal dil işleme alanında yüksek lisans-doktor...   \n",
       "851                           dogal dil isleme şeyleri   \n",
       "852  Bir veri madenciliği ve doğal dil işleme uygul...   \n",
       "853  \"Doğal dil işleme\" ile ilgili deneyimi olan ya...   \n",
       "854  Haftaya öğrencilik hayatıma kaldığım yerden de...   \n",
       "\n",
       "                                                Text_2   \n",
       "0    [yapay, zeka, nedir, işe, yarar, yapay, zeka, ...  \\\n",
       "1    [veri, analiz, edin, chatgptyi, kullanarak, do...   \n",
       "2    [öncelik, yapay, zeka, olduğunu, iç, önemli, o...   \n",
       "3    [baidu, research, çin, ön, gele, ara, motor, b...   \n",
       "4    [microsoft, ai, microsoft, yapay, zeka, teknol...   \n",
       "..                                                 ...   \n",
       "850  [doğal, dil, işle, alan, yük, lisansdoktor, ya...   \n",
       "851                                 [dogal, dil, isle]   \n",
       "852     [ver, madencilik, doğal, dil, işle, uygulamas]   \n",
       "853  [doğal, dil, işleme, il, ilgil, deney, ola, ya...   \n",
       "854  [hafta, öğrencilik, hayat, kaldık, yer, deva, ...   \n",
       "\n",
       "                                                Text_3  \n",
       "0    yapay zeka nedir işe yarar yapay zeka yz bilgi...  \n",
       "1    veri analiz edin chatgptyi kullanarak doğal di...  \n",
       "2    öncelik yapay zeka olduğunu iç önemli olduk kı...  \n",
       "3    baidu research çin ön gele ara motor baidun ar...  \n",
       "4    microsoft ai microsoft yapay zeka teknoloji od...  \n",
       "..                                                 ...  \n",
       "850  doğal dil işle alan yük lisansdoktor yapa danı...  \n",
       "851                                     dogal dil isle  \n",
       "852            ver madencilik doğal dil işle uygulamas  \n",
       "853  doğal dil işleme il ilgil deney ola yazılımcı ...  \n",
       "854  hafta öğrencilik hayat kaldık yer deva ediyoru...  \n",
       "\n",
       "[855 rows x 3 columns]"
      ]
     },
     "execution_count": 9,
     "metadata": {},
     "output_type": "execute_result"
    }
   ],
   "source": [
    "df[\"Text_3\"] = [' '.join(w for w in item) for item in df[\"Text_2\"]]\n",
    "df"
   ]
  },
  {
   "cell_type": "code",
   "execution_count": 10,
   "id": "db07cae0",
   "metadata": {},
   "outputs": [
    {
     "data": {
      "text/plain": [
       "<855x4788 sparse matrix of type '<class 'numpy.int64'>'\n",
       "\twith 17127 stored elements in Compressed Sparse Row format>"
      ]
     },
     "execution_count": 10,
     "metadata": {},
     "output_type": "execute_result"
    }
   ],
   "source": [
    "vectorizer = CountVectorizer()\n",
    "X = vectorizer.fit_transform(df[\"Text_3\"].to_list())\n",
    "X"
   ]
  },
  {
   "cell_type": "code",
   "execution_count": 11,
   "id": "691494a4",
   "metadata": {},
   "outputs": [
    {
     "data": {
      "text/html": [
       "<div>\n",
       "<style scoped>\n",
       "    .dataframe tbody tr th:only-of-type {\n",
       "        vertical-align: middle;\n",
       "    }\n",
       "\n",
       "    .dataframe tbody tr th {\n",
       "        vertical-align: top;\n",
       "    }\n",
       "\n",
       "    .dataframe thead th {\n",
       "        text-align: right;\n",
       "    }\n",
       "</style>\n",
       "<table border=\"1\" class=\"dataframe\">\n",
       "  <thead>\n",
       "    <tr style=\"text-align: right;\">\n",
       "      <th></th>\n",
       "      <th>Text</th>\n",
       "      <th>Text_2</th>\n",
       "      <th>Text_3</th>\n",
       "      <th>Text_4</th>\n",
       "    </tr>\n",
       "  </thead>\n",
       "  <tbody>\n",
       "    <tr>\n",
       "      <th>0</th>\n",
       "      <td>Yapay Zeka Nedir, Ne İşe Yarar?\\n\\nYapay zeka ...</td>\n",
       "      <td>[yapay, zeka, nedir, işe, yarar, yapay, zeka, ...</td>\n",
       "      <td>yapay zeka nedir işe yarar yapay zeka yz bilgi...</td>\n",
       "      <td>[0, 0, 0, 0, 0, 0, 0, 0, 0, 0, 0, 0, 0, 0, 0, ...</td>\n",
       "    </tr>\n",
       "    <tr>\n",
       "      <th>1</th>\n",
       "      <td>🔎 Verilerinizi analiz edin: \\nChatGPT'yi kulla...</td>\n",
       "      <td>[veri, analiz, edin, chatgptyi, kullanarak, do...</td>\n",
       "      <td>veri analiz edin chatgptyi kullanarak doğal di...</td>\n",
       "      <td>[0, 0, 0, 0, 0, 0, 0, 0, 0, 0, 0, 0, 0, 0, 0, ...</td>\n",
       "    </tr>\n",
       "    <tr>\n",
       "      <th>2</th>\n",
       "      <td>Öncelikle yapay zekanın ne olduğunu, #dijitala...</td>\n",
       "      <td>[öncelik, yapay, zeka, olduğunu, iç, önemli, o...</td>\n",
       "      <td>öncelik yapay zeka olduğunu iç önemli olduk kı...</td>\n",
       "      <td>[0, 0, 0, 0, 0, 0, 0, 0, 0, 0, 0, 0, 0, 0, 0, ...</td>\n",
       "    </tr>\n",
       "    <tr>\n",
       "      <th>3</th>\n",
       "      <td>9. Baidu Research: Çin'in önde gelen arama mot...</td>\n",
       "      <td>[baidu, research, çin, ön, gele, ara, motor, b...</td>\n",
       "      <td>baidu research çin ön gele ara motor baidun ar...</td>\n",
       "      <td>[0, 0, 0, 0, 0, 0, 0, 0, 0, 0, 0, 0, 0, 0, 0, ...</td>\n",
       "    </tr>\n",
       "    <tr>\n",
       "      <th>4</th>\n",
       "      <td>4. Microsoft AI: Microsoft'un yapay zeka tekno...</td>\n",
       "      <td>[microsoft, ai, microsoft, yapay, zeka, teknol...</td>\n",
       "      <td>microsoft ai microsoft yapay zeka teknoloji od...</td>\n",
       "      <td>[0, 0, 0, 0, 0, 0, 0, 0, 0, 0, 0, 0, 0, 0, 0, ...</td>\n",
       "    </tr>\n",
       "  </tbody>\n",
       "</table>\n",
       "</div>"
      ],
      "text/plain": [
       "                                                Text   \n",
       "0  Yapay Zeka Nedir, Ne İşe Yarar?\\n\\nYapay zeka ...  \\\n",
       "1  🔎 Verilerinizi analiz edin: \\nChatGPT'yi kulla...   \n",
       "2  Öncelikle yapay zekanın ne olduğunu, #dijitala...   \n",
       "3  9. Baidu Research: Çin'in önde gelen arama mot...   \n",
       "4  4. Microsoft AI: Microsoft'un yapay zeka tekno...   \n",
       "\n",
       "                                              Text_2   \n",
       "0  [yapay, zeka, nedir, işe, yarar, yapay, zeka, ...  \\\n",
       "1  [veri, analiz, edin, chatgptyi, kullanarak, do...   \n",
       "2  [öncelik, yapay, zeka, olduğunu, iç, önemli, o...   \n",
       "3  [baidu, research, çin, ön, gele, ara, motor, b...   \n",
       "4  [microsoft, ai, microsoft, yapay, zeka, teknol...   \n",
       "\n",
       "                                              Text_3   \n",
       "0  yapay zeka nedir işe yarar yapay zeka yz bilgi...  \\\n",
       "1  veri analiz edin chatgptyi kullanarak doğal di...   \n",
       "2  öncelik yapay zeka olduğunu iç önemli olduk kı...   \n",
       "3  baidu research çin ön gele ara motor baidun ar...   \n",
       "4  microsoft ai microsoft yapay zeka teknoloji od...   \n",
       "\n",
       "                                              Text_4  \n",
       "0  [0, 0, 0, 0, 0, 0, 0, 0, 0, 0, 0, 0, 0, 0, 0, ...  \n",
       "1  [0, 0, 0, 0, 0, 0, 0, 0, 0, 0, 0, 0, 0, 0, 0, ...  \n",
       "2  [0, 0, 0, 0, 0, 0, 0, 0, 0, 0, 0, 0, 0, 0, 0, ...  \n",
       "3  [0, 0, 0, 0, 0, 0, 0, 0, 0, 0, 0, 0, 0, 0, 0, ...  \n",
       "4  [0, 0, 0, 0, 0, 0, 0, 0, 0, 0, 0, 0, 0, 0, 0, ...  "
      ]
     },
     "execution_count": 11,
     "metadata": {},
     "output_type": "execute_result"
    }
   ],
   "source": [
    "df[\"Text_4\"] = X.toarray().tolist()\n",
    "df.head()"
   ]
  },
  {
   "cell_type": "code",
   "execution_count": 12,
   "id": "c3ae812d",
   "metadata": {},
   "outputs": [
    {
     "data": {
      "text/plain": [
       "{0, 1, 2, 3, 4}"
      ]
     },
     "execution_count": 12,
     "metadata": {},
     "output_type": "execute_result"
    }
   ],
   "source": [
    "set(X.toarray()[0].tolist())"
   ]
  },
  {
   "cell_type": "code",
   "execution_count": 13,
   "id": "7f09afac",
   "metadata": {},
   "outputs": [
    {
     "data": {
      "text/plain": [
       "dict_keys(['yapay', 'zeka', 'nedir', 'işe', 'yarar', 'yz', 'bilgisayar', 'diğer', 'cihazların', 'in', 'benzer', 'şekil', 'düşünmesini', 'öğrenmesini', 'karar', 'verme', 'proble', 'çözme', 'sağlaya', 'bil', 'dalıdır', 'teknolojisi', 'doğal', 'dil', 'işleme', 'ses', 'tanıma', 'gör', 'veri', 'analiz', 'edin', 'chatgptyi', 'kullanarak', 'işle', 'nlp', 'yetenek', 'faydalanarak', 'en', 'sa', 'ürün', 'nelerdir', 'müşter', 'tutma', 'ora', 'gip', 'soru', 'sor', 'chatgpt', 'siz', 'dayal', 'içgörü', 'sağlasın', 'öncelik', 'olduğunu', 'iç', 'önemli', 'olduk', 'kısaç', 'inceleyelim', 'ai', 'kendi', 'verecek', 'programla', 'sürecidir', 'bu', 'mak', 'öğrenimi', 'tahm', 'analitik', 'çeşitli', 'yönte', 'yapılabilir', 'baidu', 'research', 'çin', 'ön', 'gele', 'ara', 'motor', 'baidun', 'araştırma', 'ola', 'otono', 'araç', 'teknoloji', 'üzer', 'çalışmaktadır', 'twitter', 'hesapları', 'microsoft', 'odaklana', 'robotik', 'sistem', 'openai', 'dünya', 'şirket', 'geliş', 'otomatik', 'öğrenme', 'olarak', 'görüntü', 'met', 'ver', 'tür', 'edebilir', 'sonuç', 'yorumlayabilir', 'gpttek', 'son', 'dereç', 'başarılı', 'ima', 'nüans', 'rahatlık', 'kavrıyor', 'karmaşık', 'konu', 'işleyip', 'ilişkilendirebiliyor', 'plus', 'kullanıcı', 'kısıtlı', 'ol', 'epey', 'geniş', 'imkânlar', 'açık', 'il', 'iletiş', 'prosedürel', 'gerekmiyor', 'yani', 'finans', 'odaklı', 'model', 'bloomberggpt', 'değiştirecek', 'webrazzi', 'geliştirilmes', 'dah', 'büyük', 'güçlü', 'altyapı', 'gerekmektedir', 'ancak', 'geliştirilmesi', 'alan', 'hızlı', 'ilerle', 'sağlamak', 'gelecek', 'teknoloj', 'geliştirilme', 'öncü', 'olmas', 'beklenmektedir', 'ise', 'gpt', 'bilinir', 'üretme', 'tanınır', 'birçok', 'yenilik', 'öncülük', 'et', 'insa', 'etkileş', 'kurabile', 'diz', 'görev', 'başarıl', 'olabilmektedir', 'ilk', 'öğren', 'yaygınlaşacak', 'şahit', 'olacağız', 'özellikle', 'konus', 'gelişme', 'birlikte', 'insanmak', 'hale', 'chat', 'oluşturulabilecek', 'iş', 'teknolojis', 'bulunabile', 'chatbot', 'diyalogu', 'sistemidir', 'işletme', 'faydal', 'olabilecek', 'birkaç', 'uygulamas', 'vardır', 'örnek', 'sinir', 'ağları', 'blockchain', 'bulut', 'bilişim', 'chivas', 'jack', 'daniels', 'ada', 'kazandı', 'tur', 'alır', 'seç', 'yanıtla', 'kaynak', 'kodlu', 'bert', 'yaptık', 'yazı', 'döktüm', 'yıllık', 'geçmiş', 'kon', 'güzel', 'çık', 'arkas', 'matematik', 'oldukça', 'hoş', 'natural', 'language', 'processingnlp', 'dilbil', 'aras', 'köprüdür', 'anlama', 'geliştirme', 'amaçlar', 'ilerleme', 'kaydetmiştir', 'başarılar', 'akıllı', 'uygulama', 'açmaktadır', 'temel', 'der', 'kullanılarak', 'geliştirilmiştir', 'sayede', 'anla', 'başar', 'gerçekleştirebilir', 'inşa', 'edil', 'modelidir', 'google', 'search', 'algoritma', 'sayfa', 'sırala', 'teknik', 'internet', 'içerik', 'indeks', 'sunar', 'fark', 'şunlardır', 'amacı', 'üret', 'ilgil', 'uzmanlaşmıştır', 'kullanıç', 'bilgi', 'bulma', 'yardımcı', 'motorudur', 'binge', 'entegre', 'ederek', 'davrandı', 'işlemeyapay', 'uzmanlık', 'el', 'muazza', 'birşey', 'karş', 'gelecektir', 'chatgptn', 'sentiment', 'kullan', 'sentimentduygu', 'analizi', 'çalışma', 'bilim', 'baş', 'olmak', 'araştırmaç', 'gündem', 'pek', 'kullanılabilir', 'mi', 'robotu', 'verile', 'sesli', 'komut', 'yer', 'getirmek', 'çevre', 'manipülasyon', 'getirmekte', 'hayret', 'lavuk', 'sıkış', 'ben', 'sadeç', 'zaman', 'çokça', 'ilgi', 'çeke', 'taraf', 'geliştirile', 'modeli', 'kurabilir', 'prompt', 'engineer', 'meslek', 'gelebilecek', 'söylenebilir', 'ihtiyaç', 'arttıkça', 'ala', 'sahip', 'kiş', 'talep', 'artabilir', 'webtures', 'türkiye', 'ilke', 'imza', 'atıyor', 'türkiyen', 'operatör', 'ilan', 'yayınladı', 'ilanında', 'tekrarlana', 'pratikleştirmek', 'verimlilik', 'artırmak', 'istem', 'geliştirmek', 'uygulamak', 'gibi', 'iyi', 'tasarla', 'tutarlı', 'olabilir', 'promptlar', 'yaygı', 'kullanıla', 'kavramdır', 'yapıla', 'etkil', 'kullanışlı', 'oluşturulma', 'yol', 'açabilir', 'olas', 'sayı', 'çıktı', 'kalite', 'önbellek', 'alma', 'opt', 'edilebilir', 'devr', 'yarat', 'rol', 'oynayacak', 'görünüyor', 'geliştiriç', 'kullanılır', 'geçe', 'gün', 'ye', 'kulla', 'keşfedilmektedir', 'milyar', 'parametre', 'bugu', 'oluşturul', 'nere', 'türlü', 'çözebilir', 'bilimsel', 'hesapla', 'modelle', 'mobil', 'otomasyo', 'program', 'finansal', 'ticaret', 'bot', 'madencilik', 'ağ', 'siste', 'yönet', 'genc', 'mumk', 'kilabilmek', 'sektor', 'olabilmek', 'icin', 'dogal', 'isleme', 'ogrenmesi', 'noral', 'network', 'big', 'vs', 'calismali', 'engineering', 'degildi', 'nes', 'engineeringi', 'olacak', 'gondermenin', 'hasta', 'danışma', 'ziyaret', 'sonra', 'onkologu', 'not', 'etmek', 'kullanır', 'özgü', 'özellik', 'belirleyerek', 'aylık', 'hayat', 'kalma', 'süre', 'den', 'faz', 'doğruluk', 'edebildik', 'gösterildi', 'ibm', 'watso', 'for', 'cybersecurity', 'tabanlı', 'tehdit', 'platformudur', 'güvenlik', 'algılamak', 'kullanılacak', 'popü', 'kolay', 'python', 'kütüphanesidir', 'transformers', 'adlı', 'an', 'kütüphanes', 'spacy', 'modern', 'başka', 'kütüphanedir', 'tokenleştirme', 'dilbilgis', 'etiketleme', 'adlandırıl', 'varlık', 'tan', 'fazlas', 'edilmiştir', 'nltk', 'toolkit', 'kapsamlı', 'kütüpha', 'modelleme', 'sınıflandırma', 'uygulamaları', 'modelleri', 'oluşturabilir', 'generativ', 'pretrainedi', 'transformer', 'kelime', 'kısaltmasıdır', 'dogru', 'vermek', 'degil', 'modellemesidir', 'llm', 'large', 'models', 'isle', 'gelistirilmis', 'sormak', 'biz', 'ulke', 'nedense', 'gpta', 'sorarak', 'farkli', 'yanit', 'alabilirsiniz', 'sürekli', 'gelişiyor', 'nedenle', 'sınıf', 'gel', 'geliştiril', 'mimari', 'oluşturula', 'miktar', 'veris', 'eğitilerek', 'cevap', 'üretebilir', 'düze', 'gelirler', 'özetleme', 'sorucevap', 'kullanılırlar', 'dayalı', 'danışmanlı', 'supervisedi', 'learning', 'yaklaşım', 'benimseyen', 'sistemleridir', 'hareket', 'algıla', 'kabiliyetleriyle', 'otizmli', 'çocuk', 'özelleştiril', 'eğit', 'aldık', 'yanya', 'platformu', 'saye', 'yaş', 'birey', 'eğitim', 'destekleme', 'amaçlıyoruz', 'hakk', 'detaylı', 'almak', 'vm', 'medical', 'park', 'sams', 'hastanes', 'medikal', 'direktör', 'prof', 'dr', 'haka', 'leblebicioğlu', 'sunumda', 'oluşturma', 'çevirisi', 'sistemleri', 'chatbotlar', 'sağlık', 'kullanılabilecek', 'belirtti', 'nesli', 'gelişe', 'birlik', 'hız', 'yıl', 'dikkat', 'modelleridir', 'şekilde', 'ger', 'bildirimler', 'anlaşılır', 'gelme', 'ayrıca', 'yanıt', 'verebilme', 'sağlar', 'openain', 'nesil', 'yapacakbu', 'üretim', 'yetenekli', 'anlamlı', 'kat', 'öncek', 'çalışacak', 'platformdur', 'platform', 'içerir', 'modeller', 'sorgu', 'verir', 'üretir', 'terç', 'yapar', 'yapabilir', 'vere', 'sanki', 'veriyor', 'duyum', 'yayın', 'am', 'bahsedecek', 'ki', 'gerçek', 'ar', 'takip', 'zorlanıyoruz', 'nöral', 'dilidir', 'tensorflow', 'keras', 'kütüphanelerle', 'konuşma', 'çözüm', 'oluşturabilirsiniz', 'bard', 'uzmanlaş', 'çıkıyor', 'konuşmaları', 'metin', 'yazıl', 'ifade', 'anlamak', 'anlamlandırmak', 'tasarlandı', 'yürü', 'ekip', 'abd', 'ingiltere', 'test', 'etme', 'açtı', 'algalonchat', 'özel', 'dayalıdır', 'yanıtlar', 'snapmint', 'açıklama', 'sanat', 'oluşturmak', 'yararlana', 'araçtır', 'istek', 'benzersiz', 'eser', 'yaratmak', 'kullandık', 'klavye', 'destekli', 'muhtemele', 'destekleniyor', 'nft', 'teknolojisidir', 'ak', 'oy', 'oynanmas', 'insanlık', 'yolculuk', 'yaygınlaşa', 'teknolojidir', 'öğrenmesi', 'taklit', 'çalışır', 'yor', 'değerli', 'evet', 'asl', 'set', 'sadece', 'amaç', 'değil', 'sen', 'kurmak', 'bilimi', 'translate', 'çeviris', 'çevirebilir', 'kültürleraras', 'artar', 'kodlama', 'oynar', 'coinleri', 'kullanılan', 'dijital', 'par', 'birimleri', 'teknolojileri', 'tıp', 'yararlı', 'teknolojiler', 'tıbbi', 'işleyerek', 'teşhis', 'tedav', 'profesyonel', 'açı', 'sürüm', 'üst', 'düzey', 'performans', 'sergileyecek', 'yapacak', 'örneğin', 'akıç', 'diyalog', 'kurabilecek', 'tanışın', 'sayesinde', 'herhangi', 'eriş', 'deneyin', 'ik', 'extractiv', 'abstractive', 'metn', 'çekip', 'gösterir', 'eklemez', 'arka', 'çalışa', 'extractivedir', 'yüz', 'arama', 'highlightedi', 'görür', 'içinde', 'ile', 'özetle', 'ekibi', 'oyna', 'insan', 'bünye', 'barındırmaktadır', 'çoğu', 'facebook', 'stanfordu', 'önce', 'çalışmıştır', 'konsept', 'türkçe', 'hoca', 'gelen', 'çika', 'insansı', 'yapı', 'ilerliyor', 'sunuyor', 'düş', 'süreç', 'evriliyor', 'çığır', 'aça', 'teknolojiydi', 'yönlendirecek', 'kapasi', 'sunacak', 'cümle', 'yan', 'getirme', 'korkma', 'gerek', 'yok', 'hat', 'imkan', 'açacaktır', 'sektör', 'planlamacılara', 'yönetici', 'proje', 'yönetimi', 'uzma', 'oluşturulmas', 'bugün', 'visual', 'duyurdu', 'görsel', 'eğitil', 'sohbet', 'gönderip', 'alabilme', 'sistemdir', 'yapabilme', 'yeteneğidir', 'farklı', 'al', 'nlar', 'kullanılmaktadır', 'baz', 'ün', 'çekiç', 'biri', 'ayar', 'yük', 'getirebilmesidir', 'kümes', 'mimaris', 'mümk', 'olmaktadır', 'general', 'motors', 'gm', 'eklemek', 'kullanma', 'başlayacak', 'bir', 'merkez', 'duygu', 'öğrenecek', 'kurs', 'bekleriz', 'yil', 'once', 'bitirme', 'bi', 'sey', 'yapmistik', 'tesl', 'etmis', 'tezi', 'noldu', 'dunyas', 'doktor', 'anilma', 'basladim', 'demirci', 'di', 'mail', 'geliyo', 'atip', 'duzeltiyo', 'diye', 'hayir', 'dalle', 'midjourney', 'kullana', 'popülerlik', 'kap', 'aralıyor', 'bun', 'olma', 'adayprompt', 'kabul', 'göre', 'karşılık', 'he', 'bulunmas', 'sufle', 'mühendisliği', 'türüdür', 'yapısalcılık', 'bitme', 'bitmek', 'kül', 'uygulamal', 'gi', 'oluştura', 'fikr', 'be', 'sik', 'kafa', 'abi', 'chatgot', 'yapıyo', 'dilbilimci', 'zate', 'cahillik', 'twitterdak', 'takipçilerim', 'topluluk', 'telegra', 'kanal', 'açtık', 'duya', 'herkes', 'grup', 'bağlantı', 'katılabilirsiniz', 'gptnin', 'düşüncelerim', 'anlayabile', 'üretebile', 'nitelik', 'mükemmel', 'hal', 'getirir', 'hizmetleri', 'pazarla', 'sosyal', 'medya', 'strateji', 'mevcut', 'zayıf', 'yön', 'alabilir', 'yenilikçi', 'sunabilir', 'kıs', 'vade', 'ürettik', 'kazanç', 'pazar', 'uz', 'gelişim', 'uygula', 'kullanılabiliyor', 'uygulamalar', 'düzenleme', 'çevir', 'yara', 'yeniliktir', 'eğitile', 'problem', 'çözebilecek', 'seviye', 'geldi', 'dünyas', 'zamanlarda', 'üretile', 'anlam', 'kavrayabiliyorlar', 'verildik', 'metne', 'uyumluluk', 'web', 'dünyasında', 'dapps', 'blok', 'zincir', 'birbir', 'sorunsuz', 'kurabilmelidir', 'sağlayarak', 'kurma', 'biçim', 'blog', 'gönderileri', 'videolar', 'resim', 'fazla', 'regex', 'zekâ', 'giriş', 'yapıyorum', 'nihai', 'konuşup', 'anlaşamazlarken', 'anlaşabilirler', 'anlayabilir', 'yapmış', 'halbuki', 'huggingface', 'hazır', 'indirip', 'finet', 'etmiştim', 'emek', 'kalmadı', 'mertlik', 'bozul', 'nlpde', 'yapan', 'acaba', 'niş', 'yönelecekler', 'konuşabile', 'programıdır', 'kitaplar', 'makaleler', 'vb', 'öğrenim', 'te', 'yavuz', 'kömeçoğlu', 'kodiks', 'biliş', 'firma', 'ekibinde', 'yaparak', 'geliştiriyor', 'carbo', 'danışmanlık', 'marka', 'glos', 'sunduk', 'ad', 'sıkça', 'duyduk', 'nlpdoğal', 'kol', 'kavramasını', 'idar', 'reklamcılık', 'kullanılıyor', 'kaynaklı', 'da', 'piyasa', 'sürüldük', 'beri', 'sağladı', 'girdis', 'ardı', 'girdi', 'çıkarabilmek', 'kel', 'eder', 'gramer', 'kural', 'uygunluk', 'kontrol', 'kaynaklanmaktadır', 'alternatif', 'alakal', 'tez', 'yayınla', 'dayana', 'ür', 'ekleyecek', 'modül', 'getirdik', 'tamamlanmas', 'kaç', 'hafta', 'geçiyor', 'günde', 'hiçbir', 'paylaşmak', 'istemiyor', 'yararlanarak', 'yapmak', 'hocam', 'yeter', 'iktidar', 'değişsin', 'mesal', 'ufuk', 'universite', 'verdik', 'doktora', 'sıras', 'biliyor', 'zor', 'dur', 'kal', 'arıyor', 'php', 'mikroservis', 'aws', 'tecrübe', 'var', 'çalıştım', 'backendi', 'dileye', 'cvmi', 'gönderebilirim', 'teşekkür', 'ederim', 'gönderi', 'afet', 'bölge', 'adres', 'aratabilir', 'yak', 'büt', 'mağaza', 'barıç', 'dinçer', 'itü', 'bahçeşehir', 'hacettepe', 'odtü', 'api', 'teşekkürler', 'hızlıç', 'yaptım', 'depremzede', 'konum', 'belirliyor', 'unutmayal', 'kullanıyor', 'tamame', 'sunuç', 'işleniyor', 'konumlama', 'ha', 'pa', 'kripto', 'meyda', 'furyas', 'saçma', 'sapa', 'yükseliş', 'yaşıyor', 'ilerleye', 'uğraşa', 'yapa', 'bakmak', 'laz', 'mesela', 'agrs', 'milyo', 'do', 'mcap', 'geri', 'nefret', 'suç', 'işleyenler', 'yala', 'yayan', 'yaprak', 'yiyecek', 'nevzat', 'söz', 'veriyorum', 'yaşanabilecek', 'olumsuzluk', 'geçilme', 'katkı', 'sağlanacaktır', 'öğrenmes', 'sınav', 'değerlendirme', 'projesi', 'temassız', 'kiosk', 'temizlik', 'dezenfeksiyo', 'robot', 'tasar', 'düşünüyorum', 'kısm', 'kitap', 'yaklaşık', 'kaynakça', 'sorduk', 'verip', 'ister', 'ingilizce', 'çevirebiliyor', 'ayrıç', 'eğitildik', 'yaklaşacaktır', 'mühendis', 'beğe', 'sandviç', 'subway', 'zekâda', 'konuşulan', 'anlayıp', 'verebile', 'otomat', 'geliştirdi', 'algoritmaları', 'algılama', 'computer', 'vision', 'yararlanıyor', 'deva', 'mahalede', 'chatgptye', 'res', 'yüklenmiyor', 'robotudur', 'pretrainingi', 'veren', 'sahiptir', 'yaz', 'aşağı', 'linke', 'tıklayabilirsiniz', 'öğre', 'oynuyor', 'inanılmaz', 'derece', 'atıla', 'tweet', 'edile', 'polarizasyo', 'değişim', 'grafik', 'de', 'gösterilmiştir', 'ücretsiz', 'kullanabilecek', 'yu', 'tercih', 'etmeliyim', 'anlayış', 'projesidir', 'canlı', 'olmaya', 'şey', 'algılanmas', 'garip', 'heyeca', 'veriç', 'acayip', 'döne', 'oluyoruz', 'is', 'bilir', 'gidecek', 'off', 'heyecanlı', 'ulus', 'haklar', 'ke', 'statü', 'belirleme', 'bulunduk', 'ülke', 'din', 'çerçeve', 'korumak', 'örneklerdir', 'kürt', 'hastane', 'gidemiyorsun', 'vatandaşlık', 'sorudur', 'meraklı', 'video', 'bırakıyor', 'sürçülisa', 'etti', 'affol', 'karakter', 'ocr', 'resimgtyazı', 'yazma', 'matbu', 'performansı', 'sağlamas', 'metni', 'özetlemek', 'sadeleştirmek', 'yazıgtyazı', 'yöntem', 'parça', 'poc', 'dahil', 'girişim', 'yorum', 'tek', 'nokta', 'edilir', 'aksiyo', 'geçilebilir', 'çıkartılmaktadır', 'one', 'pager', 'incelemek', 'için', 'yapma', 'etk', 'problemlerde', 'gösterilerek', 'öğrenebilir', 'aracıdır', 'sezgisel', 'sağlamaktır', 'çeşididir', 'kombinasyon', 'ağı', 'işlemek', 'lider', 'kuruluş', 'trai', 'meetup', 'algoritmalar', 'konuşuldu', 'izlemek', 'edebilirsiniz', 'calm', 'kaybı', 'llmyi', 'ka', 'hızlandırabilmiştir', 'ma', 'bulunmuştur', 'ayrık', 'ders', 'öğretilir', 'konusu', 'çelişki', 'ispat', 'tüm', 'mantık', 'atılıyor', 'aves', 'inovatif', 'çıkarma', 'amaçlaya', 'girişimdir', 'interaktif', 'konuşabilmes', 'mantıksal', 'devre', 'heves', 'öğrenci', 'saygı', 'duyuyor', 'yalnız', 'hukuk', 'olacağını', 'faktör', 'zorunluluk', 'ifa', 'edeyim', 'lugado', 'konuşan', 'müşteri', 'kesintis', 'hizmet', 'sağlayan', 'durum', 'kura', 'chatbottur', 'yayınlana', 'podcast', 'paylaşıyoruz', 'yönetile', 'bilgisayarların', 'nlpyi', 'kullanabilirsiniz', 'detay', 'yapayzekatrde', 'konferansı', 'abu', 'dabi', 'başlıyor', 'almadı', 'corpus', 'okut', 'aynıs', 'oluru', 'istiyorum', 'öz', 'sağlamış', 'kompleks', 'şahıs', 'tanıt', 'anlat', 'feç', 'türk', 'seviyorentellektüel', 'msü', 'atasare', 'intellige', 'studies', 'datakapital', 'cofounder', 'jeostratej', 'değiştiricidir', 'gerekli', 'ulaşma', 'kolaylaştırır', 'güz', 'diyebilir', 'bakal', 'neler', 'bekliyor', 'söyleyebilir', 'geline', 'nok', 'muazzam', 'gidiş', 'ileri', 'devredeceğiz', 'gor', 'uygulanabiliyor', 'gelistirile', 'cigir', 'acabiliyor', 'misale', 'vit', 'rubin', 'haberler', 'resmi', 'belgeler', 'edebiyat', 'koleksiyon', 'kültürel', 'materyal', 'çıkarak', 'hazırladık', 'işlerinde', 'sayısal', 'metot', 'yararlanır', 'olmamak', 'elo', 'musk', 'kurucu', 'openal', 'neurolink', 'harik', 'makine', 'düzenledik', 'gülşe', 'eryiğit', 'tea', 'amp', 'talk', 'etkinlik', 'davetlisiniz', 'katılmak', 'isteye', 'bio', 'formu', 'doldurma', 'rica', 'ediyoruz', 'katıl', 'açıktır', 'görüs', 'kütüphane', 'sorabilecek', 'space', 'açtım', 'bura', 'yazabilir', 'önemlidir', 'asyu', 'bildiri', 'ikinci', 'bildir', 'seçildi', 'sağlama', 'diliyor', 'başlama', 'ideal', 'ba', 'aşılaya', 'haydar', 'başı', 'özle', 'anıyorum', 'sevdik', 'sevmedik', 'elektroteknik', 'çalıştık', 'karmaşıklık', 'zorlandık', 'kopya', 'çektik', 'eğlendik', 'bitki', 'sever', 'buluşuyoruz', 'itu', 'scie', 'society', 'workshop', 'üniversite', 'arkadaş', 'davet', 'edebileceğiz', 'başvurabilirsiniz', 'kas', 'cumartes', 'saat', 'mef', 'üniversitesin', 'öğret', 'üyes', 'şe', 'demir', 'kendis', 'datatotext', 'generation', 'via', 'seqseq', 'networks', 'konul', 'arayüz', 'progra', 'fakat', 'uğraşılacak', 'zamanmak', 'yapılmas', 'gerekiliyor', 'çares', 'işlevsel', 'hocambe', 'iyidir', 'boğaziç', 'üniversites', 'mühendislik', 'bölüm', 'araştırmacı', 'derlem', 'kolaylık', 'erişilebilme', 'açıldı', 'naiv', 'bayes', 'algoritmas', 'karşılaşmışsınızdır', 'hadi', 'bakalım', 'yapal', 'okumasını', 'duymasını', 'yapmasını', 'yorumlamasını', 'ölçme', 'kılar', 'bilgisayarlar', 'insanlarlarla', 'kurar', 'gerçekleştirirler', 'alt', 'alanıdır', 'olur', 'böyleç', 'tekrarlaya', 'gerçekleştirebilirler', 'todoist', 'başladım', 'müthiş', 'call', 'mahmut', 'tomorrow', 'night', 'diy', 'yar', 'akşa', 'task', 'giriyor', 'dan', 'yapacağım', 'dilay', 'ın', 'yap', 'dhjsdhksdh', 'biş', 'çıkar', 'orta', 'nöron', 'ko', 'şablon', 'matematiksel', 'hesaplama', 'boş', 'girişimci', 'yatırımcıların', 'yatır', 'yaratma', 'avantaj', 'faydalanmak', 'zama', 'maaliyet', 'tasarruf', 'olanak', 'geçebilirsiniz', 'elastiç', 'tex', 'pozitif', 'negatif', 'çıkarıyoruz', 'üs', 'istedik', 'editor', 'keywordu', 'yazıyor', 'zaten', 'yakalıyo', 'işlemenlp', 'kavram', 'gömeçlemedirwordu', 'embedding', 'oluş', 'bireysel', 'kumulatif', 'topl', 'hafızas', 'meydandadır', 'hafızasıkavra', 'eğer', 'deney', 'olmadık', 'istenile', 'kapsa', 'oktay', 'sinanoğlu', 'celal', 'şengör', 'münevver', 'defa', 'kavra', 'bağıntı', 'çekerek', 'çeviri', 'kayp', 'ederler', 'aritmetik', 'anlar', 'wome', 'tech', 'academy', 'ilha', 'buluşma', 'seri', 'yeni', 'ekliyor', 'ser', 'buluşmasına', 'trt', 'tak', 'liderlik', 'yürüten', 'ilknur', 'durgar', 'elkahlout', 'konuk', 'oluyor', 'etimoloji', 'kökenbilim', 'iştikak', 'belagat', 'sesanla', 'ilişki', 'fonosemantik', 'göstergebil', 'semiyoloji', 'processing', 'retorik', 'eleştiri', 'münazara', 'bağlam', 'kodla', 'talibiz', 'aynı', 'olabilen', 'tanış', 'mıydınız', 'gercek', 'tarzı', 'olus', 'ugrastıgı', 'cok', 'gelisme', 'istemiyorum', 'bazi', 'kolaylik', 'kullaniç', 'inmemeli', 'cılkı', 'cıkar', 'geliyor', 'bilmiyor', 'em', 'belki', 'gelismel', 'aktarıla', 'algılayabilecek', 'anlayacaklar', 'muhafazakar', 'action', 'man', 'okul', 'müdür', 'princeto', 'enstitü', 'profesör', 'burnu', 'etkileşim', 'ölçü', 'ingiliz', 'hayal', 'tarif', 'yazdırabileceğiz', 'rekla', 'hariç', 'çalıştı', 'sabahki', 'paylaş', 'ekra', 'kar', 'yazdık', 'anlamaması', 'güncelle', 'şart', 'geliştire', 'paylaşılmaya', 'anlaşma', 'sat', 'aldı', 'uipath', 'reinfer', 'edecek', 'ayrıştırma', 'çözümleme', 'hayırlı', 'cumalar', 'of', 'yazdırmak', 'fena', 'global', 'asis', 'sunuyoruz', 'düzgü', 'işleyemiyor', 'çözsünler', 'geo', 'keşfi', 'yapısal', 'doğruluklu', 'keşif', 'yapılır', 'istatistiksel', 'hazırla', 'içere', 'githup', 'repo', 'göz', 'atma', 'önerir', 'tahmin', 'yapabilmes', 'eşle', 'alay', 'öfke', 'ton', 'yönelik', 'taban', 'algoritmalarının', 'çevirebilme', 'başarıs', 'malumubu', 'beceri', 'alanne', 'kıyas', 'düşük', 'denilebilirbu', 'ethda', 'yayınlak', 'makale', 'reddit', 'anlamıcloudu', 'meaningcloudu', 'açıkladı', 'paralel', 'map', 'reduce', 'fikir', 'madenciliğisemantik', 'ivme', 'kazandık', 'gözlenmiştir', 'portia', 'füzyo', 'sistemi', 'yapılandırıl', 'yapılandırılmamış', 'çeker', 'zenginleştirir', 'anlıkperiyodik', 'olsun', 'ttgv', 'eş', 'fonun', 'portföy', 'geldiniz', 'kronik', 'suna', 'katıldık', 'mutluyuz', 'vadis', 'türki', 'yürütücülüğünde', 'teknofest', 'kapsam', 'gerçekleştirile', 'yarışmas', 'başvuru', 'başladı', 'farkındalık', 'düzenlene', 'yarışma', 'dal', 'ikis', 'ayrı', 'kariyer', 'rehber', 'aratıp', 'bulabilirsin', 'kolaylaştırıç', 'kapı', 'konudur', 'önemsiyor', 'başarı', 'diliyoruz', 'çevrimiç', 'yarışmasına', 'heme', 'başvur', 'öğrencilerimiz', 'evrimsel', 'nesne', 'interneti', 'performanslı', 'poster', 'sunmuşlardır', 'öğrenmesidoğal', 'bilgisayarlı', 'vesair', 'çekiyor', 'deniyor', 'kirlilik', 'sıra', 'öğrenice', 'duyulacak', 'bak', 'masyer', 'doktoran', 'oturur', 'se', 'site', 'haf', 'çözerim', 'paylasay', 'tr', 'koç', 'üniversitesi', 'tübitak', 'fonlu', 'alacak', 'lisans', 'sonras', 'arıyorum', 'hayır', 'klinik', 'yetkinligi', 'ilgis', 'olurdu', 'duzelteyim', 'ilgile', 'çogu', 'arkadas', 'yapıyor', 'hicbir', 'ci', 'demedi', 'ilgilenme', 'saptırıyor', 'amatör', 'akademik', 'çaba', 'dış', 'sanır', 'kez', 'bö', 'durumda', 'yanılmıyor', 'düzelt', 'bile', 'turkce', 'uğraşan', 'bekliyoruz', 'karşıla', 'davranış', 'eşleştirme', 'sofistik', 'gelmes', 'bekleniyor', 'yayindayiz', 'varlik', 'ismi', 'namedi', 'entity', 'recognition', 'uzer', 'calisiyor', 'olacagiz', 'oluşturulacak', 'söyledi', 'önceliklendirilmes', 'küresel', 'açılacak', 'yerli', 'milli', 'çıkarılmas', 'teşvik', 'edilecek', 'aa', 'stockholm', 'merkezli', 'hypertype', 'euro', 'işlemede', 'varsayımsal', 'metodu', 'kullanabilmek', 'yapıs', 'alışılagel', 'yapılamayacak', 'nadir', 'grammarly', 'gerçekleşebilir', 'haber', 'olmayabilir', 'üni', 'ok', 'başlatmıştı', 'wwvw', 'uysal', 'çeyrek', 'istihda', 'paylaştı', 'belge', 'çıkara', 'springer', 'nature', 'group', 'international', 'journal', 'document', 'analysis', 'and', 'ijdar', 'dergi', 'yayınlandı', 'ddi', 'sürdürdüğü', 'fuat', 'ulusal', 'ekosistem', 'portalı', 'cumhurbaşka', 'yardımcıs', 'konuş', 'konuşa', 'makina', 'yazış', 'anlaşır', 'oluşturulur', 'anlattım', 'okudunuz', 'okumadı', 'mı', 'okuyunuz', 'serdar', 'gemiç', 'serhat', 'albert', 'healthi', 'kurdular', 'has', 'yönetim', 'üre', 'geliyorlar', 'görüyor', 'işbirlik', 'sekl', 'bulmuyor', 'zort', 'bilişsel', 'kapsaya', 'muhasep', 'belirli', 'güç', 'gerektire', 'otomatikleştirebilir', 'süper', 'fikri', 'aklımda', 'tvit', 'zekadoğal', 'sema', 'direkt', 'yatar', 'hesaplaya', 'gönder', 'basma', 'hapis', 'yatacak', 'öngörebileceksin', 'kod', 'şö', 'ta', 'gptü', 'basit', 'tanımlamak', 'mümkün', 'öngörüç', 'besledik', 'ney', 'gerektik', 'ediyor', 'haya', 'kodcu', 'haberi', 'alanında', 'mimarilerini', 'protein', 'fonksiyonel', 'uyguladık', 'yayımla', 'duyarlı', 'kullanıyorlar', 'sanal', 'attık', 'avrasya', 'tünel', 'donatıldı', 'yanlış', 'düzel', 'anlatır', 'gkfkgkdkg', 'görmemiş', 'tespit', 'edilme', 'kullanıl', 'er', 'unsur', 'kaynaklana', 'eğilim', 'bias', 'çözül', 'gürbüz', 'robust', 'optik', 'çıkarılma', 'safir', 'evrak', 'azaltıyor', 'ayrın', 'haberimizde', 'birleştire', 'ayırt', 'gereksinim', 'karşılamak', 'gelir', 'dodoya', 'destek', 'zevkli', 'oynayan', 'yürüttük', 'gamifiedi', 'crowdsourcingi', 'idiom', 'corpor', 'construction', 'uluslararas', 'dergis', 'cambridge', 'webinar', 'böl', 'cem', 'say', 'ilişkiyi', 'vermesi', 'çalışmalar', 'tembellik', 'hatal', 'kullandımta', 'açıkçası', 'söyleme', 'çalıştığım', 'processingi', 'otomasyon', 'kapsadık', 'nüfuz', 'beş', 'etkiledik', 'konuştuk', 'şevval', 'ayşe', 'yurtekin', 'değiniyor', 'kırk', 'harami', 'sevmez', 'bayılırım', 'kur', 'kere', 'multinet', 'up', 'phex', 'memnuniyet', 'ölç', 'projes', 'pulse', 'antik', 'öğrene', 'görüntüses', 'başarabile', 'şirketler', 'fiya', 'sunarak', 'yutacaklar', 'silahlı', 'kuvvet', 'seminerinde', 'sektörel', 'konuşulduk', 'yayında', 'birinci', 'göremiyoruz', 'akade', 'kesişim', 'seminer', 'youtube', 'yay', 'seminerdeyiz', 'görüşmek', 'üzere', 'çıkardık', 'güncel', 'sene', 'paylaşacağız', 'linki', 'bahsettik', 'aktar', 'etieketle', 'kürsü', 'ilgilendire', 'husus', 'tam', 'otonomluk', 'tartışıla', 'ceza', 'hukuun', 'fail', 'sağlanıp', 'sağlanamayacağı', 'hedeflene', 'tarih', 'geliştirilip', 'hedef', 'kitle', 'ulaştırılmas', 'milyon', 'işlenebilmes', 'etiketle', 'bitirilmes', 'gerekiyor', 'giriyo', 'kanka', 'nps', 'endeksi', 'metrik', 'zamanlı', 'ölçüm', 'sağlayıp', 'etki', 'istersen', 'arayıp', 'aramadık', 'yatırımcı', 'etiketliyor', 'şirketi', 'bilmiyorum', 'okumadım', 'memleket', 'bildik', 'cebiroğlu', 'tavsi', 'verebilir', 'petal', 'çil', 'karşılama', 'akl', 'takıla', 'yanıtlama', 'motorları', 'öncüsü', 'psikografik', 'ahdjsahdkjahdsjkahjdka', 'geliştirilmesidir', 'geliştirilecek', 'olup', 'taşıyacaktır', 'günümüzde', 'entegrasyo', 'öne', 'veriyoruz', 'ekliyoruz', 'self', 'servis', 'xoi', 'tanışmak', 'anlattik', 'gece', 'gun', 'dkda', 'beta', 'versiyo', 'geçen', 'ediyorum', 'sevgil', 'genç', 'lms', 'sorabilir', 'öneri', 'iletebilirsiniz', 'şikayet', 'sınıflandırabilir', 'bsh', 'it', 'altyapıs', 'fro', 'çalışan', 'yanıtlıyoryapay', 'fronaçalışan', 'inana', 'kurdum', 'heyecan', 'ortak', 'beklerim', 'sinav', 'tahmini', 'java', 'progr', 'inovasyon', 'kusur', 'yazil', 'muh', 'seçmel', 'hic', 'girmedigm', 'islet', 'mach', 'learningi', 'ml', 'edebilecek', 'ulaşabilirsiniz', 'açmas', 'beklene', 'iot', 'sunucus', 'biometrik', 'artırılmışyapay', 'gerçeklik', 'blokzincir', 'quan', 'computingi', 'köşe', 'pictoblox', 'bildirile', 'semptom', 'kişi', 'covid', 'sıtma', 'diyabet', 'hastalık', 'koyabile', 'geliştiriyoruz', 'vireup', 'almas', 'harita', 'ek', 'itibar', 'öngör', 'analitiği', 'artmış', 'oldu', 'ayrıntılar', 'artırıl', 'zekas', 'kullanım', 'giderek', 'artmas', 'dolayıs', 'ilet', 'ctomuz', 'problemlerine', 'artiwis', 'üretilebilecek', 'dair', 'link', 'sıcak', 'cüzda', 'priva', 'key', 'ait', 'anahtar', 'edebile', 'alabil', 'ipuç', 'verelim', 'kuruç', 'gurur', 'summarify', 'izle', 'sumsocial', 'olay', 'rapor', 'ortaya', 'week', 'turkcell', 'gerçekleşecek', 'teknikler', 'gösterilecek', 'sponsor', 'pzt', 'artiwise', 'dinleyebilir', 'boy', 'standı', 'dolaşabilir', 'küme', 'inceleme', 'dönüş', 'bekliyorum', 'paylaşabilirsiniz', 'tubitak', 'programi', 'lap', 'yurutule', 'tecrube', 'ogrencis', 'basvurulari', 'sayfas', 'asagi', 'ulasabilirsiniz', 'ber', 'arge', 'faaliyet', 'göstere', 'ibss', 'çöz', 'tahminle', 'çalışıyor', 'vardı', 'bilmyiroum', 'savunma', 'sanayi', 'cezbedemiyor', 'yıldızlı', 'sınıflandırması', 'doküma', 'kategorizasyo', 'sevi', 'rnn', 'çözmek', 'biridir', 'rnni', 'anlatmış', 'insanoğlu', 'uygarlaşma', 'kalmamış', 'zekâsı', 'doğa', 'görülmemiş', 'parlama', 'sağlamıştır', 'dedik', 'birikimi', 'sosyalleşme', 'ürünüdür', 'gösteriç', 'zorlu', 'cidi', 'istiyor', 'tabi', 'sınırlı', 'toplama', 'imkansız', 'uğraşıyor', 'hali', 'osmanlıca', 'öğreniyorum', 'tanesi', 'kimesne', 'çekme', 'farket', 'geliştirdik', 'çekmek', 'öğrenmek', 'keith', 'galli', 'az', 'alanı', 'başlangıç', 'aşama', 'irt', 'yayımlama', 'yaşıyoruz', 'nümerik', 'yapılıyor', 'başak', 'özet', 'hazıeladı', 'aldılar', 'stratejisine', 'kamu', 'fil', 'çıkarılacak', 'harcama', 'pay', 'hedefleniyor', 'kurum', 'animasyo', 'istemiş', 'anlaşılan', 'mesaf', 'katet', 'eklemel', 'emekle', 'safhasında', 'uzman', 'onl', 'ortam', 'bullying', 'tespiti', 'oda', 'gösterip', 'sarkan', 'gruplu', 'içgör', 'edinilebilir', 'madenciliği', 'görsell', 'bünyes', 'maksim', 'sade', 'katkısı', 'yarışmasın', 'bigg', 'detaylar', 'diş', 'hekim', 'artırabilir', 'ağz', 'artislik', 'dbye', 'moderatör', 'eğitir', 'moderatörlük', 'göt', 'patladı', 'geçme', 'lazım', 'hayef', 'elt', 'designer', 'team', 'scenario', 'branchingi', 'eğittik', 'asistan', 'claim', 'cerrahpaşas', 'linguistics', 'focusedi', 'artificially', 'intelligent', 'mentor', 'tanıtmak', 'mutluluk', 'duyuyoruz', 'mutlu', 'veritaba', 'çalışmas', 'sponsorluk', 'dinleyin', 'şurada', 'zemberek', 'or', 'görebilir', 'kaynaktı', 'kurduk', 'üretil', 'syntax', 'içermiyor', 'içeri', 'sıral', 'değilim', 'kilometre', 'taş', 'modellerinden', 'kullanıldık', 'videomuzda', 'şura', 'ilgili', 'benzerlik', 'gösterdi', 'anlattılar', 'sel', 'söylemiş', 'yapıyoruz', 'savaş', 'aç', 'geçmiyor', 'semantik', 'ziya', 'odaklanıyor', 'mecburen', 'yazık', 'подорож', 'триває', 'продовжуються', 'реєстрація', 'на', 'конкурс', 'межах', 'термін', 'подачі', 'заявок', 'липня', 'докладна', 'інформація', 'та', 'haritas', 'diyalogsal', 'topla', 'alıyor', 'kullanılmadık', 'yapilmaya', 'yazik', 'kodu', 'yaza', 'çağatay', 'odabaş', 'yazdırıyoruz', 'gptneo', 'huggingfaç', 'kullanıyoruz', 'seçil', 'seçile', 'alterna', 'cx', 'abdye', 'açılıyor', 'saatler', 'vakit', 'efor', 'kazanabilirsiniz', 'kalitel', 'oluşturulmuş', 'görü', 'sunuluyor', 'nlpnin', 'içeris', 'tanıtıyor', 'gösteriyoruz', 'merak', 'kapsayıç', 'inceleyeceğiz', 'akademisi', 'trilyo', 'değişke', 'çalışarak', 'rekor', 'imzal', 'gptündü', 'biris', 'yenilikler', 'io', 'konferans', 'kullanıcıs', 'kuaför', 'randevus', 'ayarlaya', 'asista', 'tanıştırmıştı', 'staj', 'beğenmeyip', 'laf', 'eden', 'hel', 'adana', 'etmeye', 'görevli', 'paylaşmas', 'birazcık', 'ironik', 'ilanı', 'ila', 'görmek', 'isteriz', 'gerekiyorsa', 'bilmelisiniz', 'ağustos', 'lis', 'kampı', 'yürütülecek', 'bigisayar', 'görme', 'kamp', 'burs', 'bulunuyor', 'asistanlar', 'konuşuyoruz', 'kemal', 'oflazer', 'mutlak', 'izleyin', 'sağlarken', 'lugadoyu', 'keşfetmek', 'demo', 'güzellik', 'getireceğim', 'diyor', 'la', 'dildeçok', 'modlu', 'tpuv', 'exaflop', 'error', 'corrected', 'qubitsquan', 'computers', 'patent', 'diyoruz', 'olağanüs', 'koşul', 'tedbirler', 'yoğunlaşma', 'gerektirir', 'coin', 'etmey', 'karbo', 'ayak', 'iz', 'kg', 'karbondioksit', 'emisyon', 'eşit', 'gidişdönüş', 'new', 'yorkpek', 'uçuşu', 'kırıl', 'dikka', 'değer', 'dualite', 'daha', 'çalıştay', 'biraz', 'molekü', 'sunacağım', 'fetalist', 'anne', 'karn', 'bebek', 'muhtemel', 'anomali', 'otomatiz', 'konulma', 'fetalisti', 'startupmarket', 'inceleyin', 'yazıla', 'hakaretküfür', 'içerikli', 'genel', 'ofansif', 'ilgilene', 'showcase', 'görebilirsiniz', 'çini', 'tanımlıyor', 'ilişkil', 'sergileme', 'akıl', 'yürütme', 'uygulanabilir', 'bunlar', 'socialbot', 'enerjil', 'varlıklar', 'marşı', 'yetiştirilmiş', 'beyin', 'sabit', 'iğdiş', 'sloga', 'çağdaş', 'rpachatbotdoğal', 'eğlencel', 'yayındı', 'muhabbet', 'tadı', 'dinlemek', 'isterseniz', 'adresinde', 'akademi', 'konuşacağız', 'tanımı', 'felsefes', 'nisa', 'adre', 'alaka', 'ama', 'uygu', 'teori', 'kanıtla', 'faydalanıldık', 'makales', 'anlatma', 'kavrayarak', 'net', 'sağlayabilirsiniz', 'sınır', 'sınırlarıdır', 'wittgenstein', 'teorisye', 'olmuştu', 'sorun', 'aşabilecek', 'anlatıyor', 'githubı', 'github', 'days', 'html', 'aq', 'anlamaz', 'habersiz', 'tip', 'toplaş', 'koyup', 'duruyor', 'lan', 'olmaz', 'seferinde', 'sözelci', 'alınacak', 'başlayan', 'cumartesi', 'buluşal', 'kıymetli', 'zekân', 'ilkel', 'hâline', 'dek', 'alıp', 'yanıtlıyor', 'okunmalı', 'pytorch', 'torch', 'birim', 'bilgidoğal', 'laboratuvar', 'tensowflow', 'gösterilmektedirkimi', 'iyisi', 'anlayarak', 'çözümler', 'yönlendiriç', 'ayrıntıl', 'yoğunluk', 'verimli', 'kullanılma', 'başlaya', 'metotları', 'azaltma', 'bakımından', 'umut', 'vaat', 'etmekte', 'sürdü', 'genellik', 'gereksin', 'duyula', 'ilgilenen', 'core', 'kalmak', 'tayla', 'anlatacak', 'mart', 'ctosu', 'fatih', 'samet', 'cet', 'ayrıntı', 'okumak', 'dönüştürüç', 'itibare', 'cep', 'telefon', 'simülta', 'çevirme', 'tanıtıla', 'ağlar', 'serüven', 'devri', 'leadı', 'gize', 'gezici', 'endüstri', 'seris', 'tezgahın', 'bilgis', 'hata', 'bularak', 'türkçeyaz', 'kworks', 'day', 'sahnesindeydi', 'nvidia', 'asr', 'tts', 'altyap', 'jarvis', 'duyur', 'getirecek', 'genetik', 'varsa', 'deyip', 'koyul', 'haklı', 'çıktık', 'görmüşler', 'paylaşıla', 'hesap', 'kapal', 'hesabım', 'kullanıyorum', 'sunumdu', 'tebrik', 'sabırsızlık', 'kursu', 'appliedi', 'attention', 'question', 'answeringi', 'heps', 'kodluyoruz', 'ekrem', 'uluslaras', 'olimpiyat', 'temsile', 'gümüş', 'madalya', 'girdim', 'çalışmak', 'dinlenmedik', 'istenmedik', 'buyursunlar', 'timuç', 'gül', 'mutfak', 'sentetik', 'dönüşüp', 'dönüşemeyecek', 'bişey', 'rpan', 'çıka', 'birleştirerek', 'merkezileştirilemeye', 'robotbot', 'tanımlanabilir', 'kurumsal', 'kurarak', 'kazanırken', 'artırın', 'yazar', 'neysek', 'dahacı', 'kalmıyor', 'semantiç', 'scholar', 'alle', 'kılınabilmesini', 'tldr', 'too', 'long', 'didnt', 'read', 'kullanıp', 'çıkartıyor', 'datingi', 'game', 'ew', 'no', 'sure', 'filmm', 'can', 'choke', 'pls', 'hotampsmart', 'im', 'sick', 'gettingi', 'the', 'opposites', 'idk', 'unnecessary', 'facts', 'hepsi', 'ignor', 'abartmıyos', 'voice', 'ay', 'tabii', 'they', 'hate', 'me', 'psikolojik', 'tartışılmal', 'esas', 'etik', 'bip', 'uça', 'kuş', 'tvnin', 'çıkarttığı', 'başvurus', 'tartışılıyor', 'doktoras', 'buluna', 'ev', 'bilene', 'sordum', 'anlatacağım', 'buluş', 'cihaz', 'mesajlaşma', 'yazışma', 'belirlenme', 'belirlene', 'müzik', 'bulunulma', 'imka', 'öner', 'başlıklı', 'başvurusu', 'yukarı', 'mecaz', 'katmak', 'girdik', 'edip', 'söylemek', 'hesaplamal', 'dilbilimdoğal', 'noktas', 'verebilecek', 'biç', 'güncellersek', 'yaşadık', 'teorikpratik', 'yetişecektir', 'etkileyecek', 'uygulaması', 'bazlı', 'planla', 'arıcılıksüt', 'işlemetarımkıyafet', 'dikimitamiriayakkap', 'uretimitamiri', 'astronomi', 'su', 'arıtmadamıtma', 'sebzecilik', 'güneşrüzgar', 'enerji', 'kullanmamotor', 'bakımı', 'evbarak', 'yapımı', 'arıtmadamıtmacalculussu', 'arıtmadamıtmadil', 'bilgisihidroje', 'enerjisisu', 'isteyenler', 'aliç', 'alice', 'dilbilimsel', 'tepki', 'vererek', 'olabildik', 'girmek', 'başarısızlık', 'uğraşma', 'alama', 'konuşalım', 'kaf', 'yoruyor', 'eğittim', 'trainingvalidation', 'lossa', 'baktık', 'overfittingi', 'işsiz', 'bırakacak', 'çağrı', 'derken', 'demek', 'değiş', 'duymak', 'kızmak', 'anlaşılmak', 'intihar', 'riski', 'giyilebilir', 'esnek', 'özelleştirme', 'olmasını', 'bağla', 'kurulma', 'sağlanmal', 'şeffaf', 'olmalıdır', 'kullanılmas', 'belirleyebilir', 'sıvadık', 'cognitiv', 'inşaa', 'edeceğiz', 'kayıt', 'transle', 'servisi', 'ürkütüç', 'servi', 'muydunuz', 'gelişti', 'maillerimizi', 'kuramsal', 'sunuyorsa', 'dilbilimdir', 'bakış', 'potansiyel', 'değerlendirip', 'güncellemelidir', 'gerçekleştirilmiştirrobotik', 'küçükköy', 'hika', 'yazılım', 'tasarım', 'robotikyapay', 'zekamak', 'sensörler', 'güneş', 'enerjis', 'köy', 'hikayes', 'temas', 'aktarılmaktadır', 'kirletmek', 'kalmayıp', 'kaçırmayın', 'guide', 'onur', 'boyara', 'ederiz', 'darendel', 'deeplearning', 'saniye', 'yazmasındanfav', 'anlaşılıyor', 'flood', 'şüphelenemiyorduk', 'köt', 'görmedim', 'konuğu', 'pragmacraft', 'kurucus', 'mehmet', 'güler', 'trendi', 'konuşulma', 'özgürlük', 'ekolojik', 'maliyet', 'üniversi', 'atılma', 'parmak', 'basabiliyor', 'üretiyoryapay', 'brain', 'oran', 'ulaştı', 'ne', 'aceba', 'girişimcis', 'gire', 'garanti', 'bbva', 'kodluyor', 'alchemist', 'altıncı', 'karşınızdayız', 'konuğumuz', 'yapila', 'duygudur', 'koya', 'paylasim', 'engel', 'trump', 'avukati', 'dav', 'dilekçe', 'delil', 'paylasma', 'calis', 'sekil', 'vermedi', 'dün', 'karada', 'keyifli', 'gerçekleştirdik', 'tekrar', 'kesyapış', 'belli', 'para', 'yazılamaz', 'yök', 'taba', 'geldik', 'sınıflandırılabilir', 'problemi', 'ekosiste', 'yayımladık', 'motoru', 'birikim', 'sun', 'izleme', 'sağla', 'edisyo', 'taslak', 'bitmedi', 'iyiydi', 'speech', 'rd', 'ed', 'draft', 'by', 'jurafsky', 'james', 'telefo', 'başlık', 'ike', 'önerilmişti', 'farkettik', 'şeyler', 'mitn', 'bahar', 'healthcare', 'kullanımları', 'risk', 'sınıflandırmas', 'duyurulur', 'öğrenimine', 'duke', 'universitesi', 'courser', 'hakkında', 'lojis', 'regresyon', 'katmanlı', 'algılayıcılar', 'evrişimli', 'sistemler', 'görselleştirme', 'ikiz', 'simülasyo', 'sağlayabilecek', 'vakt', 'ayırabilirsiniz', 'derin', 'dersleri', 'tirendaz', 'dev', 'ingilizceyi', 'çıkartarak', 'merhabalar', 'uzmanlaşmak', 'izleyecek', 'işaret', 'okuma', 'felsef', 'kimse', 'etmedik', 'paylaşım', 'rastlıyorum', 'doğru', 'tartışma', 'gereke', 'sorus', 'olmalı', 'siri', 'alexa', 'kutuları', 'sinirsel', 'bey', 'gereksiz', 'sük', 'size', 'kavrama', 'zarar', 'gösterirken', 'desteklene', 'aracılık', 'fırsat', 'start', 'upı', 'huggingi', 'face', 'tamamlamak', 'bağlamsal', 'bulup', 'yorumlaya', 'ettirecek', 'jav', 'dönüştürme', 'başarma', 'sunulmuş', 'yıkıcı', 'atama', 'ee', 'lisansı', 'ku', 'leuven', 'sinyal', 'italyada', 'trento', 'türkçen', 'tamamladı', 'zürih', 'reyya', 'yeniterzi', 'vbyon', 'gününde', 'temasında', 'rpa', 'getirerek', 'otomatikleştirme', 'sahne', 'çevr', 'içi', 'takım', 'dola', 'fixy', 'clutch', 'adam', 'inandık', 'başarmak', 'teknolojisinin', 'fare', 'konuşuluyor', 'uygarlaştıramayabilecek', 'dey', 'hareketli', 'bilinci', 'üzgü', 'malesef', 'aşamas', 'bahsediyoruz', 'gelmiş', 'varher', 'saldırabilir', 'guardian', 'yazmış', 'korkmay', 'fala', 'demiş', 'serpti', 'sağol', 'bakmay', 'fiziksel', 'dönem', 'piyas', 'uygulayabilirsiniz', 'derledik', 'process', 'sev', 'çalışka', 'sabancı', 'müh', 'almanya', 'ulm', 'kognitif', 'yl', 'eth', 'generatif', 'yaptı', 'barselona', 'sir', 'apple', 'eleştirisi', 'ker', 'silkme', 'floodu', 'ortalama', 'birincilik', 'bitirdi', 'çap', 'cornell', 'yapmaktadır', 'blogu', 'sahibi', 'işlemeanla', 'playlist', 'karalayarak', 'edebiliyormuş', 'kullanılmıştır', 'bel', 'günel', 'izmir', 'fen', 'kaliforni', 'berkeley', 'elektrikelektronik', 'karanlık', 'veriler', 'evcilleştirilebilir', 'sağlayacak', 'katkıs', 'olduğumuz', 'erişebilirsiniz', 'tanıtım', 'rastgel', 'harfler', 'oluşa', 'çıkarabiliyor', 'sensör', 'kamera', 'kusursuz', 'algılayabiliyor', 'paylaşa', 'barış', 'özcan', 'videon', 'bilinç', 'aşkı', 'takdir', 'edemeyecek', 'söylüyor', 'katılmıyorum', 'nedeni', 'bakanlık', 'eğitiyor', 'yardım', 'tasarladık', 'yöneltile', 'sorgulama', 'verebiliyor', 'çağ', 'atla', 'kesinlik', 'okumalısınız', 'edilmes', 'eniş', 'kişilik', 'kulüp', 'kurup', 'videos', 'koyma', 'niyet', 'alal', 'gözetimli', 'etiket', 'çalışıyordu', 'sıklık', 'bakılıyortürkçe', 'işleyebilmeliyiz', 'belirsizlik', 'giderme', 'bilimci', 'geliştirici', 'kütüphanelerimiz', 'oyuncağı', 'muhteşe', 'isabetli', 'isimli', 'yazmıştık', 'islamofop', 'makines', 'isla', 'müslüma', 'bomba', 'cinaye', 'terör', 'bağlıyor', 'tanımlanıyor', 'biliyorşiir', 'yazıp', 'çeviriyor', 'kurabiliyor', 'yayınlandık', 'arxiv', 'verisetiin', 'getirdi', 'veriseti', 'benchmark', 'şimdi', 'yendik', 'oyun', 'dayanıyor', 'maalesef', 'ilerlemiyor', 'turingi', 'geçebilecek', 'yapılamadı', 'polisi', 'imla', 'denetle', 'hedefimiz', 'tasarlamaktır', 'haftalık', 'ras', 'workshopı', 'hazırlıyor', 'bıraktık', 'dinlemeler', 'açıl', 'bahsetmiştim', 'cevabe', 'kale', 'almış', 'ciddiyet', 'bahsediyorum', 'vardık', 'eşsiz', 'zorluk', 'niç', 'bulabileceksiniz', 'başladık', 'kabiliyet', 'wikipedian', 'kısmı', 'müfredat', 'kullanılmış', 'tamamlandı', 'görüsü', 'bulabilirsiniz', 'hey', 'isteyen', 'isteniyordu', 'başlayarak', 'sanırım', 'sorulmadan', 'işlenecek', 'helper', 'function', 'repomu', 'güncelledim', 'listeledik', 'pazarlamaç', 'insanlarıyız', 'terim', 'dikkatli', 'kullanal', 'bender', 'koller', 'tema', 'bildiris', 'ödül', 'climbingi', 'towards', 'nlu', 'meaning', 'form', 'understandingi', 'age', 'data', 'tırmanış', 'çak', 'üzerine', 'tuzak', 'düşmüşsünüz', 'söyledik', 'olabilseydi', 'fakir', 'zengi', 'sınıflandırmak', 'morfolojik', 'kathleen', 'mckeown', 'hatırlattık', 'şeydi', 'berk', 'üstündağ', 'bilimdir', 'tdk', 'departma', 'görmelidir', 'organizasyo', 'fonksiyon', 'olcay', 'taner', 'yıldız', 'mentörlük', 'yarışmacı', 'yanındayız', 'lineer', 'nonlineer', 'yaklaşımlar', 'mekanizma', 'kullanabile', 'huawei', 'bağlılık', 'ölçecek', 'wefocus', 'gelistiril', 'şöylek', 'olmadı', 'ayda', 'django', 'flask', 'react', 'js', 'reactnative', 'çalış', 'dependency', 'parsing', 'öbek', 'televizya', 'geçecek', 'camias', 'değişik', 'spesifik', 'cesitlenme', 'azalacaktır', 'kutluyorum', 'yarışmacılar', 'geliştirecek', 'düzenlenecek', 'yarışmada', 'vadisin', 'ofis', 'sağlanacak', 'ekipler', 'vizyo', 'beyn', 'kablo', 'yürütücülük', 'gerçekleştirilecek', 'katılacak', 'yarışmaç', 'sayılar', 'grafikler', 'formüller', 'istatistikler', 'gösterimlerbun', 'uzak', 'demektir', 'bioenformatik', 'sayıs', 'ayırıç', 'gerçekleştire', 'ödev', 'yapca', 'hırs', 'ömr', 'mânâsız', 'nalâka', 'anadil', 'türkçeyi', 'tornada', 'frez', 'tezgah', 'işliyecekler', 'doğrus', 'kullanmışlardır', 'hazira', 'sürecek', 'düzenlemektedir', 'madde', 'indirmiştim', 'acap', 'ettim', 'varmış', 'alacağız', 'un', 'bulutu', 'satış', 'yansımas', 'albatros', 'sizlerle', 'pdf', 'format', 'derle', 'ingilter', 'hükümet', 'londra', 'kurula', 'girişimi', 'bankalar', 'firmaları', 'gtgt', 'prototip', 'sayılabilecek', 'bin', 'wordvec', 'gru', 'lstm', 'çalışmamış', 'öğreniyodu', 'yapılma', 'coro', 'virüs', 'herke', 'anlık', 'geçirdi', 'fakültes', 'doç', 'yürütüle', 'çalışmaları', 'konuşacak', 'mayısta', 'viz', 'ödeme', 'prestijli', 'konfera', 'katılabilir', 'çünkü', 'bedel', 'dolar', 'dersi', 'karşı', 'ya', 'katayım', 'sevda', 'gir', 'cell', 'run', 'yapmamıştım', 'uğraş', 'sabah', 'alakas', 'bulaştırma', 'başarınca', 'mesaj', 'değerlendiriliyor', 'repos', 'düzenledim', 'düzenliyorum', 'eğitme', 'galiba', 'ekibine', 'hoç', 'organizatörlük', 'doküman', 'kesinlikle', 'güncellemesi', 'otoriterlik', 'geçemedi', 'bayra', 'tatil', 'anlamsız', 'kızgın', 'gergin', 'sakin', 'yargı', 'anlayabilmeli', 'muhattap', 'oluna', 'temsilci', 'boşvermişlik', 'bırakılmamalıdır', 'teşhistedav', 'nitelikli', 'factor', 'konacak', 'hastas', 'dahi', 'colap', 'anlatım', 'kemalca', 'bor', 'açik', 'kayit', 'odak', 'öğrendik', 'çalıştığında', 'anlayacak', 'anlayamayacak', 'üslup', 'öze', 'gösteriyorum', 'ters', 'köş', 'event', 'yönlendiriyor', 'acikseminergunbankacilikfinansalanindadogaldilisle', 'eba', 'sağ', 'güle', 'simge', 'öğrenmesiyle', 'sorula', 'nihayet', 'geçirebildik', 'açılış', 'temelli', 'yazıs', 'buyr', 'efe', 'sağlıklı', 'derlene', 'araçları', 'nev', 'tes', 'yayındayız', 'araştırmacıs', 'fatma', 'tarlaç', 'tıklayın', 'ettik', 'your', 'gui', 'to', 'gt', 'newsletter', 'tamamladık', 'pipel', 'inceledi', 'çalışıyoruz', 'kapıldık', 'pekiştirmel', 'buyrun', 'dubey', 'investigatingi', 'huma', 'priors', 'playingi', 'games', 'icml', 'projemiz', 'açıkhack', 'hackathon', 'gelerek', 'segme', 'perspektif', 'sn', 'cumhurbaşkanın', 'dolunay', 'incelenmiş', 'bölünmüştür', 'ekonomi', 'ekonometri', 'harmanlayarak', 'disiplin', 'hedeflemektedir', 'mit', 'kandırabile', 'textfoo', 'have', 'developedi', 'system', 'calledi', 'that', 'trick', 'use', 'lik', 'ones', 'usedi', 'diyebiliriz', 'güncelleme', 'sunma', 'yaklaşıyor', 'bilemedi', 'öğrenilir', 'yazılır', 'kalan', 'tane', 'sözvarlık', 'istatistik', 'çıkarılır', 'halkbank', 'analyticsi', 'seçti', 'doğuş', 'otomotiv', 'departman', 'manuel', 'operasyonel', 'yürütüyor', 'akbank', 'bilen', 'ulaşarak', 'işlem', 'gerçekleştiriyor', 'biyoloj', 'güncelleniyor', 'bilmek', 'değilsiniz', 'yoğunlaşın', 'visionı', 'öğreniyor', 'forecastingi', 'hep', 'umar', 'özerk', 'popülist', 'safsatalardan', 'araba', 'konuşsun', 'hayaller', 'konumlanma', 'başarır', 'artırımı', 'dinledik', 'çoğaltabilecek', 'parmakizi', 'imge', 'üzerinedir', 'yardımlaşma', 'dayanışma', 'derneği', 'şiir', 'notebookum', 'kategor', 'teoris', 'birleştirip', 'inceleyeceğim', 'kardeş', 'haklarıalt', 'komisyo', 'başkanlık', 'hak', 'zekan', 'fayda', 'olsa', 'aktarmak', 'so', 'uygulamasi', 'yaşar', 'oyla', 'çoklu', 'yaklaşımı', 'yüret', 'hatır', 'hediye', 'buldu', 'kıymel', 'katılımcı', 'uygulamalarında', 'kadı', 'erkek', 'sıkıntılıköt', 'kadın', 'yapılmaz', 'önyargıyanılgısapmakalacak', 'yönünde', 'kütüphanesi', 'otur', 'paylaşıldı', 'özette', 'dille', 'mühim', 'işlemeanlama', 'uygulana', 'dl', 'geçerli', 'bilişimsel', 'boyut', 'kazana', 'bilimler', 'karşılayacak', 'şa', 'eriştik', 'metodoloji', 'düşünmekdilsel', 'denetimsiz', 'unsupervised', 'öğrenilebiliyorsa', 'galatasaray', 'anlatıyorum', 'mid', 'senior', 'kıdemli', 'aranıyor', 'gönderebilirsiniz', 'malatya', 'teknokent', 'aile', 'istanbul', 'virco', 'katıldı', 'siber', 'güvelik', 'kişisel', 'korunmas', 'gösteriyor', 'platformun', 'düzenleyecek', 'hackatho', 'etkinliğinde', 'yazılımcı', 'kacır', 'yarıştırılacak', 'yarışacak', 'banu', 'diri', 'word', 'representation', 'güncellendi', 'sevmeye', 'hedi', 'edilecektir', 'sür', 'verilecektir', 'bulamayanlar', 'kodlari', 'koyun', 'dokumante', 'del', 'aranip', 'bulunamiyor', 'asker', 'istihbarat', 'bül', 'a_bulten__', 'bulte', 'asel', 'eyl', 'bulunmaktayız', 'aselsan', 'kıbrıs', 'konya', 'kurulmak', 'eylül', 'sanayii', 'ssb', 'allah', 'aşkına', 'ekim', 'arxiva', 'yüklemiş', 'atıf', 'tanes', 'ge', 'arxivda', 'ivmele', 'kabulü', 'gelmemiş', 'bas', 'önces', 'preprint', 'aşamada', 'selamlar', 'yanlışgereksiz', 'kısaltma', 'uçar', 'kalır', 'sentezi', 'biometris', 'değiştire', 'levent', 'arsla', 'datacampte', 'sestek', 'hızlandırma', 'programında', 'sınıflandırılmas', 'sunum', 'dawn', 'anderson', 'algoritması', 'geliştiriliyor', 'vurgulanmış', 'yepye', 'swift', 'mısınız', 'tıkla', 'keşfet', 'operasyo', 'javi', 'rameerez', 'kurmuyor', 'yapıldı', 'isveççe', 'factory', 'yaratıp', 'fabrika', 'açma', 'konuşuyorlar', 'bireyler', 'startup', 'faydalanabilecek', 'getiriyor', 'eko', 'avrupada', 'oslo', 'görüp', 'istanbula', 'getirebilir', 'regu', 'expression', 'bankasın', 'maxi', 'whatsapp', 'bankasının', 'bankası', 'maxiyi', 'whatsappa', 'taşıdı', 'işcep', 'maxim', 'sunulmuştu', 'hızlandırıp', 'getirmes', 'gerekir', 'herhal', 'tenek', 'kutusunu', 'kutu', 'yarıştım', 'esna', 'olan', 'kutusunda', 'beraber', 'paylaşıyorum', 'ziraat', 'analytics', 'segmentasyo', 'recommendation', 'akjdks', 'metrobüs', 'durak', 'isim', 'sentezleniyor', 'geliyordu', 'faydalanılabilir', 'geliştirilebilir', 'paymes', 'tllik', 'bankacılık', 'yatırım', 'aşacak', 'ediliyor', 'fintech', 'ayırd', 'multiwordu', 'expressions', 'nitelendirebilecek', 'dinle', 'şansı', 'yakalama', 'geliştir', 'sunmak', 'bahsedip', 'uçlu', 'değerlendirilmes', 'tartıştık', 'çalışta', 'alarak', 'gördük', 'sahte', 'benzedik', 'gösterebilir', 'yetersiz', 'paylaşmıyor', 'bizle', 'dışar', 'aktarılma', 'vermiyor', 'sıkın', 'giderilir', 'gelebilir', 'etkileyiç', 'benzeye', 'yapabiliyor', 'alıştık', 'salo', 'provider', 'pixel', 'dmp', 'aktarıyor', 'profille', 'cdp', 'gönderiliyor', 'kısaca', 'dinleniyoruz', 'chomsky', 'gozumde', 'zizek', 'gucundedir', 'cunku', 'compi', 'design', 'derleyiç', 'tasarimi', 'populer', 'kars', 'cikiyor', 'zevzek', 'turedigi', 'dusunuyorum', 'altyapısı', 'vektörel', 'incelenmes', 'at', 'programlarının', 'çözülememiş', 'eski', 'alfabe', 'çözebildik', 'aktarmıştım', 'çet', 'salt', 'söylem', 'kulak', 'understandı', 'users', 'intent', 'respondu', 'most', 'convenient', 'way', 'usingi', 'our', 'stateofart', 'algorithms', 'toyo', 'case', 'zira', 'bakis', 'typed', 'programming', 'logiç', 'deep', 'ontoloji', 'nasil', 'urunde', 'kullanilir', 'dusunmek', 'sessiz', 'sedas', 'boşluk', 'kapatacak', 'tquadı', 'vasif', 'nabiyev', 'kitabında', 'konusunda', 'kedi', 'ie', 'incelemes', 'nacizane', 'yemek', 'ziyare', 'sokak', 'anlaşabilmek', 'yazis', 'jetbot', 'engi', 'amacımız', 'ürünlerimizle', 'gis', 'çözüldük', 'patentli', 'üretmek', 'başardık', 'rakipsiz', 'uyarlanabilir', 'yazısı', 'misiniz', 'with', 'geçirebilirsiniz', 'text', 'speach', 'geometrik', 'artışta', 'uçuşa', 'kaçışa', 'robotların', 'zekal', 'veremiyor', 'şaşkınım', 'umudu', 'artık', 'intel', 'capitala', 'verdi', 'girişimler', 'kapsayan', 'uygulamları', 'sert', 'tartisma', 'girdigi', 'tehlikeli', 'sular', 'arastirmaç', 'performatif', 'dert', 'katki', 'olmadigi', 'uğraşalım', 'millet', 'hayva', 'hücre', 'düşünebiliriz', 'yasal', 'süzgeç', 'geçirerek', 'süreçlerini', 'raporlama', 'thanks', 'excellent', 'collaborativ', 'work', 'sharingi', 'review', 'neural', 'history', 'haftaso', 'çalışıyorum', 'açıkla', 'unsupervisedi', 'wordveç', 'denile', 'içermeyen', 'halk', 'sistematik', 'listeleye', 'işlemen', 'bakar', 'trade', 'naturel', 'sanmıyorum', 'gidip', 'aldım', 'bilmez', 'öğretecek', 'milliyetçi', 'söyle', 'propaga', 'ayrıştırıldık', 'twitterda', 'değişiyor', 'heyecanlandıra', 'icraat', 'olmuşyıl', 'bnc', 'british', 'national', 'corpusçalış', 'müjdes', 'hazırlama', 'atölye', 'bilgiç', 'post', 'yakalamak', 'okuyacak', 'luis', 'kaldıra', 'çıkarım', 'yapabile', 'tobi', 'vodafone', 'abone', 'hazırlıklar', 'takibi', 'simulta', 'üretebilme', 'kapasite', 'artırılması', 'öğrenebilme', 'artırılmas', 'bakın', 'ade', 'protez', 'takılıyor', 'hukukçu', 'dava', 'içtihat', 'mevzuat', 'kelimeler', 'cümleler', 'paragraf', 'yükledik', 'anlamsal', 'bankamız', 'asistana', 'bankas', 'kullanıcıları', 'alabilecek', 'haliç', 'kongre', 'merkezi', 'keşke', 'veritaban', 'demeseydiniz', 'bilirsiniz', 'teknopark', 'adalet', 'göster', 'algoritama', 'geliştirebilmek', 'koymalısınız', 'zaruret', 'ford', 'otosan', 'proudu', 'announce', 'rootedi', 'industry', 'companies', 'otosa', 'optedi', 'order', 'analyze', 'customer', 'feedback', 'biraradayız', 'ari', 'firmas', 'tanel', 'biline', 'markas', 'hedefindeyiz', 'taneltemel', 'uygulandık', 'başarım', 'arttırıyor', 'niceleri', 'kadir', 'edildi', 'kabuk', 'değiştiriyor', 'yapılacak', 'saldırı', 'konuşuyor', 'inceleyip', 'devam', 'kalites', 'ürpertici', 'conversation', 'önemsenmedik', 'yaşanıyor', 'istekli', 'hevesli', 'organizasyonunda', 'bileşe', 'kullanabilen', 'deneyim', 'hissettirebile', 'cbotu', 'aktaş', 'dinliyoruz', 'cbot', 'ceosu', 'başlıyoruz', 'çalıştırıç', 'rda', 'öğrenip', 'ulaşa', 'mobilde', 'kısa', 'lansma', 'summit', 'ulaş', 'tanıtıldık', 'akta', 'aktarma', 'çıkarmak', 'şerefsiz', 'şak', 'muaye', 'sözlük', 'açısından', 'bulunma', 'amacıyla', 'seviyes', 'musunuz', 'knight', 'rider', 'kapsıyor', 'anlamalarına', 'yorumlama', 'manipül', 'dalı', 'alex', 'kurararak', 'kolaylaştırma', 'triadı', 'konferansın', 'robotlar', 'öğretmen', 'aktarılıyor', 'odu', 'md', 'vişnelik', 'tesislerin', 'dali', 'onemli', 'hukuki', 'uygulamalarda', 'uygulanır', 'avukat', 'katip', 'gölge', 'azaltacaktır', 'önceki', 'dir', 'asıl', 'sayılabilir', 'anlamlandırma', 'texttospeech', 'plugin', 'gerçekten', 'yaklaşmak', 'olmayacak', 'master', 'söylüyordu', 'ilerleyebiliriz', 'kapsama', 'yanısır', 'mining', 'banka', 'belirleye', 'standımızda', 'zirve', 'teknolojil', 'deneyimledi', 'gereks', 'üretilmes', 'mevcuttur', 'pos', 'sıfat', 'fill', 'zamir', 'zarf', 'kritiktir', 'iletile', 'olacağı', 'varsayımı', 'birisidir', 'kümeleme', 'getir', 'kategoris', 'plagiarism', 'gövdele', 'levenshtein', 'jaccard', 'jaro', 'ngram', 'vircondoğal', 'attıstartup', 'verim', 'gösterecek', 'teşkil', 'etmes', 'temennisiyle', 'teknokentli', 'paylaşıyor', 'okuduk', 'anlıyor', 'döküma', 'okuyup', 'çıkarabilir', 'semih', 'yağcıoğlun', 'üye', 'aykut', 'erdem', 'erkut', 'erde', 'nazlı', 'cinbiş', 'emnlp', 'recipeqa', 'technology', 'quantmetry', 'editör', 'kazancı', 'birleşimi', 'harikas', 'doçdr', 'amasyal', 'dogal_dil_isleme_nedirpdf', 'çözülebilir', 'elbet', 'alacaktır', 'dönüşecektir', 'çare', 'geliştirip', 'nefes', 'saati', 'meraklıysanız', 'morfoloji', 'tartışacak', 'izleyebilirsiniz', 'guzel', 'giris', 'kefir', 'profdrkemal', 'hackernews', 'denk', 'geldim', 'işmiş', 'geliştirilemez', 'geçirdiyseniz', 'kit', 'kefiri', 'javascript', 'referans', 'yaptınız', 'yayımlandı', 'kurul', 'pip', 'install', 'arıyoruz', 'junior', 'pozisyon', 'technologies', 'zekiç', 'meselâ', 'pascal', 'addedi', 'eposta', 'gönderiyor', 'tarz', 'örgütlenme', 'sorunları', 'özgür', 'ilgiline', 'çıkabilir', 'evreleri', 'bulmak', 'ayrıcalık', 'aşk', 'öğrenciler', 'biyoinformatik', 'alacaklar', 'bü', 'ayş', 'ertüzün', 'sevindirici', 'salesforce', 'gerçekleştirebile', 'kavrami', 'sikca', 'kullanilma', 'baslandi', 'calisa', 'ogrenmes', 'alaninda', 'dusunce', 'istedim', 'semsi', 'ter', 'siniflandirma', 'ttc', 'kümesi', 'bby', 'açıklanma', 'alın', 'books', 'konuşun', 'denemes', 'başlattı', 'uygulamada', 'günlük', 'yapılabiliyor', 'teklif', 'edince', 'uyardı', 'düşündüm', 'mark', 'birleştirir', 'geçerimp', 'bitek', 'anlamas', 'ayrıştırıp', 'kök', 'bulmas', 'açıklıyor', 'hype', 'tanım', 'içindoğal', 'beth', 'holmes', 'alexan', 'yeterli', 'dağarcık', 'çabalıyor', 'oluşturmadı', 'anlaşılabilir', 'getire', 'yazılımımızın', 'kanıt', 'anlamadım', 'bur', 'kelli', 'felli', 'oluştur', 'paylaşmıyorlar', 'dökümantasyo', 'hazırlamışlar', 'dökünantasyo', 'bravo', 'akademiksiniz', 'mesel', 'envai', 'çeşidi', 'kabaç', 'kelimel', 'vermektedir', 'sözcük', 'bölmek', 'şekl', 've', 'incele', 'olmal', 'eurotürkçe', 'mal', 'ddl', 'avrup', 'veriyorlar', 'alfa', 'fersah', 'kes', 'bitiriyor', 'işi', 'kısıt', 'biliyorum', 'csn', 'inceleyebilir', 'kaydet', 'inceleycek', 'aşır', 'hevesliyim', 'witai', 'izleybilecek', 'hobi', 'olark', 'aktif', 'anlaşıla', 'çalışmışlar', 'destekliyor', 'yabancı', 'edebiyatçı', 'sayısallaştırılma', 'ilginç', 'buluyorlar', 'öğretile', 'rt', 'nbir', 'cognitus', 'yatirimci', 'onces', 'dördüncü', 'standardı', 'herhalde', 'kalkacak', 'kodlayabilirsin', 'dünyan', 'görüşüyoruz', 'gidilecek', 'uzun', 'calismas', 'ope', 'source', 'sihirbaz', 'bağlantıl', 'hadis', 'tefsir', 'kela', 'yontem', 'sizce', 'just', 'publishedi', 'akın', 'bahsediyor', 'weka', 'uzuyor', 'projenin', 'bit', 'edils', 'erişilebilir', 'çantas', 'enformasyo', 'getirim', 'basitleştiriç', 'temsildir', 'itünov', 'tto', 'erca', 'çitil', 'ohaller', 'olurken', 'duyurdunesne', 'arzuca', 'tunga', 'güngör', 'bölümde', 'nedensellk', 'ogrenme', 'algilyblme', 'dercelendrme', 'seçenek', 'belrsz', 'drumlr', 'devrimi', 'naz', 'julia', 'seçiyor', 'konularda', 'bitmez', 'likedi', 'from', 'oluşuyor', 'vardıtürkçe', 'gibidir', 'yahoo', 'skyphrase', 'eklenmistir', 'soylem', 'artificial', 'degl', 'zorlanır', 'öğretme', 'düşünmüyor', 'çıkan', 'hemhal', 'tefekkur', 'ufk', 'acildim', 'calisma', 'yazi', 'yazacagim', 'sinirsiz', 'monitoringi', 'somii', 'gelismis', 'bozukluluk', 'anlamadimmm', 'anlayamadim', 'ttnet', 'azer', 'türkçes', 'aksanlı', 'kullanmışlar', 'ssdida', 'aldatiyor', 'affet', 'atmak', 'yauv', 'makalesidil', 'anlamıyo', 'çıldırıciym', 'gündüz', 'akşam', 'düzenle', 'arayabilirsiniz', 'uymayan', 'esef', 'kınıyorum', 'ilerleyememiş', 'yapcktm', 'erha', 'lazmmş', 'graph', 'somut', 'faydası', 'ağırlık', 'vermes', 'zemperek', 'dırdım', 'teknolojist', 'çıktım', 'tamam', 'geolocation', 'ecommerce', 'kb', 'dendik', 'peki', 'boğulacak', 'boğul', 'nosql', 'çözümleri', 'ölçeklenebilirlik', 'dağıtık', 'top', 'vereyim', 'anlamlandırılma', 'kastettim', 'duyuyorum', 'botegon', 'infografik', 'botegoyu', 'tanıya', 'lisansdoktor', 'lütfe', 'yayınız', 'botego', 'com', 'öğrencilik', 'kaldık', 'ediyorumdoğal'])"
      ]
     },
     "execution_count": 13,
     "metadata": {},
     "output_type": "execute_result"
    }
   ],
   "source": [
    "vectorizer.vocabulary_.keys()"
   ]
  },
  {
   "attachments": {},
   "cell_type": "markdown",
   "id": "be44769c",
   "metadata": {},
   "source": [
    "# TF-IDF"
   ]
  },
  {
   "cell_type": "code",
   "execution_count": 14,
   "id": "26a889d4",
   "metadata": {},
   "outputs": [],
   "source": [
    "vectorizer = TfidfVectorizer()\n",
    "X = vectorizer.fit_transform(df[\"Text_3\"].to_list())"
   ]
  },
  {
   "cell_type": "code",
   "execution_count": 15,
   "id": "8e16fa71",
   "metadata": {},
   "outputs": [
    {
     "data": {
      "text/plain": [
       "{0.0,\n",
       " 0.03508115658001388,\n",
       " 0.03685011328026531,\n",
       " 0.12317029281566404,\n",
       " 0.1287180325367376,\n",
       " 0.1293951901484212,\n",
       " 0.14937145922687903,\n",
       " 0.15331933006757356,\n",
       " 0.15474585010773745,\n",
       " 0.15623579147571884,\n",
       " 0.1669097751456677,\n",
       " 0.17386946496025046,\n",
       " 0.1765523493830673,\n",
       " 0.19014279446116142,\n",
       " 0.19978536869856103,\n",
       " 0.20581084119178317,\n",
       " 0.21337581377665515,\n",
       " 0.22232665378265135,\n",
       " 0.22301838801405474,\n",
       " 0.2366088330921489,\n",
       " 0.3162294875300779}"
      ]
     },
     "execution_count": 15,
     "metadata": {},
     "output_type": "execute_result"
    }
   ],
   "source": [
    "set(X.toarray()[0])"
   ]
  },
  {
   "cell_type": "code",
   "execution_count": 16,
   "id": "db191405",
   "metadata": {},
   "outputs": [
    {
     "data": {
      "text/html": [
       "<div>\n",
       "<style scoped>\n",
       "    .dataframe tbody tr th:only-of-type {\n",
       "        vertical-align: middle;\n",
       "    }\n",
       "\n",
       "    .dataframe tbody tr th {\n",
       "        vertical-align: top;\n",
       "    }\n",
       "\n",
       "    .dataframe thead th {\n",
       "        text-align: right;\n",
       "    }\n",
       "</style>\n",
       "<table border=\"1\" class=\"dataframe\">\n",
       "  <thead>\n",
       "    <tr style=\"text-align: right;\">\n",
       "      <th></th>\n",
       "      <th>Text</th>\n",
       "      <th>Text_2</th>\n",
       "      <th>Text_3</th>\n",
       "      <th>Text_4</th>\n",
       "      <th>Text_5</th>\n",
       "    </tr>\n",
       "  </thead>\n",
       "  <tbody>\n",
       "    <tr>\n",
       "      <th>0</th>\n",
       "      <td>Yapay Zeka Nedir, Ne İşe Yarar?\\n\\nYapay zeka ...</td>\n",
       "      <td>[yapay, zeka, nedir, işe, yarar, yapay, zeka, ...</td>\n",
       "      <td>yapay zeka nedir işe yarar yapay zeka yz bilgi...</td>\n",
       "      <td>[0, 0, 0, 0, 0, 0, 0, 0, 0, 0, 0, 0, 0, 0, 0, ...</td>\n",
       "      <td>[0.0, 0.0, 0.0, 0.0, 0.0, 0.0, 0.0, 0.0, 0.0, ...</td>\n",
       "    </tr>\n",
       "    <tr>\n",
       "      <th>1</th>\n",
       "      <td>🔎 Verilerinizi analiz edin: \\nChatGPT'yi kulla...</td>\n",
       "      <td>[veri, analiz, edin, chatgptyi, kullanarak, do...</td>\n",
       "      <td>veri analiz edin chatgptyi kullanarak doğal di...</td>\n",
       "      <td>[0, 0, 0, 0, 0, 0, 0, 0, 0, 0, 0, 0, 0, 0, 0, ...</td>\n",
       "      <td>[0.0, 0.0, 0.0, 0.0, 0.0, 0.0, 0.0, 0.0, 0.0, ...</td>\n",
       "    </tr>\n",
       "    <tr>\n",
       "      <th>2</th>\n",
       "      <td>Öncelikle yapay zekanın ne olduğunu, #dijitala...</td>\n",
       "      <td>[öncelik, yapay, zeka, olduğunu, iç, önemli, o...</td>\n",
       "      <td>öncelik yapay zeka olduğunu iç önemli olduk kı...</td>\n",
       "      <td>[0, 0, 0, 0, 0, 0, 0, 0, 0, 0, 0, 0, 0, 0, 0, ...</td>\n",
       "      <td>[0.0, 0.0, 0.0, 0.0, 0.0, 0.0, 0.0, 0.0, 0.0, ...</td>\n",
       "    </tr>\n",
       "    <tr>\n",
       "      <th>3</th>\n",
       "      <td>9. Baidu Research: Çin'in önde gelen arama mot...</td>\n",
       "      <td>[baidu, research, çin, ön, gele, ara, motor, b...</td>\n",
       "      <td>baidu research çin ön gele ara motor baidun ar...</td>\n",
       "      <td>[0, 0, 0, 0, 0, 0, 0, 0, 0, 0, 0, 0, 0, 0, 0, ...</td>\n",
       "      <td>[0.0, 0.0, 0.0, 0.0, 0.0, 0.0, 0.0, 0.0, 0.0, ...</td>\n",
       "    </tr>\n",
       "    <tr>\n",
       "      <th>4</th>\n",
       "      <td>4. Microsoft AI: Microsoft'un yapay zeka tekno...</td>\n",
       "      <td>[microsoft, ai, microsoft, yapay, zeka, teknol...</td>\n",
       "      <td>microsoft ai microsoft yapay zeka teknoloji od...</td>\n",
       "      <td>[0, 0, 0, 0, 0, 0, 0, 0, 0, 0, 0, 0, 0, 0, 0, ...</td>\n",
       "      <td>[0.0, 0.0, 0.0, 0.0, 0.0, 0.0, 0.0, 0.0, 0.0, ...</td>\n",
       "    </tr>\n",
       "    <tr>\n",
       "      <th>...</th>\n",
       "      <td>...</td>\n",
       "      <td>...</td>\n",
       "      <td>...</td>\n",
       "      <td>...</td>\n",
       "      <td>...</td>\n",
       "    </tr>\n",
       "    <tr>\n",
       "      <th>850</th>\n",
       "      <td>doğal dil işleme alanında yüksek lisans-doktor...</td>\n",
       "      <td>[doğal, dil, işle, alan, yük, lisansdoktor, ya...</td>\n",
       "      <td>doğal dil işle alan yük lisansdoktor yapa danı...</td>\n",
       "      <td>[0, 0, 0, 0, 0, 0, 0, 0, 0, 0, 0, 0, 0, 0, 0, ...</td>\n",
       "      <td>[0.0, 0.0, 0.0, 0.0, 0.0, 0.0, 0.0, 0.0, 0.0, ...</td>\n",
       "    </tr>\n",
       "    <tr>\n",
       "      <th>851</th>\n",
       "      <td>dogal dil isleme şeyleri</td>\n",
       "      <td>[dogal, dil, isle]</td>\n",
       "      <td>dogal dil isle</td>\n",
       "      <td>[0, 0, 0, 0, 0, 0, 0, 0, 0, 0, 0, 0, 0, 0, 0, ...</td>\n",
       "      <td>[0.0, 0.0, 0.0, 0.0, 0.0, 0.0, 0.0, 0.0, 0.0, ...</td>\n",
       "    </tr>\n",
       "    <tr>\n",
       "      <th>852</th>\n",
       "      <td>Bir veri madenciliği ve doğal dil işleme uygul...</td>\n",
       "      <td>[ver, madencilik, doğal, dil, işle, uygulamas]</td>\n",
       "      <td>ver madencilik doğal dil işle uygulamas</td>\n",
       "      <td>[0, 0, 0, 0, 0, 0, 0, 0, 0, 0, 0, 0, 0, 0, 0, ...</td>\n",
       "      <td>[0.0, 0.0, 0.0, 0.0, 0.0, 0.0, 0.0, 0.0, 0.0, ...</td>\n",
       "    </tr>\n",
       "    <tr>\n",
       "      <th>853</th>\n",
       "      <td>\"Doğal dil işleme\" ile ilgili deneyimi olan ya...</td>\n",
       "      <td>[doğal, dil, işleme, il, ilgil, deney, ola, ya...</td>\n",
       "      <td>doğal dil işleme il ilgil deney ola yazılımcı ...</td>\n",
       "      <td>[0, 0, 0, 0, 0, 0, 0, 0, 0, 0, 0, 0, 0, 0, 0, ...</td>\n",
       "      <td>[0.0, 0.0, 0.0, 0.0, 0.0, 0.0, 0.0, 0.0, 0.0, ...</td>\n",
       "    </tr>\n",
       "    <tr>\n",
       "      <th>854</th>\n",
       "      <td>Haftaya öğrencilik hayatıma kaldığım yerden de...</td>\n",
       "      <td>[hafta, öğrencilik, hayat, kaldık, yer, deva, ...</td>\n",
       "      <td>hafta öğrencilik hayat kaldık yer deva ediyoru...</td>\n",
       "      <td>[0, 0, 0, 0, 0, 0, 0, 0, 0, 0, 0, 0, 0, 0, 0, ...</td>\n",
       "      <td>[0.0, 0.0, 0.0, 0.0, 0.0, 0.0, 0.0, 0.0, 0.0, ...</td>\n",
       "    </tr>\n",
       "  </tbody>\n",
       "</table>\n",
       "<p>855 rows × 5 columns</p>\n",
       "</div>"
      ],
      "text/plain": [
       "                                                  Text   \n",
       "0    Yapay Zeka Nedir, Ne İşe Yarar?\\n\\nYapay zeka ...  \\\n",
       "1    🔎 Verilerinizi analiz edin: \\nChatGPT'yi kulla...   \n",
       "2    Öncelikle yapay zekanın ne olduğunu, #dijitala...   \n",
       "3    9. Baidu Research: Çin'in önde gelen arama mot...   \n",
       "4    4. Microsoft AI: Microsoft'un yapay zeka tekno...   \n",
       "..                                                 ...   \n",
       "850  doğal dil işleme alanında yüksek lisans-doktor...   \n",
       "851                           dogal dil isleme şeyleri   \n",
       "852  Bir veri madenciliği ve doğal dil işleme uygul...   \n",
       "853  \"Doğal dil işleme\" ile ilgili deneyimi olan ya...   \n",
       "854  Haftaya öğrencilik hayatıma kaldığım yerden de...   \n",
       "\n",
       "                                                Text_2   \n",
       "0    [yapay, zeka, nedir, işe, yarar, yapay, zeka, ...  \\\n",
       "1    [veri, analiz, edin, chatgptyi, kullanarak, do...   \n",
       "2    [öncelik, yapay, zeka, olduğunu, iç, önemli, o...   \n",
       "3    [baidu, research, çin, ön, gele, ara, motor, b...   \n",
       "4    [microsoft, ai, microsoft, yapay, zeka, teknol...   \n",
       "..                                                 ...   \n",
       "850  [doğal, dil, işle, alan, yük, lisansdoktor, ya...   \n",
       "851                                 [dogal, dil, isle]   \n",
       "852     [ver, madencilik, doğal, dil, işle, uygulamas]   \n",
       "853  [doğal, dil, işleme, il, ilgil, deney, ola, ya...   \n",
       "854  [hafta, öğrencilik, hayat, kaldık, yer, deva, ...   \n",
       "\n",
       "                                                Text_3   \n",
       "0    yapay zeka nedir işe yarar yapay zeka yz bilgi...  \\\n",
       "1    veri analiz edin chatgptyi kullanarak doğal di...   \n",
       "2    öncelik yapay zeka olduğunu iç önemli olduk kı...   \n",
       "3    baidu research çin ön gele ara motor baidun ar...   \n",
       "4    microsoft ai microsoft yapay zeka teknoloji od...   \n",
       "..                                                 ...   \n",
       "850  doğal dil işle alan yük lisansdoktor yapa danı...   \n",
       "851                                     dogal dil isle   \n",
       "852            ver madencilik doğal dil işle uygulamas   \n",
       "853  doğal dil işleme il ilgil deney ola yazılımcı ...   \n",
       "854  hafta öğrencilik hayat kaldık yer deva ediyoru...   \n",
       "\n",
       "                                                Text_4   \n",
       "0    [0, 0, 0, 0, 0, 0, 0, 0, 0, 0, 0, 0, 0, 0, 0, ...  \\\n",
       "1    [0, 0, 0, 0, 0, 0, 0, 0, 0, 0, 0, 0, 0, 0, 0, ...   \n",
       "2    [0, 0, 0, 0, 0, 0, 0, 0, 0, 0, 0, 0, 0, 0, 0, ...   \n",
       "3    [0, 0, 0, 0, 0, 0, 0, 0, 0, 0, 0, 0, 0, 0, 0, ...   \n",
       "4    [0, 0, 0, 0, 0, 0, 0, 0, 0, 0, 0, 0, 0, 0, 0, ...   \n",
       "..                                                 ...   \n",
       "850  [0, 0, 0, 0, 0, 0, 0, 0, 0, 0, 0, 0, 0, 0, 0, ...   \n",
       "851  [0, 0, 0, 0, 0, 0, 0, 0, 0, 0, 0, 0, 0, 0, 0, ...   \n",
       "852  [0, 0, 0, 0, 0, 0, 0, 0, 0, 0, 0, 0, 0, 0, 0, ...   \n",
       "853  [0, 0, 0, 0, 0, 0, 0, 0, 0, 0, 0, 0, 0, 0, 0, ...   \n",
       "854  [0, 0, 0, 0, 0, 0, 0, 0, 0, 0, 0, 0, 0, 0, 0, ...   \n",
       "\n",
       "                                                Text_5  \n",
       "0    [0.0, 0.0, 0.0, 0.0, 0.0, 0.0, 0.0, 0.0, 0.0, ...  \n",
       "1    [0.0, 0.0, 0.0, 0.0, 0.0, 0.0, 0.0, 0.0, 0.0, ...  \n",
       "2    [0.0, 0.0, 0.0, 0.0, 0.0, 0.0, 0.0, 0.0, 0.0, ...  \n",
       "3    [0.0, 0.0, 0.0, 0.0, 0.0, 0.0, 0.0, 0.0, 0.0, ...  \n",
       "4    [0.0, 0.0, 0.0, 0.0, 0.0, 0.0, 0.0, 0.0, 0.0, ...  \n",
       "..                                                 ...  \n",
       "850  [0.0, 0.0, 0.0, 0.0, 0.0, 0.0, 0.0, 0.0, 0.0, ...  \n",
       "851  [0.0, 0.0, 0.0, 0.0, 0.0, 0.0, 0.0, 0.0, 0.0, ...  \n",
       "852  [0.0, 0.0, 0.0, 0.0, 0.0, 0.0, 0.0, 0.0, 0.0, ...  \n",
       "853  [0.0, 0.0, 0.0, 0.0, 0.0, 0.0, 0.0, 0.0, 0.0, ...  \n",
       "854  [0.0, 0.0, 0.0, 0.0, 0.0, 0.0, 0.0, 0.0, 0.0, ...  \n",
       "\n",
       "[855 rows x 5 columns]"
      ]
     },
     "execution_count": 16,
     "metadata": {},
     "output_type": "execute_result"
    }
   ],
   "source": [
    "df[\"Text_5\"] = X.toarray().tolist()\n",
    "df"
   ]
  },
  {
   "cell_type": "code",
   "execution_count": 17,
   "id": "ef2757da",
   "metadata": {},
   "outputs": [
    {
     "data": {
      "text/plain": [
       "4788"
      ]
     },
     "execution_count": 17,
     "metadata": {},
     "output_type": "execute_result"
    }
   ],
   "source": [
    "len(X.toarray()[0])"
   ]
  },
  {
   "attachments": {},
   "cell_type": "markdown",
   "id": "cc4db994",
   "metadata": {},
   "source": [
    "# Word2vec"
   ]
  },
  {
   "cell_type": "code",
   "execution_count": 18,
   "id": "38808806",
   "metadata": {},
   "outputs": [],
   "source": [
    "from gensim.models import Word2Vec"
   ]
  },
  {
   "cell_type": "code",
   "execution_count": 19,
   "id": "5a362fd7",
   "metadata": {},
   "outputs": [],
   "source": [
    "model = Word2Vec(sentences = df[\"Text_2\"].tolist() ,vector_size=100 , window=5 , min_count=1 )\n",
    "model.save(\"data/word2vec.model\")"
   ]
  },
  {
   "cell_type": "code",
   "execution_count": 20,
   "id": "9736895f",
   "metadata": {},
   "outputs": [
    {
     "data": {
      "text/plain": [
       "['dil', 'doğal', 'işle', 'yapay', 'zeka', 'il']"
      ]
     },
     "execution_count": 20,
     "metadata": {},
     "output_type": "execute_result"
    }
   ],
   "source": [
    "words = list(model.wv.index_to_key)\n",
    "words[0:6]"
   ]
  },
  {
   "cell_type": "code",
   "execution_count": 21,
   "id": "0dfa967e",
   "metadata": {},
   "outputs": [
    {
     "data": {
      "text/plain": [
       "4799"
      ]
     },
     "execution_count": 21,
     "metadata": {},
     "output_type": "execute_result"
    }
   ],
   "source": [
    "len(words)"
   ]
  },
  {
   "cell_type": "code",
   "execution_count": 22,
   "id": "453ced44",
   "metadata": {},
   "outputs": [
    {
     "data": {
      "text/plain": [
       "3"
      ]
     },
     "execution_count": 22,
     "metadata": {},
     "output_type": "execute_result"
    }
   ],
   "source": [
    "model.wv.key_to_index[\"yapay\"]"
   ]
  },
  {
   "cell_type": "code",
   "execution_count": 23,
   "id": "07e7329e",
   "metadata": {},
   "outputs": [
    {
     "data": {
      "text/plain": [
       "array([-8.6035267e-02,  1.6257194e-01,  5.0516691e-02,  3.0550446e-02,\n",
       "        3.8541533e-02, -2.9931185e-01,  1.3775896e-01,  4.0104485e-01,\n",
       "       -1.4508863e-01, -1.6822095e-01, -9.2184126e-02, -2.8904691e-01,\n",
       "       -4.3659840e-02,  1.5629941e-01,  5.8545854e-02, -1.1786697e-01,\n",
       "        5.4651063e-02, -1.4420101e-01, -1.6196737e-02, -3.9992228e-01,\n",
       "        1.1523714e-01,  1.0253756e-02,  2.0190783e-01,  5.6704283e-03,\n",
       "       -3.5946939e-02,  3.0919080e-04, -1.3309425e-01, -4.2813737e-02,\n",
       "       -1.6965257e-01,  8.9344690e-03,  2.0461710e-01,  2.5041467e-02,\n",
       "        7.3874697e-02, -2.3951453e-01, -6.6183880e-02,  2.4151732e-01,\n",
       "       -7.1519231e-03, -1.5435918e-01, -1.6212405e-01, -3.6087552e-01,\n",
       "        4.4648360e-02, -1.3818426e-01, -6.8994932e-02,  4.4964682e-02,\n",
       "        2.0651059e-01, -7.3706061e-02, -1.8649036e-01, -3.5503987e-02,\n",
       "        6.8535425e-02,  7.1121141e-02,  8.5628517e-02, -1.7193198e-01,\n",
       "       -5.6948572e-02, -4.0853757e-02, -1.3495587e-01,  1.5820292e-01,\n",
       "        2.1906845e-01, -2.0692915e-02, -2.2802520e-01,  4.3462373e-02,\n",
       "        6.7281373e-02, -2.3601884e-02, -2.7986815e-02,  7.6308906e-02,\n",
       "       -1.8594508e-01,  2.1990052e-01,  1.9021597e-02,  2.0282774e-01,\n",
       "       -2.8355175e-01,  2.5121996e-01, -4.6670247e-02,  1.1777607e-01,\n",
       "        1.9424681e-01,  1.0738914e-02,  2.7851126e-01,  1.6442965e-01,\n",
       "        8.4691167e-02,  3.8331747e-02, -1.6820215e-01,  6.5224737e-02,\n",
       "       -1.4431728e-01, -1.1866801e-02, -2.0853829e-01,  2.6561710e-01,\n",
       "       -4.7949571e-02,  9.8152747e-03,  1.0023802e-01,  2.0161234e-01,\n",
       "        2.3495430e-01,  8.1008904e-02,  2.6671207e-01,  4.0493362e-02,\n",
       "        6.2322903e-02,  4.6877444e-02,  3.3659786e-01,  1.6831657e-01,\n",
       "        8.8234790e-02, -2.5226462e-01,  4.1372042e-02,  8.4709225e-04],\n",
       "      dtype=float32)"
      ]
     },
     "execution_count": 23,
     "metadata": {},
     "output_type": "execute_result"
    }
   ],
   "source": [
    "model.wv[3]"
   ]
  },
  {
   "cell_type": "code",
   "execution_count": 24,
   "id": "0cec235b",
   "metadata": {},
   "outputs": [
    {
     "data": {
      "text/plain": [
       "array([-8.6035267e-02,  1.6257194e-01,  5.0516691e-02,  3.0550446e-02,\n",
       "        3.8541533e-02, -2.9931185e-01,  1.3775896e-01,  4.0104485e-01,\n",
       "       -1.4508863e-01, -1.6822095e-01, -9.2184126e-02, -2.8904691e-01,\n",
       "       -4.3659840e-02,  1.5629941e-01,  5.8545854e-02, -1.1786697e-01,\n",
       "        5.4651063e-02, -1.4420101e-01, -1.6196737e-02, -3.9992228e-01,\n",
       "        1.1523714e-01,  1.0253756e-02,  2.0190783e-01,  5.6704283e-03,\n",
       "       -3.5946939e-02,  3.0919080e-04, -1.3309425e-01, -4.2813737e-02,\n",
       "       -1.6965257e-01,  8.9344690e-03,  2.0461710e-01,  2.5041467e-02,\n",
       "        7.3874697e-02, -2.3951453e-01, -6.6183880e-02,  2.4151732e-01,\n",
       "       -7.1519231e-03, -1.5435918e-01, -1.6212405e-01, -3.6087552e-01,\n",
       "        4.4648360e-02, -1.3818426e-01, -6.8994932e-02,  4.4964682e-02,\n",
       "        2.0651059e-01, -7.3706061e-02, -1.8649036e-01, -3.5503987e-02,\n",
       "        6.8535425e-02,  7.1121141e-02,  8.5628517e-02, -1.7193198e-01,\n",
       "       -5.6948572e-02, -4.0853757e-02, -1.3495587e-01,  1.5820292e-01,\n",
       "        2.1906845e-01, -2.0692915e-02, -2.2802520e-01,  4.3462373e-02,\n",
       "        6.7281373e-02, -2.3601884e-02, -2.7986815e-02,  7.6308906e-02,\n",
       "       -1.8594508e-01,  2.1990052e-01,  1.9021597e-02,  2.0282774e-01,\n",
       "       -2.8355175e-01,  2.5121996e-01, -4.6670247e-02,  1.1777607e-01,\n",
       "        1.9424681e-01,  1.0738914e-02,  2.7851126e-01,  1.6442965e-01,\n",
       "        8.4691167e-02,  3.8331747e-02, -1.6820215e-01,  6.5224737e-02,\n",
       "       -1.4431728e-01, -1.1866801e-02, -2.0853829e-01,  2.6561710e-01,\n",
       "       -4.7949571e-02,  9.8152747e-03,  1.0023802e-01,  2.0161234e-01,\n",
       "        2.3495430e-01,  8.1008904e-02,  2.6671207e-01,  4.0493362e-02,\n",
       "        6.2322903e-02,  4.6877444e-02,  3.3659786e-01,  1.6831657e-01,\n",
       "        8.8234790e-02, -2.5226462e-01,  4.1372042e-02,  8.4709225e-04],\n",
       "      dtype=float32)"
      ]
     },
     "execution_count": 24,
     "metadata": {},
     "output_type": "execute_result"
    }
   ],
   "source": [
    "model.wv.get_vector(\"yapay\")"
   ]
  },
  {
   "cell_type": "code",
   "execution_count": 25,
   "id": "017b64c8",
   "metadata": {},
   "outputs": [],
   "source": [
    "def word2vec(value):\n",
    "    model = Word2Vec.load(\"data/word2vec.model\")\n",
    "    bfr_list = []\n",
    "    bfr_len = len(value)\n",
    "\n",
    "    for k in value:\n",
    "        bfr = model.wv.key_to_index[k]\n",
    "        bfr = model.wv[bfr]\n",
    "        bfr_list.append(bfr)\n",
    "    \n",
    "    bfr_list = sum(bfr_list)\n",
    "    bfr_list = bfr_list/bfr_len\n",
    "    return bfr_list.tolist()"
   ]
  },
  {
   "cell_type": "code",
   "execution_count": 26,
   "id": "8906ba20",
   "metadata": {},
   "outputs": [],
   "source": [
    "df[\"Text_6\"] = df[\"Text_2\"].apply(word2vec)"
   ]
  },
  {
   "cell_type": "code",
   "execution_count": 27,
   "id": "c0d1cf89",
   "metadata": {},
   "outputs": [
    {
     "data": {
      "text/html": [
       "<div>\n",
       "<style scoped>\n",
       "    .dataframe tbody tr th:only-of-type {\n",
       "        vertical-align: middle;\n",
       "    }\n",
       "\n",
       "    .dataframe tbody tr th {\n",
       "        vertical-align: top;\n",
       "    }\n",
       "\n",
       "    .dataframe thead th {\n",
       "        text-align: right;\n",
       "    }\n",
       "</style>\n",
       "<table border=\"1\" class=\"dataframe\">\n",
       "  <thead>\n",
       "    <tr style=\"text-align: right;\">\n",
       "      <th></th>\n",
       "      <th>Text</th>\n",
       "      <th>Text_2</th>\n",
       "      <th>Text_3</th>\n",
       "      <th>Text_4</th>\n",
       "      <th>Text_5</th>\n",
       "      <th>Text_6</th>\n",
       "      <th>bow</th>\n",
       "      <th>tfidf</th>\n",
       "      <th>word2vec</th>\n",
       "    </tr>\n",
       "  </thead>\n",
       "  <tbody>\n",
       "    <tr>\n",
       "      <th>0</th>\n",
       "      <td>Yapay Zeka Nedir, Ne İşe Yarar?\\n\\nYapay zeka ...</td>\n",
       "      <td>[yapay, zeka, nedir, işe, yarar, yapay, zeka, ...</td>\n",
       "      <td>yapay zeka nedir işe yarar yapay zeka yz bilgi...</td>\n",
       "      <td>[0, 0, 0, 0, 0, 0, 0, 0, 0, 0, 0, 0, 0, 0, 0, ...</td>\n",
       "      <td>[0.0, 0.0, 0.0, 0.0, 0.0, 0.0, 0.0, 0.0, 0.0, ...</td>\n",
       "      <td>[-0.03569275513291359, 0.0690113827586174, 0.0...</td>\n",
       "      <td>[0, 0, 0, 0, 0, 0, 0, 0, 0, 0, 0, 0, 0, 0, 0, ...</td>\n",
       "      <td>[0.0, 0.0, 0.0, 0.0, 0.0, 0.0, 0.0, 0.0, 0.0, ...</td>\n",
       "      <td>[-0.03569275513291359, 0.0690113827586174, 0.0...</td>\n",
       "    </tr>\n",
       "    <tr>\n",
       "      <th>1</th>\n",
       "      <td>🔎 Verilerinizi analiz edin: \\nChatGPT'yi kulla...</td>\n",
       "      <td>[veri, analiz, edin, chatgptyi, kullanarak, do...</td>\n",
       "      <td>veri analiz edin chatgptyi kullanarak doğal di...</td>\n",
       "      <td>[0, 0, 0, 0, 0, 0, 0, 0, 0, 0, 0, 0, 0, 0, 0, ...</td>\n",
       "      <td>[0.0, 0.0, 0.0, 0.0, 0.0, 0.0, 0.0, 0.0, 0.0, ...</td>\n",
       "      <td>[-0.028414733707904816, 0.05166755989193916, 0...</td>\n",
       "      <td>[0, 0, 0, 0, 0, 0, 0, 0, 0, 0, 0, 0, 0, 0, 0, ...</td>\n",
       "      <td>[0.0, 0.0, 0.0, 0.0, 0.0, 0.0, 0.0, 0.0, 0.0, ...</td>\n",
       "      <td>[-0.028414733707904816, 0.05166755989193916, 0...</td>\n",
       "    </tr>\n",
       "    <tr>\n",
       "      <th>2</th>\n",
       "      <td>Öncelikle yapay zekanın ne olduğunu, #dijitala...</td>\n",
       "      <td>[öncelik, yapay, zeka, olduğunu, iç, önemli, o...</td>\n",
       "      <td>öncelik yapay zeka olduğunu iç önemli olduk kı...</td>\n",
       "      <td>[0, 0, 0, 0, 0, 0, 0, 0, 0, 0, 0, 0, 0, 0, 0, ...</td>\n",
       "      <td>[0.0, 0.0, 0.0, 0.0, 0.0, 0.0, 0.0, 0.0, 0.0, ...</td>\n",
       "      <td>[-0.03458334505558014, 0.06836707144975662, 0....</td>\n",
       "      <td>[0, 0, 0, 0, 0, 0, 0, 0, 0, 0, 0, 0, 0, 0, 0, ...</td>\n",
       "      <td>[0.0, 0.0, 0.0, 0.0, 0.0, 0.0, 0.0, 0.0, 0.0, ...</td>\n",
       "      <td>[-0.03458334505558014, 0.06836707144975662, 0....</td>\n",
       "    </tr>\n",
       "    <tr>\n",
       "      <th>3</th>\n",
       "      <td>9. Baidu Research: Çin'in önde gelen arama mot...</td>\n",
       "      <td>[baidu, research, çin, ön, gele, ara, motor, b...</td>\n",
       "      <td>baidu research çin ön gele ara motor baidun ar...</td>\n",
       "      <td>[0, 0, 0, 0, 0, 0, 0, 0, 0, 0, 0, 0, 0, 0, 0, ...</td>\n",
       "      <td>[0.0, 0.0, 0.0, 0.0, 0.0, 0.0, 0.0, 0.0, 0.0, ...</td>\n",
       "      <td>[-0.029738888144493103, 0.05653191730380058, 0...</td>\n",
       "      <td>[0, 0, 0, 0, 0, 0, 0, 0, 0, 0, 0, 0, 0, 0, 0, ...</td>\n",
       "      <td>[0.0, 0.0, 0.0, 0.0, 0.0, 0.0, 0.0, 0.0, 0.0, ...</td>\n",
       "      <td>[-0.029738888144493103, 0.05653191730380058, 0...</td>\n",
       "    </tr>\n",
       "    <tr>\n",
       "      <th>4</th>\n",
       "      <td>4. Microsoft AI: Microsoft'un yapay zeka tekno...</td>\n",
       "      <td>[microsoft, ai, microsoft, yapay, zeka, teknol...</td>\n",
       "      <td>microsoft ai microsoft yapay zeka teknoloji od...</td>\n",
       "      <td>[0, 0, 0, 0, 0, 0, 0, 0, 0, 0, 0, 0, 0, 0, 0, ...</td>\n",
       "      <td>[0.0, 0.0, 0.0, 0.0, 0.0, 0.0, 0.0, 0.0, 0.0, ...</td>\n",
       "      <td>[-0.04012388736009598, 0.07976077497005463, 0....</td>\n",
       "      <td>[0, 0, 0, 0, 0, 0, 0, 0, 0, 0, 0, 0, 0, 0, 0, ...</td>\n",
       "      <td>[0.0, 0.0, 0.0, 0.0, 0.0, 0.0, 0.0, 0.0, 0.0, ...</td>\n",
       "      <td>[-0.04012388736009598, 0.07976077497005463, 0....</td>\n",
       "    </tr>\n",
       "  </tbody>\n",
       "</table>\n",
       "</div>"
      ],
      "text/plain": [
       "                                                Text   \n",
       "0  Yapay Zeka Nedir, Ne İşe Yarar?\\n\\nYapay zeka ...  \\\n",
       "1  🔎 Verilerinizi analiz edin: \\nChatGPT'yi kulla...   \n",
       "2  Öncelikle yapay zekanın ne olduğunu, #dijitala...   \n",
       "3  9. Baidu Research: Çin'in önde gelen arama mot...   \n",
       "4  4. Microsoft AI: Microsoft'un yapay zeka tekno...   \n",
       "\n",
       "                                              Text_2   \n",
       "0  [yapay, zeka, nedir, işe, yarar, yapay, zeka, ...  \\\n",
       "1  [veri, analiz, edin, chatgptyi, kullanarak, do...   \n",
       "2  [öncelik, yapay, zeka, olduğunu, iç, önemli, o...   \n",
       "3  [baidu, research, çin, ön, gele, ara, motor, b...   \n",
       "4  [microsoft, ai, microsoft, yapay, zeka, teknol...   \n",
       "\n",
       "                                              Text_3   \n",
       "0  yapay zeka nedir işe yarar yapay zeka yz bilgi...  \\\n",
       "1  veri analiz edin chatgptyi kullanarak doğal di...   \n",
       "2  öncelik yapay zeka olduğunu iç önemli olduk kı...   \n",
       "3  baidu research çin ön gele ara motor baidun ar...   \n",
       "4  microsoft ai microsoft yapay zeka teknoloji od...   \n",
       "\n",
       "                                              Text_4   \n",
       "0  [0, 0, 0, 0, 0, 0, 0, 0, 0, 0, 0, 0, 0, 0, 0, ...  \\\n",
       "1  [0, 0, 0, 0, 0, 0, 0, 0, 0, 0, 0, 0, 0, 0, 0, ...   \n",
       "2  [0, 0, 0, 0, 0, 0, 0, 0, 0, 0, 0, 0, 0, 0, 0, ...   \n",
       "3  [0, 0, 0, 0, 0, 0, 0, 0, 0, 0, 0, 0, 0, 0, 0, ...   \n",
       "4  [0, 0, 0, 0, 0, 0, 0, 0, 0, 0, 0, 0, 0, 0, 0, ...   \n",
       "\n",
       "                                              Text_5   \n",
       "0  [0.0, 0.0, 0.0, 0.0, 0.0, 0.0, 0.0, 0.0, 0.0, ...  \\\n",
       "1  [0.0, 0.0, 0.0, 0.0, 0.0, 0.0, 0.0, 0.0, 0.0, ...   \n",
       "2  [0.0, 0.0, 0.0, 0.0, 0.0, 0.0, 0.0, 0.0, 0.0, ...   \n",
       "3  [0.0, 0.0, 0.0, 0.0, 0.0, 0.0, 0.0, 0.0, 0.0, ...   \n",
       "4  [0.0, 0.0, 0.0, 0.0, 0.0, 0.0, 0.0, 0.0, 0.0, ...   \n",
       "\n",
       "                                              Text_6   \n",
       "0  [-0.03569275513291359, 0.0690113827586174, 0.0...  \\\n",
       "1  [-0.028414733707904816, 0.05166755989193916, 0...   \n",
       "2  [-0.03458334505558014, 0.06836707144975662, 0....   \n",
       "3  [-0.029738888144493103, 0.05653191730380058, 0...   \n",
       "4  [-0.04012388736009598, 0.07976077497005463, 0....   \n",
       "\n",
       "                                                 bow   \n",
       "0  [0, 0, 0, 0, 0, 0, 0, 0, 0, 0, 0, 0, 0, 0, 0, ...  \\\n",
       "1  [0, 0, 0, 0, 0, 0, 0, 0, 0, 0, 0, 0, 0, 0, 0, ...   \n",
       "2  [0, 0, 0, 0, 0, 0, 0, 0, 0, 0, 0, 0, 0, 0, 0, ...   \n",
       "3  [0, 0, 0, 0, 0, 0, 0, 0, 0, 0, 0, 0, 0, 0, 0, ...   \n",
       "4  [0, 0, 0, 0, 0, 0, 0, 0, 0, 0, 0, 0, 0, 0, 0, ...   \n",
       "\n",
       "                                               tfidf   \n",
       "0  [0.0, 0.0, 0.0, 0.0, 0.0, 0.0, 0.0, 0.0, 0.0, ...  \\\n",
       "1  [0.0, 0.0, 0.0, 0.0, 0.0, 0.0, 0.0, 0.0, 0.0, ...   \n",
       "2  [0.0, 0.0, 0.0, 0.0, 0.0, 0.0, 0.0, 0.0, 0.0, ...   \n",
       "3  [0.0, 0.0, 0.0, 0.0, 0.0, 0.0, 0.0, 0.0, 0.0, ...   \n",
       "4  [0.0, 0.0, 0.0, 0.0, 0.0, 0.0, 0.0, 0.0, 0.0, ...   \n",
       "\n",
       "                                            word2vec  \n",
       "0  [-0.03569275513291359, 0.0690113827586174, 0.0...  \n",
       "1  [-0.028414733707904816, 0.05166755989193916, 0...  \n",
       "2  [-0.03458334505558014, 0.06836707144975662, 0....  \n",
       "3  [-0.029738888144493103, 0.05653191730380058, 0...  \n",
       "4  [-0.04012388736009598, 0.07976077497005463, 0....  "
      ]
     },
     "execution_count": 27,
     "metadata": {},
     "output_type": "execute_result"
    }
   ],
   "source": [
    "df[\"bow\"] = on_islem.bag_of_words(df[\"Text_3\"])\n",
    "df[\"tfidf\"] = on_islem.tfidf(df[\"Text_3\"])\n",
    "df[\"word2vec\"] = df[\"Text_2\"].apply(on_islem.word2vec)\n",
    "df.head()"
   ]
  }
 ],
 "metadata": {
  "kernelspec": {
   "display_name": "Python 3 (ipykernel)",
   "language": "python",
   "name": "python3"
  },
  "language_info": {
   "codemirror_mode": {
    "name": "ipython",
    "version": 3
   },
   "file_extension": ".py",
   "mimetype": "text/x-python",
   "name": "python",
   "nbconvert_exporter": "python",
   "pygments_lexer": "ipython3",
   "version": "3.10.10"
  }
 },
 "nbformat": 4,
 "nbformat_minor": 5
}
