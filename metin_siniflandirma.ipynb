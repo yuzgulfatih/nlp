{
 "cells": [
  {
   "attachments": {},
   "cell_type": "markdown",
   "id": "7f39a743",
   "metadata": {},
   "source": [
    "# Metin Sınıflandırma"
   ]
  },
  {
   "cell_type": "code",
   "execution_count": 25,
   "id": "b00e67bf",
   "metadata": {},
   "outputs": [],
   "source": [
    "import pandas as pd\n",
    "import on_islem\n",
    "from sklearn.model_selection import train_test_split\n",
    "from sklearn.svm import LinearSVC\n",
    "from sklearn.pipeline import Pipeline\n",
    "from sklearn.feature_extraction.text import TfidfVectorizer\n",
    "from sklearn.metrics import f1_score , accuracy_score , confusion_matrix ,ConfusionMatrixDisplay\n",
    "import matplotlib \n",
    "from gensim.models import Word2Vec\n",
    "from sklearn.neighbors import KNeighborsClassifier\n"
   ]
  },
  {
   "cell_type": "code",
   "execution_count": 2,
   "id": "8bcab5dc",
   "metadata": {},
   "outputs": [
    {
     "data": {
      "text/html": [
       "<div>\n",
       "<style scoped>\n",
       "    .dataframe tbody tr th:only-of-type {\n",
       "        vertical-align: middle;\n",
       "    }\n",
       "\n",
       "    .dataframe tbody tr th {\n",
       "        vertical-align: top;\n",
       "    }\n",
       "\n",
       "    .dataframe thead th {\n",
       "        text-align: right;\n",
       "    }\n",
       "</style>\n",
       "<table border=\"1\" class=\"dataframe\">\n",
       "  <thead>\n",
       "    <tr style=\"text-align: right;\">\n",
       "      <th></th>\n",
       "      <th>Text</th>\n",
       "      <th>Label</th>\n",
       "      <th>Text_2</th>\n",
       "      <th>Text_3</th>\n",
       "    </tr>\n",
       "  </thead>\n",
       "  <tbody>\n",
       "    <tr>\n",
       "      <th>0</th>\n",
       "      <td>Allah'ım çıldıracağım. Yemin ederim çıldıracağ...</td>\n",
       "      <td>kızgın</td>\n",
       "      <td>[allah, çıldıracağım, ye, eder, çıldıracak, si...</td>\n",
       "      <td>allah çıldıracağım ye eder çıldıracak sinirimd...</td>\n",
       "    </tr>\n",
       "    <tr>\n",
       "      <th>1</th>\n",
       "      <td>site ne zaman çalıştıda ürün stokları bitti di...</td>\n",
       "      <td>kızgın</td>\n",
       "      <td>[si, zama, çalıştı, ür, stok, bit, diyor, mal,...</td>\n",
       "      <td>si zama çalıştı ür stok bit diyor mal oğl kand...</td>\n",
       "    </tr>\n",
       "    <tr>\n",
       "      <th>2</th>\n",
       "      <td>Sebebi neydi ki diye bağıracağım şimdi az kaldı</td>\n",
       "      <td>kızgın</td>\n",
       "      <td>[sebep, di, bağıracak, az, kal]</td>\n",
       "      <td>sebep di bağıracak az kal</td>\n",
       "    </tr>\n",
       "    <tr>\n",
       "      <th>3</th>\n",
       "      <td>Black friday ne amk bu yıl çıkardınız bu bokud...</td>\n",
       "      <td>kızgın</td>\n",
       "      <td>[black, friday, amk, bu, yıl, çıkar, bu, boku,...</td>\n",
       "      <td>black friday amk bu yıl çıkar bu boku mal nesiniz</td>\n",
       "    </tr>\n",
       "    <tr>\n",
       "      <th>4</th>\n",
       "      <td>kısa kısa cevaplar vericeksen niye yazıyorsun ...</td>\n",
       "      <td>kızgın</td>\n",
       "      <td>[kıs, kıs, cevap, vericek, ni, yazıyor, gerize...</td>\n",
       "      <td>kıs kıs cevap vericek ni yazıyor gerizekal</td>\n",
       "    </tr>\n",
       "  </tbody>\n",
       "</table>\n",
       "</div>"
      ],
      "text/plain": [
       "                                                Text   Label   \n",
       "0  Allah'ım çıldıracağım. Yemin ederim çıldıracağ...  kızgın  \\\n",
       "1  site ne zaman çalıştıda ürün stokları bitti di...  kızgın   \n",
       "2    Sebebi neydi ki diye bağıracağım şimdi az kaldı  kızgın   \n",
       "3  Black friday ne amk bu yıl çıkardınız bu bokud...  kızgın   \n",
       "4  kısa kısa cevaplar vericeksen niye yazıyorsun ...  kızgın   \n",
       "\n",
       "                                              Text_2   \n",
       "0  [allah, çıldıracağım, ye, eder, çıldıracak, si...  \\\n",
       "1  [si, zama, çalıştı, ür, stok, bit, diyor, mal,...   \n",
       "2                    [sebep, di, bağıracak, az, kal]   \n",
       "3  [black, friday, amk, bu, yıl, çıkar, bu, boku,...   \n",
       "4  [kıs, kıs, cevap, vericek, ni, yazıyor, gerize...   \n",
       "\n",
       "                                              Text_3  \n",
       "0  allah çıldıracağım ye eder çıldıracak sinirimd...  \n",
       "1  si zama çalıştı ür stok bit diyor mal oğl kand...  \n",
       "2                          sebep di bağıracak az kal  \n",
       "3  black friday amk bu yıl çıkar bu boku mal nesiniz  \n",
       "4         kıs kıs cevap vericek ni yazıyor gerizekal  "
      ]
     },
     "execution_count": 2,
     "metadata": {},
     "output_type": "execute_result"
    }
   ],
   "source": [
    "df = pd.read_csv(\"data/metin_siniflandirma.csv\" , index_col=0)\n",
    "df[\"Text_2\"] = df[\"Text\"].apply(on_islem.pre_processing)\n",
    "df[\"Text_2\"] = df[\"Text_2\"].apply(on_islem.remove_space)\n",
    "df[\"Text_3\"] = [' '.join(wrd for wrd in x) for x in df[\"Text_2\"]]\n",
    "df_index = df[df[\"Text_2\"].str[0].isnull()].index\n",
    "df = df.drop(df_index)\n",
    "df = df.reset_index()\n",
    "del df[\"index\"]\n",
    "df.head()"
   ]
  },
  {
   "cell_type": "code",
   "execution_count": 3,
   "id": "a06c048f",
   "metadata": {},
   "outputs": [
    {
     "data": {
      "text/plain": [
       "Label\n",
       "korku      800\n",
       "kızgın     799\n",
       "mutlu      800\n",
       "surpriz    800\n",
       "üzgün      799\n",
       "dtype: int64"
      ]
     },
     "execution_count": 3,
     "metadata": {},
     "output_type": "execute_result"
    }
   ],
   "source": [
    "df.groupby(\"Label\").size()"
   ]
  },
  {
   "cell_type": "code",
   "execution_count": 4,
   "id": "508ca725",
   "metadata": {},
   "outputs": [],
   "source": [
    "msg_train , msg_test , label_train , label_test = train_test_split(df[\"Text_3\"].tolist(), df[\"Label\"].tolist() , test_size=0.2 , random_state=42)"
   ]
  },
  {
   "cell_type": "code",
   "execution_count": 5,
   "id": "ec05b755",
   "metadata": {},
   "outputs": [
    {
     "data": {
      "text/plain": [
       "label\n",
       "korku      164\n",
       "kızgın     169\n",
       "mutlu      160\n",
       "surpriz    155\n",
       "üzgün      152\n",
       "dtype: int64"
      ]
     },
     "execution_count": 5,
     "metadata": {},
     "output_type": "execute_result"
    }
   ],
   "source": [
    "df_test = pd.DataFrame({\"text\": msg_test , 'label' : label_test})\n",
    "df_test.groupby(\"label\").size()"
   ]
  },
  {
   "cell_type": "code",
   "execution_count": 6,
   "id": "aae6d89c",
   "metadata": {},
   "outputs": [],
   "source": [
    "svm = Pipeline([('vect' , TfidfVectorizer()) , ('svm' , LinearSVC())])"
   ]
  },
  {
   "cell_type": "code",
   "execution_count": 7,
   "id": "7ca3530a",
   "metadata": {},
   "outputs": [],
   "source": [
    "svm.fit(msg_train , label_train)\n",
    "y_pred_class = svm.predict(msg_test)"
   ]
  },
  {
   "cell_type": "code",
   "execution_count": 8,
   "id": "038bd5c8",
   "metadata": {},
   "outputs": [
    {
     "name": "stdout",
     "output_type": "stream",
     "text": [
      "svm accuracy score:  0.98\n"
     ]
    }
   ],
   "source": [
    "print(\"svm accuracy score: \" ,accuracy_score(label_test , y_pred_class))"
   ]
  },
  {
   "cell_type": "code",
   "execution_count": 9,
   "id": "d1cfa8d2",
   "metadata": {},
   "outputs": [
    {
     "name": "stdout",
     "output_type": "stream",
     "text": [
      "svm f1 score: 0.9800164473703513\n"
     ]
    }
   ],
   "source": [
    "print(\"svm f1 score:\" , f1_score(label_test , y_pred_class , average=\"weighted\"))"
   ]
  },
  {
   "cell_type": "code",
   "execution_count": 10,
   "id": "d29ce7d0",
   "metadata": {},
   "outputs": [
    {
     "data": {
      "text/plain": [
       "784.0"
      ]
     },
     "execution_count": 10,
     "metadata": {},
     "output_type": "execute_result"
    }
   ],
   "source": [
    "len(label_test)*0.98"
   ]
  },
  {
   "cell_type": "code",
   "execution_count": 11,
   "id": "645dcb92",
   "metadata": {},
   "outputs": [
    {
     "data": {
      "text/plain": [
       "<sklearn.metrics._plot.confusion_matrix.ConfusionMatrixDisplay at 0x18d45eaf040>"
      ]
     },
     "execution_count": 11,
     "metadata": {},
     "output_type": "execute_result"
    },
    {
     "data": {
      "image/png": "[encoded data removed]",
      "text/plain": [
       "<Figure size 640x480 with 2 Axes>"
      ]
     },
     "metadata": {},
     "output_type": "display_data"
    }
   ],
   "source": [
    "cm = confusion_matrix(label_test , y_pred_class , labels = svm.classes_)\n",
    "disp = ConfusionMatrixDisplay(confusion_matrix=cm,display_labels=svm.classes_)\n",
    "disp.plot()"
   ]
  },
  {
   "cell_type": "code",
   "execution_count": 12,
   "id": "526c383d",
   "metadata": {},
   "outputs": [
    {
     "data": {
      "text/plain": [
       "array(['üzgün'], dtype='<U7')"
      ]
     },
     "execution_count": 12,
     "metadata": {},
     "output_type": "execute_result"
    }
   ],
   "source": [
    "msg_test_2 = [\"ben biraz kötü gibiyim\"]\n",
    "y_pred_class = svm.predict(msg_test_2)\n",
    "y_pred_class"
   ]
  },
  {
   "cell_type": "code",
   "execution_count": 18,
   "id": "f0ece9bc",
   "metadata": {},
   "outputs": [],
   "source": [
    "model = Word2Vec.load(\"data/word2vec.model\")\n",
    "model.build_vocab(df[\"Text_2\"].tolist(),update=True)\n",
    "model.save(\"data/word2vec.model\")"
   ]
  },
  {
   "cell_type": "code",
   "execution_count": 19,
   "id": "37c30b04",
   "metadata": {},
   "outputs": [],
   "source": [
    "df[\"word2vec\"] = df[\"Text_2\"].apply(on_islem.word2vec)"
   ]
  },
  {
   "cell_type": "code",
   "execution_count": 20,
   "id": "fa91392a",
   "metadata": {},
   "outputs": [
    {
     "data": {
      "text/html": [
       "<div>\n",
       "<style scoped>\n",
       "    .dataframe tbody tr th:only-of-type {\n",
       "        vertical-align: middle;\n",
       "    }\n",
       "\n",
       "    .dataframe tbody tr th {\n",
       "        vertical-align: top;\n",
       "    }\n",
       "\n",
       "    .dataframe thead th {\n",
       "        text-align: right;\n",
       "    }\n",
       "</style>\n",
       "<table border=\"1\" class=\"dataframe\">\n",
       "  <thead>\n",
       "    <tr style=\"text-align: right;\">\n",
       "      <th></th>\n",
       "      <th>Text</th>\n",
       "      <th>Label</th>\n",
       "      <th>Text_2</th>\n",
       "      <th>Text_3</th>\n",
       "      <th>word2vec</th>\n",
       "    </tr>\n",
       "  </thead>\n",
       "  <tbody>\n",
       "    <tr>\n",
       "      <th>0</th>\n",
       "      <td>Allah'ım çıldıracağım. Yemin ederim çıldıracağ...</td>\n",
       "      <td>kızgın</td>\n",
       "      <td>[allah, çıldıracağım, ye, eder, çıldıracak, si...</td>\n",
       "      <td>allah çıldıracağım ye eder çıldıracak sinirimd...</td>\n",
       "      <td>[-0.002819892717525363, 0.014595466665923595, ...</td>\n",
       "    </tr>\n",
       "    <tr>\n",
       "      <th>1</th>\n",
       "      <td>site ne zaman çalıştıda ürün stokları bitti di...</td>\n",
       "      <td>kızgın</td>\n",
       "      <td>[si, zama, çalıştı, ür, stok, bit, diyor, mal,...</td>\n",
       "      <td>si zama çalıştı ür stok bit diyor mal oğl kand...</td>\n",
       "      <td>[-0.0052143270149827, 0.011839079670608044, 0....</td>\n",
       "    </tr>\n",
       "    <tr>\n",
       "      <th>2</th>\n",
       "      <td>Sebebi neydi ki diye bağıracağım şimdi az kaldı</td>\n",
       "      <td>kızgın</td>\n",
       "      <td>[sebep, di, bağıracak, az, kal]</td>\n",
       "      <td>sebep di bağıracak az kal</td>\n",
       "      <td>[-0.002976463409140706, 0.013642929494380951, ...</td>\n",
       "    </tr>\n",
       "    <tr>\n",
       "      <th>3</th>\n",
       "      <td>Black friday ne amk bu yıl çıkardınız bu bokud...</td>\n",
       "      <td>kızgın</td>\n",
       "      <td>[black, friday, amk, bu, yıl, çıkar, bu, boku,...</td>\n",
       "      <td>black friday amk bu yıl çıkar bu boku mal nesiniz</td>\n",
       "      <td>[-0.018368545919656754, 0.03448396921157837, 0...</td>\n",
       "    </tr>\n",
       "    <tr>\n",
       "      <th>4</th>\n",
       "      <td>kısa kısa cevaplar vericeksen niye yazıyorsun ...</td>\n",
       "      <td>kızgın</td>\n",
       "      <td>[kıs, kıs, cevap, vericek, ni, yazıyor, gerize...</td>\n",
       "      <td>kıs kıs cevap vericek ni yazıyor gerizekal</td>\n",
       "      <td>[-0.005915171932429075, 0.011846324428915977, ...</td>\n",
       "    </tr>\n",
       "  </tbody>\n",
       "</table>\n",
       "</div>"
      ],
      "text/plain": [
       "                                                Text   Label   \n",
       "0  Allah'ım çıldıracağım. Yemin ederim çıldıracağ...  kızgın  \\\n",
       "1  site ne zaman çalıştıda ürün stokları bitti di...  kızgın   \n",
       "2    Sebebi neydi ki diye bağıracağım şimdi az kaldı  kızgın   \n",
       "3  Black friday ne amk bu yıl çıkardınız bu bokud...  kızgın   \n",
       "4  kısa kısa cevaplar vericeksen niye yazıyorsun ...  kızgın   \n",
       "\n",
       "                                              Text_2   \n",
       "0  [allah, çıldıracağım, ye, eder, çıldıracak, si...  \\\n",
       "1  [si, zama, çalıştı, ür, stok, bit, diyor, mal,...   \n",
       "2                    [sebep, di, bağıracak, az, kal]   \n",
       "3  [black, friday, amk, bu, yıl, çıkar, bu, boku,...   \n",
       "4  [kıs, kıs, cevap, vericek, ni, yazıyor, gerize...   \n",
       "\n",
       "                                              Text_3   \n",
       "0  allah çıldıracağım ye eder çıldıracak sinirimd...  \\\n",
       "1  si zama çalıştı ür stok bit diyor mal oğl kand...   \n",
       "2                          sebep di bağıracak az kal   \n",
       "3  black friday amk bu yıl çıkar bu boku mal nesiniz   \n",
       "4         kıs kıs cevap vericek ni yazıyor gerizekal   \n",
       "\n",
       "                                            word2vec  \n",
       "0  [-0.002819892717525363, 0.014595466665923595, ...  \n",
       "1  [-0.0052143270149827, 0.011839079670608044, 0....  \n",
       "2  [-0.002976463409140706, 0.013642929494380951, ...  \n",
       "3  [-0.018368545919656754, 0.03448396921157837, 0...  \n",
       "4  [-0.005915171932429075, 0.011846324428915977, ...  "
      ]
     },
     "execution_count": 20,
     "metadata": {},
     "output_type": "execute_result"
    }
   ],
   "source": [
    "df.head()"
   ]
  },
  {
   "cell_type": "code",
   "execution_count": 23,
   "id": "69f06754",
   "metadata": {},
   "outputs": [
    {
     "name": "stdout",
     "output_type": "stream",
     "text": [
      "svm accuracy score:  0.39375\n",
      "svm f1 score: 0.3783110822210418\n"
     ]
    }
   ],
   "source": [
    "msg_train , msg_test , label_train , label_test = train_test_split(df[\"word2vec\"].tolist(), df[\"Label\"].tolist() , test_size=0.2 , random_state=42)\n",
    "svm = Pipeline([('svm' , LinearSVC())])\n",
    "svm.fit(msg_train , label_train)\n",
    "y_pred_class = svm.predict(msg_test)\n",
    "print(\"svm accuracy score: \" ,accuracy_score(label_test , y_pred_class))\n",
    "print(\"svm f1 score:\" , f1_score(label_test , y_pred_class , average=\"weighted\"))\n"
   ]
  },
  {
   "cell_type": "code",
   "execution_count": 24,
   "id": "8d5b87e9",
   "metadata": {},
   "outputs": [
    {
     "data": {
      "text/plain": [
       "<sklearn.metrics._plot.confusion_matrix.ConfusionMatrixDisplay at 0x18d4e87bd90>"
      ]
     },
     "execution_count": 24,
     "metadata": {},
     "output_type": "execute_result"
    },
    {
     "data": {
      "image/png": "[encoded data removed]",
      "text/plain": [
       "<Figure size 640x480 with 2 Axes>"
      ]
     },
     "metadata": {},
     "output_type": "display_data"
    }
   ],
   "source": [
    "cm = confusion_matrix(label_test , y_pred_class , labels = svm.classes_)\n",
    "disp = ConfusionMatrixDisplay(confusion_matrix=cm,display_labels=svm.classes_)\n",
    "disp.plot()"
   ]
  },
  {
   "cell_type": "code",
   "execution_count": 29,
   "id": "bb441d98",
   "metadata": {},
   "outputs": [
    {
     "name": "stdout",
     "output_type": "stream",
     "text": [
      "knn accuracy score:  0.7725\n",
      "knn f1 score: 0.7724940391665156\n"
     ]
    }
   ],
   "source": [
    "msg_train , msg_test , label_train , label_test = train_test_split(df[\"Text_3\"].tolist(), df[\"Label\"].tolist() , test_size=0.2 , random_state=42)\n",
    "knn = Pipeline([('vect' , TfidfVectorizer()),('knn' , KNeighborsClassifier())])\n",
    "knn.fit(msg_train , label_train)\n",
    "y_pred_class = knn.predict(msg_test)\n",
    "print(\"knn accuracy score: \" ,accuracy_score(label_test , y_pred_class))\n",
    "print(\"knn f1 score:\" , f1_score(label_test , y_pred_class , average=\"weighted\"))"
   ]
  },
  {
   "cell_type": "code",
   "execution_count": 30,
   "id": "c420eb34",
   "metadata": {},
   "outputs": [
    {
     "data": {
      "text/plain": [
       "<sklearn.metrics._plot.confusion_matrix.ConfusionMatrixDisplay at 0x18d5071b6d0>"
      ]
     },
     "execution_count": 30,
     "metadata": {},
     "output_type": "execute_result"
    },
    {
     "data": {
      "image/png": "[encoded data removed]",
      "text/plain": [
       "<Figure size 640x480 with 2 Axes>"
      ]
     },
     "metadata": {},
     "output_type": "display_data"
    }
   ],
   "source": [
    "cm = confusion_matrix(label_test , y_pred_class , labels = svm.classes_)\n",
    "disp = ConfusionMatrixDisplay(confusion_matrix=cm,display_labels=svm.classes_)\n",
    "disp.plot()"
   ]
  },
  {
   "cell_type": "code",
   "execution_count": 31,
   "id": "245150fa",
   "metadata": {},
   "outputs": [
    {
     "name": "stdout",
     "output_type": "stream",
     "text": [
      "knn accuracy score:  0.3275\n",
      "knn f1 score: 0.3172856954733596\n"
     ]
    }
   ],
   "source": [
    "msg_train , msg_test , label_train , label_test = train_test_split(df[\"word2vec\"].tolist(), df[\"Label\"].tolist() , test_size=0.2 , random_state=42)\n",
    "knn = Pipeline([('knn' , KNeighborsClassifier())])\n",
    "knn.fit(msg_train , label_train)\n",
    "y_pred_class = knn.predict(msg_test)\n",
    "print(\"knn accuracy score: \" ,accuracy_score(label_test , y_pred_class))\n",
    "print(\"knn f1 score:\" , f1_score(label_test , y_pred_class , average=\"weighted\"))"
   ]
  }
 ],
 "metadata": {
  "kernelspec": {
   "display_name": "Python 3 (ipykernel)",
   "language": "python",
   "name": "python3"
  },
  "language_info": {
   "codemirror_mode": {
    "name": "ipython",
    "version": 3
   },
   "file_extension": ".py",
   "mimetype": "text/x-python",
   "name": "python",
   "nbconvert_exporter": "python",
   "pygments_lexer": "ipython3",
   "version": "3.10.10"
  }
 },
 "nbformat": 4,
 "nbformat_minor": 5
}
