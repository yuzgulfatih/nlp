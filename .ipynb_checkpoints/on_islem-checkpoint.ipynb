{
 "cells": [
  {
   "cell_type": "markdown",
   "id": "f7a8ef7d-c76f-428f-992b-45eb82497c7d",
   "metadata": {},
   "source": [
    "# ÖN İŞLEM"
   ]
  },
  {
   "cell_type": "code",
   "execution_count": 3,
   "id": "7277c65f-4596-4e6b-895f-d123c1a3ee72",
   "metadata": {},
   "outputs": [],
   "source": [
    "text = open(\"data/nlp.txt\" , \"r\")\n",
    "nlp = text.read()"
   ]
  },
  {
   "cell_type": "code",
   "execution_count": 5,
   "id": "229500b6-ac2e-4e11-a0df-49f6ae8cb6bd",
   "metadata": {},
   "outputs": [
    {
     "data": {
      "text/plain": [
       "'NLP yani Doğal Dil İşleme, doğal dillerin kurallı yapısının çözümlenerek anlaşılması veya yeniden üretilmesi amacını taşır.Bu çözümlemenin insana getireceği kolaylıklar, yazılı dokümanların otomatik çevrilmesi, soru-cevap makineleri, otomatik konuşma ve komut anlama, konuşma sentezi, konuşma üretme, otomatik metin özetleme, bilgi sağlama gibi birçok başlıkla özetlenebilir. Bilgisayar teknolojisinin yaygın kullanımı, bu başlıklardan üretilen uzman yazılımların gündelik hayatımızın her alanına girmesini sağlamıştır. Örneğin, tüm kelime işlem yazılımları birer imlâ düzeltme aracı taşır. Bu araçlar aslında yazılan metni çözümleyerek dil kurallarını denetleyen doğal dil işleme yazılımlarıdır.'"
      ]
     },
     "execution_count": 5,
     "metadata": {},
     "output_type": "execute_result"
    }
   ],
   "source": [
    "nlp"
   ]
  },
  {
   "cell_type": "code",
   "execution_count": 6,
   "id": "aca94abf-4933-4c0a-aa84-58877a5aa7f8",
   "metadata": {},
   "outputs": [],
   "source": [
    "import pandas as pd"
   ]
  },
  {
   "cell_type": "code",
   "execution_count": 7,
   "id": "d3f3e3ed-9a6b-451e-b940-8248100e8f7a",
   "metadata": {},
   "outputs": [
    {
     "data": {
      "text/html": [
       "<div>\n",
       "<style scoped>\n",
       "    .dataframe tbody tr th:only-of-type {\n",
       "        vertical-align: middle;\n",
       "    }\n",
       "\n",
       "    .dataframe tbody tr th {\n",
       "        vertical-align: top;\n",
       "    }\n",
       "\n",
       "    .dataframe thead th {\n",
       "        text-align: right;\n",
       "    }\n",
       "</style>\n",
       "<table border=\"1\" class=\"dataframe\">\n",
       "  <thead>\n",
       "    <tr style=\"text-align: right;\">\n",
       "      <th></th>\n",
       "      <th>Text</th>\n",
       "    </tr>\n",
       "  </thead>\n",
       "  <tbody>\n",
       "    <tr>\n",
       "      <th>0</th>\n",
       "      <td>Yapay Zeka Nedir, Ne İşe Yarar?\\n\\nYapay zeka ...</td>\n",
       "    </tr>\n",
       "    <tr>\n",
       "      <th>1</th>\n",
       "      <td>🔎 Verilerinizi analiz edin: \\nChatGPT'yi kulla...</td>\n",
       "    </tr>\n",
       "    <tr>\n",
       "      <th>2</th>\n",
       "      <td>Öncelikle yapay zekanın ne olduğunu, #dijitala...</td>\n",
       "    </tr>\n",
       "    <tr>\n",
       "      <th>3</th>\n",
       "      <td>9. Baidu Research: Çin'in önde gelen arama mot...</td>\n",
       "    </tr>\n",
       "    <tr>\n",
       "      <th>4</th>\n",
       "      <td>4. Microsoft AI: Microsoft'un yapay zeka tekno...</td>\n",
       "    </tr>\n",
       "    <tr>\n",
       "      <th>...</th>\n",
       "      <td>...</td>\n",
       "    </tr>\n",
       "    <tr>\n",
       "      <th>853</th>\n",
       "      <td>doğal dil işleme alanında yüksek lisans-doktor...</td>\n",
       "    </tr>\n",
       "    <tr>\n",
       "      <th>854</th>\n",
       "      <td>dogal dil isleme şeyleri</td>\n",
       "    </tr>\n",
       "    <tr>\n",
       "      <th>855</th>\n",
       "      <td>Bir veri madenciliği ve doğal dil işleme uygul...</td>\n",
       "    </tr>\n",
       "    <tr>\n",
       "      <th>856</th>\n",
       "      <td>\"Doğal dil işleme\" ile ilgili deneyimi olan ya...</td>\n",
       "    </tr>\n",
       "    <tr>\n",
       "      <th>857</th>\n",
       "      <td>Haftaya öğrencilik hayatıma kaldığım yerden de...</td>\n",
       "    </tr>\n",
       "  </tbody>\n",
       "</table>\n",
       "<p>858 rows × 1 columns</p>\n",
       "</div>"
      ],
      "text/plain": [
       "                                                  Text\n",
       "0    Yapay Zeka Nedir, Ne İşe Yarar?\\n\\nYapay zeka ...\n",
       "1    🔎 Verilerinizi analiz edin: \\nChatGPT'yi kulla...\n",
       "2    Öncelikle yapay zekanın ne olduğunu, #dijitala...\n",
       "3    9. Baidu Research: Çin'in önde gelen arama mot...\n",
       "4    4. Microsoft AI: Microsoft'un yapay zeka tekno...\n",
       "..                                                 ...\n",
       "853  doğal dil işleme alanında yüksek lisans-doktor...\n",
       "854                           dogal dil isleme şeyleri\n",
       "855  Bir veri madenciliği ve doğal dil işleme uygul...\n",
       "856  \"Doğal dil işleme\" ile ilgili deneyimi olan ya...\n",
       "857  Haftaya öğrencilik hayatıma kaldığım yerden de...\n",
       "\n",
       "[858 rows x 1 columns]"
      ]
     },
     "execution_count": 7,
     "metadata": {},
     "output_type": "execute_result"
    }
   ],
   "source": [
    "df = pd.read_csv(\"data/nlp.csv\" , index_col = 0)\n",
    "df"
   ]
  },
  {
   "cell_type": "code",
   "execution_count": 8,
   "id": "95c31c7a-3624-41b8-9b4f-0545349a8af3",
   "metadata": {},
   "outputs": [
    {
     "name": "stdout",
     "output_type": "stream",
     "text": [
      "['M', 'u', 'h', 'a', 'm', 'm', 'e', 'd', ' ', 'F', 'a', 't', 'i', 'h', ' ']\n"
     ]
    },
    {
     "data": {
      "text/plain": [
       "'Muhammed Fatih '"
      ]
     },
     "execution_count": 8,
     "metadata": {},
     "output_type": "execute_result"
    }
   ],
   "source": [
    "#sayısal değerlerin kaldırılması\n",
    "def remove_numeric(value):\n",
    "    bfr = [item for item in value if not item.isdigit()]\n",
    "    print(bfr)\n",
    "    bfr = \"\".join(bfr)\n",
    "    return bfr\n",
    "text = \"Muhammed Fatih 123\"\n",
    "remove_numeric(text)"
   ]
  },
  {
   "cell_type": "code",
   "execution_count": null,
   "id": "e62b23b5-0957-444b-a9e1-cfe51640ee97",
   "metadata": {},
   "outputs": [],
   "source": []
  }
 ],
 "metadata": {
  "kernelspec": {
   "display_name": "Python 3 (ipykernel)",
   "language": "python",
   "name": "python3"
  },
  "language_info": {
   "codemirror_mode": {
    "name": "ipython",
    "version": 3
   },
   "file_extension": ".py",
   "mimetype": "text/x-python",
   "name": "python",
   "nbconvert_exporter": "python",
   "pygments_lexer": "ipython3",
   "version": "3.10.10"
  }
 },
 "nbformat": 4,
 "nbformat_minor": 5
}
