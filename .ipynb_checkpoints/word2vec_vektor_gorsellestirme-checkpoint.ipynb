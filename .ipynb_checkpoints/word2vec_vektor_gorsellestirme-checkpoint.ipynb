{
 "cells": [
  {
   "cell_type": "markdown",
   "id": "c217e037-4eed-4b0c-9a93-8b989d67d46d",
   "metadata": {},
   "source": [
    "# Word2vec Vektör Görselleştime"
   ]
  },
  {
   "cell_type": "code",
   "execution_count": null,
   "id": "6d5eadc8-63b3-41c6-b1c5-61df8dc9748a",
   "metadata": {},
   "outputs": [],
   "source": []
  }
 ],
 "metadata": {
  "kernelspec": {
   "display_name": "Python 3 (ipykernel)",
   "language": "python",
   "name": "python3"
  },
  "language_info": {
   "codemirror_mode": {
    "name": "ipython",
    "version": 3
   },
   "file_extension": ".py",
   "mimetype": "text/x-python",
   "name": "python",
   "nbconvert_exporter": "python",
   "pygments_lexer": "ipython3",
   "version": "3.10.10"
  }
 },
 "nbformat": 4,
 "nbformat_minor": 5
}
